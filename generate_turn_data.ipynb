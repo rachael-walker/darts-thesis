{
 "cells": [
  {
   "cell_type": "code",
   "execution_count": 1,
   "metadata": {},
   "outputs": [
    {
     "name": "stderr",
     "output_type": "stream",
     "text": [
      "/Users/rachael/miniconda3/envs/darts/lib/python3.10/site-packages/tqdm/auto.py:21: TqdmWarning: IProgress not found. Please update jupyter and ipywidgets. See https://ipywidgets.readthedocs.io/en/stable/user_install.html\n",
      "  from .autonotebook import tqdm as notebook_tqdm\n"
     ]
    }
   ],
   "source": [
    "import os\n",
    "\n",
    "import sys\n",
    "import time\n",
    "\n",
    "import init_load_board as ib \n",
    "import init_simple_mdp as imdp\n",
    "\n",
    "import function_board as fb \n",
    "import function_tool as ft\n",
    "\n",
    "import pandas as pd\n",
    "\n",
    "import numpy as np\n",
    "np.set_printoptions(precision=4)\n",
    "np.set_printoptions(linewidth=300)\n",
    "np.set_printoptions(threshold=300)\n",
    "\n",
    "import torch\n",
    "torch.set_printoptions(precision=4)\n",
    "torch.set_printoptions(linewidth=300)\n",
    "torch.set_printoptions(threshold=300)\n",
    "\n",
    "import helpers as h \n",
    "\n",
    "#%%\n",
    "data_parameter_dir = fb.data_parameter_dir\n",
    "result_dir = './result'  \n",
    "\n",
    "#os.chdir('darts-thesis')\n"
   ]
  },
  {
   "cell_type": "code",
   "execution_count": 2,
   "metadata": {},
   "outputs": [
    {
     "name": "stdout",
     "output_type": "stream",
     "text": [
      "load_pickle from ./data_parameter/player_gaussin_fit/grid_custom_no_tokens/player10_e1_gaussin_prob_grid_custom_no_tokens.pkl\n",
      "load_pickle from ./data_parameter/player_gaussin_fit/grid_custom_tokens/t_gaussin_prob_grid_custom_tokens.pkl\n"
     ]
    },
    {
     "name": "stderr",
     "output_type": "stream",
     "text": [
      "/Users/rachael/Desktop/darts-thesis/helpers.py:719: RuntimeWarning: divide by zero encountered in divide\n",
      "  num_tothrow = num_tothrow / prob_otherstate\n",
      "/Users/rachael/Desktop/darts-thesis/helpers.py:719: RuntimeWarning: overflow encountered in divide\n",
      "  num_tothrow = num_tothrow / prob_otherstate\n",
      "/Users/rachael/Desktop/darts-thesis/helpers.py:757: RuntimeWarning: divide by zero encountered in divide\n",
      "  num_tothrow = num_tothrow / prob_otherstate\n",
      "/Users/rachael/Desktop/darts-thesis/helpers.py:757: RuntimeWarning: overflow encountered in divide\n",
      "  num_tothrow = num_tothrow / prob_otherstate\n",
      "/Users/rachael/Desktop/darts-thesis/helpers.py:1190: RuntimeWarning: divide by zero encountered in divide\n",
      "  num_turns_array[:,score_gained_index] = num_turns_array[:,score_gained_index] / prob_notbust_dic_nt[score_max]\n",
      "/Users/rachael/Desktop/darts-thesis/helpers.py:1190: RuntimeWarning: overflow encountered in divide\n",
      "  num_turns_array[:,score_gained_index] = num_turns_array[:,score_gained_index] / prob_notbust_dic_nt[score_max]\n",
      "/Users/rachael/Desktop/darts-thesis/helpers.py:1177: RuntimeWarning: divide by zero encountered in divide\n",
      "  num_turns_array[:imdp.throw_num,score_gained_index] = num_turns_array[:imdp.throw_num,score_gained_index] / prob_notbust_dic_nt[score_max][:imdp.throw_num]\n",
      "/Users/rachael/Desktop/darts-thesis/helpers.py:1177: RuntimeWarning: overflow encountered in divide\n",
      "  num_turns_array[:imdp.throw_num,score_gained_index] = num_turns_array[:imdp.throw_num,score_gained_index] / prob_notbust_dic_nt[score_max][:imdp.throw_num]\n",
      "/Users/rachael/Desktop/darts-thesis/helpers.py:1183: RuntimeWarning: divide by zero encountered in divide\n",
      "  num_turns_array[imdp.throw_num:,score_gained_index] = num_turns_array[imdp.throw_num:,score_gained_index] / prob_notbust_dic_t[score_max][imdp.throw_num:]\n",
      "/Users/rachael/Desktop/darts-thesis/helpers.py:1210: RuntimeWarning: divide by zero encountered in divide\n",
      "  value_relerror[rt] = np.abs((state_value_update[rt] - state_value[rt])/state_value_update[rt]).max()\n",
      "/Users/rachael/Desktop/darts-thesis/helpers.py:1210: RuntimeWarning: invalid value encountered in divide\n",
      "  value_relerror[rt] = np.abs((state_value_update[rt] - state_value[rt])/state_value_update[rt]).max()\n"
     ]
    },
    {
     "name": "stdout",
     "output_type": "stream",
     "text": [
      "solve prob_policy_transit in 2.87862491607666 seconds\n",
      "solve dp_turn_policyiter in 25.59364676475525 seconds\n",
      "[[0.     0.     1.8856 ... 5.5944 5.5758 5.6116]\n",
      " [0.     0.     1.     ... 4.9684 4.9631 4.9765]\n",
      " [0.     0.     1.     ... 4.7444 4.7403 4.7516]\n",
      " ...\n",
      " [0.     0.     1.     ... 3.8073 3.8027 3.8082]\n",
      " [0.     0.     1.     ... 3.5561 3.5447 3.5554]\n",
      " [0.     0.     1.     ... 3.     3.     3.    ]]\n"
     ]
    }
   ],
   "source": [
    "## Solve for Single Case\n",
    "\n",
    "player_num = 10 \n",
    "epsilon = 1\n",
    "tokens = 9\n",
    "name_pa = 'player{}'.format(player_num)\n",
    "\n",
    "[aiming_grid, prob_grid_normalscore_nt, prob_grid_singlescore_nt, prob_grid_doublescore_nt, prob_grid_triplescore_nt, prob_grid_bullscore_nt] = h.load_aiming_grid(name_pa, epsilon=epsilon, data_parameter_dir=data_parameter_dir, grid_version='custom_no_tokens')\n",
    "[aiming_grid, prob_grid_normalscore_t, prob_grid_singlescore_t, prob_grid_doublescore_t, prob_grid_triplescore_t, prob_grid_bullscore_t] = h.load_aiming_grid('t', data_parameter_dir=data_parameter_dir, grid_version='custom_tokens')\n",
    "\n",
    "prob_grid_doublescore_dic = None\n",
    "prob_grid_doublescore_dic_t = None\n",
    "\n",
    "result_dic = h.solve_dp_turn_tokens(tokens, aiming_grid, prob_grid_normalscore_nt, prob_grid_singlescore_nt, prob_grid_doublescore_nt, prob_grid_triplescore_nt, prob_grid_bullscore_nt,prob_grid_normalscore_t, prob_grid_singlescore_t, prob_grid_doublescore_t, prob_grid_triplescore_t, prob_grid_bullscore_t)\n",
    "\n",
    "\n",
    "# print('------------------------------------------------------------------')\n",
    "# print('Optimal Values: ')\n",
    "# print(result_dic['optimal_value_dic'])\n",
    "# print('------------------------------------------------------------------')\n",
    "# print('Optimal Policy}: ')\n",
    "# print(result_dic['optimal_action_index_dic'])"
   ]
  },
  {
   "cell_type": "code",
   "execution_count": 3,
   "metadata": {},
   "outputs": [
    {
     "name": "stdout",
     "output_type": "stream",
     "text": [
      "load_pickle from ./data_parameter/player_gaussin_fit/grid_custom_no_tokens/player10_e1_gaussin_prob_grid_custom_no_tokens.pkl\n",
      "load_pickle from ./data_parameter/player_gaussin_fit/grid_custom_tokens/t_gaussin_prob_grid_custom_tokens.pkl\n"
     ]
    },
    {
     "name": "stderr",
     "output_type": "stream",
     "text": [
      "/Users/rachael/Desktop/darts-thesis/helpers.py:693: RuntimeWarning: divide by zero encountered in divide\n",
      "  num_tothrow = num_tothrow / prob_otherstate\n",
      "/Users/rachael/Desktop/darts-thesis/helpers.py:693: RuntimeWarning: overflow encountered in divide\n",
      "  num_tothrow = num_tothrow / prob_otherstate\n",
      "/Users/rachael/Desktop/darts-thesis/helpers.py:731: RuntimeWarning: divide by zero encountered in divide\n",
      "  num_tothrow = num_tothrow / prob_otherstate\n",
      "/Users/rachael/Desktop/darts-thesis/helpers.py:731: RuntimeWarning: overflow encountered in divide\n",
      "  num_tothrow = num_tothrow / prob_otherstate\n",
      "/Users/rachael/Desktop/darts-thesis/helpers.py:1163: RuntimeWarning: divide by zero encountered in divide\n",
      "  num_turns_array[:,score_gained_index] = num_turns_array[:,score_gained_index] / prob_notbust_dic_nt[score_max]\n",
      "/Users/rachael/Desktop/darts-thesis/helpers.py:1163: RuntimeWarning: overflow encountered in divide\n",
      "  num_turns_array[:,score_gained_index] = num_turns_array[:,score_gained_index] / prob_notbust_dic_nt[score_max]\n",
      "/Users/rachael/Desktop/darts-thesis/helpers.py:1150: RuntimeWarning: divide by zero encountered in divide\n",
      "  num_turns_array[:imdp.throw_num,score_gained_index] = num_turns_array[:imdp.throw_num,score_gained_index] / prob_notbust_dic_nt[score_max][:imdp.throw_num]\n",
      "/Users/rachael/Desktop/darts-thesis/helpers.py:1150: RuntimeWarning: overflow encountered in divide\n",
      "  num_turns_array[:imdp.throw_num,score_gained_index] = num_turns_array[:imdp.throw_num,score_gained_index] / prob_notbust_dic_nt[score_max][:imdp.throw_num]\n",
      "/Users/rachael/Desktop/darts-thesis/helpers.py:1156: RuntimeWarning: divide by zero encountered in divide\n",
      "  num_turns_array[imdp.throw_num:,score_gained_index] = num_turns_array[imdp.throw_num:,score_gained_index] / prob_notbust_dic_t[score_max][imdp.throw_num:]\n",
      "/Users/rachael/Desktop/darts-thesis/helpers.py:1183: RuntimeWarning: divide by zero encountered in divide\n",
      "  value_relerror[rt] = np.abs((state_value_update[rt] - state_value[rt])/state_value_update[rt]).max()\n",
      "/Users/rachael/Desktop/darts-thesis/helpers.py:1183: RuntimeWarning: invalid value encountered in divide\n",
      "  value_relerror[rt] = np.abs((state_value_update[rt] - state_value[rt])/state_value_update[rt]).max()\n"
     ]
    },
    {
     "name": "stdout",
     "output_type": "stream",
     "text": [
      "solve dp_turn_policyiter in 24.40428113937378 seconds\n",
      "[[0.     0.     1.8856 ... 5.5944 5.5758 5.6116]\n",
      " [0.     0.     1.     ... 4.9685 4.9631 4.9765]\n",
      " [0.     0.     1.     ... 4.7444 4.7403 4.7516]\n",
      " ...\n",
      " [0.     0.     1.     ... 3.8072 3.8026 3.783 ]\n",
      " [0.     0.     1.     ... 3.5561 3.5447 3.4989]\n",
      " [0.     0.     1.     ... 3.     3.     3.    ]]\n"
     ]
    }
   ],
   "source": [
    "## Solve for Single Case\n",
    "\n",
    "player_num = 10 \n",
    "epsilon = 1\n",
    "tokens = 9\n",
    "name_pa = 'player{}'.format(player_num)\n",
    "\n",
    "[aiming_grid, prob_grid_normalscore_nt, prob_grid_singlescore_nt, prob_grid_doublescore_nt, prob_grid_triplescore_nt, prob_grid_bullscore_nt] = h.load_aiming_grid(name_pa, epsilon=epsilon, data_parameter_dir=data_parameter_dir, grid_version='custom_no_tokens')\n",
    "[aiming_grid, prob_grid_normalscore_t, prob_grid_singlescore_t, prob_grid_doublescore_t, prob_grid_triplescore_t, prob_grid_bullscore_t] = h.load_aiming_grid('t', data_parameter_dir=data_parameter_dir, grid_version='custom_tokens')\n",
    "\n",
    "prob_grid_doublescore_dic = None\n",
    "prob_grid_doublescore_dic_t = None\n",
    "\n",
    "result_dic = h.solve_dp_turn_tokens(tokens, aiming_grid, prob_grid_normalscore_nt, prob_grid_singlescore_nt, prob_grid_doublescore_nt, prob_grid_triplescore_nt, prob_grid_bullscore_nt,prob_grid_normalscore_t, prob_grid_singlescore_t, prob_grid_doublescore_t, prob_grid_triplescore_t, prob_grid_bullscore_t)\n",
    "\n",
    "\n",
    "# print('------------------------------------------------------------------')\n",
    "# print('Optimal Values: ')\n",
    "# print(result_dic['optimal_value_dic'])\n",
    "# print('------------------------------------------------------------------')\n",
    "# print('Optimal Policy}: ')\n",
    "# print(result_dic['optimal_action_index_dic'])"
   ]
  },
  {
   "cell_type": "code",
   "execution_count": 6,
   "metadata": {},
   "outputs": [],
   "source": [
    "def create_result_dataframes(result_dic,epsilon):\n",
    "    \n",
    "    col_names = ['epsilon','tokens','score','remaining_throws','score_gained','optimal_value','optimal_policy']\n",
    "    df_list = []\n",
    "\n",
    "    for s in  result_dic['optimal_value_dic'].keys():\n",
    "        for rt in range(1,4):\n",
    "            for t in range(0,result_dic['optimal_value_dic'][s][rt].shape[0]):\n",
    "                for u in range(0,result_dic['optimal_value_dic'][s][rt].shape[1]):\n",
    "                    optimal_value = result_dic['optimal_value_dic'][s][rt][t][u]\n",
    "                    if optimal_value == 1000:\n",
    "                        continue\n",
    "                    else:\n",
    "                        optimal_policy = result_dic['optimal_action_index_dic'][s][rt][t][u]\n",
    "                        df_list.append([epsilon,t,s,rt,u,optimal_value,optimal_policy])\n",
    "\n",
    "    df = pd.DataFrame(df_list,columns=col_names)\n",
    "        \n",
    "    return df \n"
   ]
  },
  {
   "cell_type": "code",
   "execution_count": 7,
   "metadata": {},
   "outputs": [
    {
     "name": "stdout",
     "output_type": "stream",
     "text": [
      "load_pickle from ./data_parameter/player_gaussin_fit/grid_custom_tokens/t_gaussin_prob_grid_custom_tokens.pkl\n",
      "load_pickle from ./data_parameter/player_gaussin_fit/grid_custom_no_tokens/player10_e1_gaussin_prob_grid_custom_no_tokens.pkl\n"
     ]
    },
    {
     "name": "stderr",
     "output_type": "stream",
     "text": [
      "/Users/rachael/Desktop/darts-thesis/helpers.py:719: RuntimeWarning: divide by zero encountered in divide\n",
      "  num_tothrow = num_tothrow / prob_otherstate\n",
      "/Users/rachael/Desktop/darts-thesis/helpers.py:719: RuntimeWarning: overflow encountered in divide\n",
      "  num_tothrow = num_tothrow / prob_otherstate\n",
      "/Users/rachael/Desktop/darts-thesis/helpers.py:757: RuntimeWarning: divide by zero encountered in divide\n",
      "  num_tothrow = num_tothrow / prob_otherstate\n",
      "/Users/rachael/Desktop/darts-thesis/helpers.py:757: RuntimeWarning: overflow encountered in divide\n",
      "  num_tothrow = num_tothrow / prob_otherstate\n",
      "/Users/rachael/Desktop/darts-thesis/helpers.py:1190: RuntimeWarning: divide by zero encountered in divide\n",
      "  num_turns_array[:,score_gained_index] = num_turns_array[:,score_gained_index] / prob_notbust_dic_nt[score_max]\n",
      "/Users/rachael/Desktop/darts-thesis/helpers.py:1190: RuntimeWarning: overflow encountered in divide\n",
      "  num_turns_array[:,score_gained_index] = num_turns_array[:,score_gained_index] / prob_notbust_dic_nt[score_max]\n",
      "/Users/rachael/Desktop/darts-thesis/helpers.py:1177: RuntimeWarning: divide by zero encountered in divide\n",
      "  num_turns_array[:imdp.throw_num,score_gained_index] = num_turns_array[:imdp.throw_num,score_gained_index] / prob_notbust_dic_nt[score_max][:imdp.throw_num]\n",
      "/Users/rachael/Desktop/darts-thesis/helpers.py:1177: RuntimeWarning: overflow encountered in divide\n",
      "  num_turns_array[:imdp.throw_num,score_gained_index] = num_turns_array[:imdp.throw_num,score_gained_index] / prob_notbust_dic_nt[score_max][:imdp.throw_num]\n",
      "/Users/rachael/Desktop/darts-thesis/helpers.py:1183: RuntimeWarning: divide by zero encountered in divide\n",
      "  num_turns_array[imdp.throw_num:,score_gained_index] = num_turns_array[imdp.throw_num:,score_gained_index] / prob_notbust_dic_t[score_max][imdp.throw_num:]\n",
      "/Users/rachael/Desktop/darts-thesis/helpers.py:1210: RuntimeWarning: divide by zero encountered in divide\n",
      "  value_relerror[rt] = np.abs((state_value_update[rt] - state_value[rt])/state_value_update[rt]).max()\n",
      "/Users/rachael/Desktop/darts-thesis/helpers.py:1210: RuntimeWarning: invalid value encountered in divide\n",
      "  value_relerror[rt] = np.abs((state_value_update[rt] - state_value[rt])/state_value_update[rt]).max()\n"
     ]
    },
    {
     "name": "stdout",
     "output_type": "stream",
     "text": [
      "solve prob_policy_transit in 2.869497776031494 seconds\n",
      "solve dp_turn_policyiter in 26.906985998153687 seconds\n",
      "[[0.     0.     1.8856 ... 5.5944 5.5758 5.6116]\n",
      " [0.     0.     1.     ... 4.9684 4.9631 4.9765]\n",
      " [0.     0.     1.     ... 4.7444 4.7403 4.7516]\n",
      " ...\n",
      " [0.     0.     1.     ... 3.8073 3.8027 3.8082]\n",
      " [0.     0.     1.     ... 3.5561 3.5447 3.5554]\n",
      " [0.     0.     1.     ... 3.     3.     3.    ]]\n",
      "load_pickle from ./data_parameter/player_gaussin_fit/grid_custom_no_tokens/player10_e2_gaussin_prob_grid_custom_no_tokens.pkl\n"
     ]
    },
    {
     "name": "stderr",
     "output_type": "stream",
     "text": [
      "/Users/rachael/Desktop/darts-thesis/helpers.py:719: RuntimeWarning: divide by zero encountered in divide\n",
      "  num_tothrow = num_tothrow / prob_otherstate\n",
      "/Users/rachael/Desktop/darts-thesis/helpers.py:757: RuntimeWarning: divide by zero encountered in divide\n",
      "  num_tothrow = num_tothrow / prob_otherstate\n",
      "/Users/rachael/Desktop/darts-thesis/helpers.py:1183: RuntimeWarning: divide by zero encountered in divide\n",
      "  num_turns_array[imdp.throw_num:,score_gained_index] = num_turns_array[imdp.throw_num:,score_gained_index] / prob_notbust_dic_t[score_max][imdp.throw_num:]\n",
      "/Users/rachael/Desktop/darts-thesis/helpers.py:1210: RuntimeWarning: divide by zero encountered in divide\n",
      "  value_relerror[rt] = np.abs((state_value_update[rt] - state_value[rt])/state_value_update[rt]).max()\n",
      "/Users/rachael/Desktop/darts-thesis/helpers.py:1210: RuntimeWarning: invalid value encountered in divide\n",
      "  value_relerror[rt] = np.abs((state_value_update[rt] - state_value[rt])/state_value_update[rt]).max()\n"
     ]
    },
    {
     "name": "stdout",
     "output_type": "stream",
     "text": [
      "solve prob_policy_transit in 3.8414149284362793 seconds\n",
      "solve dp_turn_policyiter in 27.336097955703735 seconds\n",
      "[[0.     0.     2.5371 ... 7.405  7.4122 7.4278]\n",
      " [0.     0.     1.     ... 6.2669 6.2766 6.2896]\n",
      " [0.     0.     1.     ... 5.8664 5.8755 5.8889]\n",
      " ...\n",
      " [0.     0.     1.     ... 3.9983 3.9972 4.0014]\n",
      " [0.     0.     1.     ... 3.7246 3.6864 3.6893]\n",
      " [0.     0.     1.     ... 3.     3.     3.    ]]\n",
      "load_pickle from ./data_parameter/player_gaussin_fit/grid_custom_no_tokens/player10_e3_gaussin_prob_grid_custom_no_tokens.pkl\n"
     ]
    },
    {
     "name": "stderr",
     "output_type": "stream",
     "text": [
      "/Users/rachael/Desktop/darts-thesis/helpers.py:719: RuntimeWarning: divide by zero encountered in divide\n",
      "  num_tothrow = num_tothrow / prob_otherstate\n",
      "/Users/rachael/Desktop/darts-thesis/helpers.py:757: RuntimeWarning: divide by zero encountered in divide\n",
      "  num_tothrow = num_tothrow / prob_otherstate\n",
      "/Users/rachael/Desktop/darts-thesis/helpers.py:1183: RuntimeWarning: divide by zero encountered in divide\n",
      "  num_turns_array[imdp.throw_num:,score_gained_index] = num_turns_array[imdp.throw_num:,score_gained_index] / prob_notbust_dic_t[score_max][imdp.throw_num:]\n",
      "/Users/rachael/Desktop/darts-thesis/helpers.py:1210: RuntimeWarning: divide by zero encountered in divide\n",
      "  value_relerror[rt] = np.abs((state_value_update[rt] - state_value[rt])/state_value_update[rt]).max()\n",
      "/Users/rachael/Desktop/darts-thesis/helpers.py:1210: RuntimeWarning: invalid value encountered in divide\n",
      "  value_relerror[rt] = np.abs((state_value_update[rt] - state_value[rt])/state_value_update[rt]).max()\n"
     ]
    },
    {
     "name": "stdout",
     "output_type": "stream",
     "text": [
      "solve prob_policy_transit in 4.479038953781128 seconds\n",
      "solve dp_turn_policyiter in 33.744544982910156 seconds\n",
      "[[0.     0.     3.0946 ... 8.938  8.9526 8.9673]\n",
      " [0.     0.     1.     ... 7.3119 7.3263 7.3409]\n",
      " [0.     0.     1.     ... 6.7576 6.772  6.7866]\n",
      " ...\n",
      " [0.     0.     1.     ... 4.1578 4.1653 4.1713]\n",
      " [0.     0.     1.     ... 3.7995 3.7591 3.7597]\n",
      " [0.     0.     1.     ... 3.     3.     3.    ]]\n",
      "load_pickle from ./data_parameter/player_gaussin_fit/grid_custom_no_tokens/player10_e4_gaussin_prob_grid_custom_no_tokens.pkl\n"
     ]
    },
    {
     "name": "stderr",
     "output_type": "stream",
     "text": [
      "/Users/rachael/Desktop/darts-thesis/helpers.py:719: RuntimeWarning: divide by zero encountered in divide\n",
      "  num_tothrow = num_tothrow / prob_otherstate\n",
      "/Users/rachael/Desktop/darts-thesis/helpers.py:757: RuntimeWarning: divide by zero encountered in divide\n",
      "  num_tothrow = num_tothrow / prob_otherstate\n",
      "/Users/rachael/Desktop/darts-thesis/helpers.py:1183: RuntimeWarning: divide by zero encountered in divide\n",
      "  num_turns_array[imdp.throw_num:,score_gained_index] = num_turns_array[imdp.throw_num:,score_gained_index] / prob_notbust_dic_t[score_max][imdp.throw_num:]\n",
      "/Users/rachael/Desktop/darts-thesis/helpers.py:1210: RuntimeWarning: divide by zero encountered in divide\n",
      "  value_relerror[rt] = np.abs((state_value_update[rt] - state_value[rt])/state_value_update[rt]).max()\n",
      "/Users/rachael/Desktop/darts-thesis/helpers.py:1210: RuntimeWarning: invalid value encountered in divide\n",
      "  value_relerror[rt] = np.abs((state_value_update[rt] - state_value[rt])/state_value_update[rt]).max()\n"
     ]
    },
    {
     "name": "stdout",
     "output_type": "stream",
     "text": [
      "solve prob_policy_transit in 4.9212751388549805 seconds\n",
      "solve dp_turn_policyiter in 47.08125185966492 seconds\n",
      "[[ 0.      0.      3.6299 ... 10.1945 10.2106 10.227 ]\n",
      " [ 0.      0.      1.     ...  8.0901  8.106   8.1224]\n",
      " [ 0.      0.      1.     ...  7.4217  7.4375  7.4541]\n",
      " ...\n",
      " [ 0.      0.      1.     ...  4.2948  4.3036  4.3148]\n",
      " [ 0.      0.      1.     ...  3.8377  3.799   3.8057]\n",
      " [ 0.      0.      1.     ...  3.      3.      3.    ]]\n",
      "load_pickle from ./data_parameter/player_gaussin_fit/grid_custom_no_tokens/player10_e5_gaussin_prob_grid_custom_no_tokens.pkl\n"
     ]
    },
    {
     "name": "stderr",
     "output_type": "stream",
     "text": [
      "/Users/rachael/Desktop/darts-thesis/helpers.py:719: RuntimeWarning: divide by zero encountered in divide\n",
      "  num_tothrow = num_tothrow / prob_otherstate\n",
      "/Users/rachael/Desktop/darts-thesis/helpers.py:757: RuntimeWarning: divide by zero encountered in divide\n",
      "  num_tothrow = num_tothrow / prob_otherstate\n",
      "/Users/rachael/Desktop/darts-thesis/helpers.py:1183: RuntimeWarning: divide by zero encountered in divide\n",
      "  num_turns_array[imdp.throw_num:,score_gained_index] = num_turns_array[imdp.throw_num:,score_gained_index] / prob_notbust_dic_t[score_max][imdp.throw_num:]\n",
      "/Users/rachael/Desktop/darts-thesis/helpers.py:1210: RuntimeWarning: divide by zero encountered in divide\n",
      "  value_relerror[rt] = np.abs((state_value_update[rt] - state_value[rt])/state_value_update[rt]).max()\n",
      "/Users/rachael/Desktop/darts-thesis/helpers.py:1210: RuntimeWarning: invalid value encountered in divide\n",
      "  value_relerror[rt] = np.abs((state_value_update[rt] - state_value[rt])/state_value_update[rt]).max()\n"
     ]
    },
    {
     "name": "stdout",
     "output_type": "stream",
     "text": [
      "solve prob_policy_transit in 4.862528085708618 seconds\n",
      "solve dp_turn_policyiter in 36.42272114753723 seconds\n",
      "[[ 0.      0.      4.1579 ... 11.2985 11.3159 11.3335]\n",
      " [ 0.      0.      1.     ...  8.7127  8.7301  8.7477]\n",
      " [ 0.      0.      1.     ...  7.9508  7.9681  7.9858]\n",
      " ...\n",
      " [ 0.      0.      1.     ...  4.4068  4.4171  4.4321]\n",
      " [ 0.      0.      1.     ...  3.8621  3.8266  3.8402]\n",
      " [ 0.      0.      1.     ...  3.      3.      3.    ]]\n",
      "load_pickle from ./data_parameter/player_gaussin_fit/grid_custom_no_tokens/player10_e6_gaussin_prob_grid_custom_no_tokens.pkl\n"
     ]
    },
    {
     "name": "stderr",
     "output_type": "stream",
     "text": [
      "/Users/rachael/Desktop/darts-thesis/helpers.py:719: RuntimeWarning: divide by zero encountered in divide\n",
      "  num_tothrow = num_tothrow / prob_otherstate\n",
      "/Users/rachael/Desktop/darts-thesis/helpers.py:757: RuntimeWarning: divide by zero encountered in divide\n",
      "  num_tothrow = num_tothrow / prob_otherstate\n",
      "/Users/rachael/Desktop/darts-thesis/helpers.py:1183: RuntimeWarning: divide by zero encountered in divide\n",
      "  num_turns_array[imdp.throw_num:,score_gained_index] = num_turns_array[imdp.throw_num:,score_gained_index] / prob_notbust_dic_t[score_max][imdp.throw_num:]\n",
      "/Users/rachael/Desktop/darts-thesis/helpers.py:1210: RuntimeWarning: divide by zero encountered in divide\n",
      "  value_relerror[rt] = np.abs((state_value_update[rt] - state_value[rt])/state_value_update[rt]).max()\n",
      "/Users/rachael/Desktop/darts-thesis/helpers.py:1210: RuntimeWarning: invalid value encountered in divide\n",
      "  value_relerror[rt] = np.abs((state_value_update[rt] - state_value[rt])/state_value_update[rt]).max()\n"
     ]
    },
    {
     "name": "stdout",
     "output_type": "stream",
     "text": [
      "solve prob_policy_transit in 5.097880840301514 seconds\n",
      "solve dp_turn_policyiter in 37.2662079334259 seconds\n",
      "[[ 0.      0.      4.6828 ... 12.2911 12.3097 12.3283]\n",
      " [ 0.      0.      1.     ...  9.2161  9.2347  9.2533]\n",
      " [ 0.      0.      1.     ...  8.3775  8.396   8.4146]\n",
      " ...\n",
      " [ 0.      0.      1.     ...  4.4992  4.5108  4.5278]\n",
      " [ 0.      0.      1.     ...  3.8823  3.8475  3.8686]\n",
      " [ 0.      0.      1.     ...  3.      3.      3.    ]]\n",
      "load_pickle from ./data_parameter/player_gaussin_fit/grid_custom_no_tokens/player10_e7_gaussin_prob_grid_custom_no_tokens.pkl\n"
     ]
    },
    {
     "name": "stderr",
     "output_type": "stream",
     "text": [
      "/Users/rachael/Desktop/darts-thesis/helpers.py:719: RuntimeWarning: divide by zero encountered in divide\n",
      "  num_tothrow = num_tothrow / prob_otherstate\n",
      "/Users/rachael/Desktop/darts-thesis/helpers.py:757: RuntimeWarning: divide by zero encountered in divide\n",
      "  num_tothrow = num_tothrow / prob_otherstate\n",
      "/Users/rachael/Desktop/darts-thesis/helpers.py:1183: RuntimeWarning: divide by zero encountered in divide\n",
      "  num_turns_array[imdp.throw_num:,score_gained_index] = num_turns_array[imdp.throw_num:,score_gained_index] / prob_notbust_dic_t[score_max][imdp.throw_num:]\n",
      "/Users/rachael/Desktop/darts-thesis/helpers.py:1210: RuntimeWarning: divide by zero encountered in divide\n",
      "  value_relerror[rt] = np.abs((state_value_update[rt] - state_value[rt])/state_value_update[rt]).max()\n",
      "/Users/rachael/Desktop/darts-thesis/helpers.py:1210: RuntimeWarning: invalid value encountered in divide\n",
      "  value_relerror[rt] = np.abs((state_value_update[rt] - state_value[rt])/state_value_update[rt]).max()\n"
     ]
    },
    {
     "name": "stdout",
     "output_type": "stream",
     "text": [
      "solve prob_policy_transit in 5.168461799621582 seconds\n",
      "solve dp_turn_policyiter in 32.59128499031067 seconds\n",
      "[[ 0.      0.      5.2061 ... 13.1942 13.2137 13.2331]\n",
      " [ 0.      0.      1.     ...  9.6263  9.6458  9.6652]\n",
      " [ 0.      0.      1.     ...  8.7243  8.7437  8.7632]\n",
      " ...\n",
      " [ 0.      0.      1.     ...  4.5744  4.5876  4.6058]\n",
      " [ 0.      0.      1.     ...  3.9002  3.8646  3.8942]\n",
      " [ 0.      0.      1.     ...  3.      3.      3.    ]]\n",
      "load_pickle from ./data_parameter/player_gaussin_fit/grid_custom_no_tokens/player10_e8_gaussin_prob_grid_custom_no_tokens.pkl\n"
     ]
    },
    {
     "name": "stderr",
     "output_type": "stream",
     "text": [
      "/Users/rachael/Desktop/darts-thesis/helpers.py:719: RuntimeWarning: divide by zero encountered in divide\n",
      "  num_tothrow = num_tothrow / prob_otherstate\n",
      "/Users/rachael/Desktop/darts-thesis/helpers.py:757: RuntimeWarning: divide by zero encountered in divide\n",
      "  num_tothrow = num_tothrow / prob_otherstate\n",
      "/Users/rachael/Desktop/darts-thesis/helpers.py:1183: RuntimeWarning: divide by zero encountered in divide\n",
      "  num_turns_array[imdp.throw_num:,score_gained_index] = num_turns_array[imdp.throw_num:,score_gained_index] / prob_notbust_dic_t[score_max][imdp.throw_num:]\n",
      "/Users/rachael/Desktop/darts-thesis/helpers.py:1210: RuntimeWarning: divide by zero encountered in divide\n",
      "  value_relerror[rt] = np.abs((state_value_update[rt] - state_value[rt])/state_value_update[rt]).max()\n",
      "/Users/rachael/Desktop/darts-thesis/helpers.py:1210: RuntimeWarning: invalid value encountered in divide\n",
      "  value_relerror[rt] = np.abs((state_value_update[rt] - state_value[rt])/state_value_update[rt]).max()\n"
     ]
    },
    {
     "name": "stdout",
     "output_type": "stream",
     "text": [
      "solve prob_policy_transit in 5.235445976257324 seconds\n",
      "solve dp_turn_policyiter in 33.656079053878784 seconds\n",
      "[[ 0.      0.      5.7282 ... 14.0264 14.0466 14.0667]\n",
      " [ 0.      0.      1.     ...  9.9646  9.9849 10.005 ]\n",
      " [ 0.      0.      1.     ...  9.0095  9.0297  9.0499]\n",
      " ...\n",
      " [ 0.      0.      1.     ...  4.6378  4.6513  4.671 ]\n",
      " [ 0.      0.      1.     ...  3.9091  3.8792  3.918 ]\n",
      " [ 0.      0.      1.     ...  3.      3.      3.    ]]\n",
      "load_pickle from ./data_parameter/player_gaussin_fit/grid_custom_no_tokens/player10_e9_gaussin_prob_grid_custom_no_tokens.pkl\n"
     ]
    },
    {
     "name": "stderr",
     "output_type": "stream",
     "text": [
      "/Users/rachael/Desktop/darts-thesis/helpers.py:719: RuntimeWarning: divide by zero encountered in divide\n",
      "  num_tothrow = num_tothrow / prob_otherstate\n",
      "/Users/rachael/Desktop/darts-thesis/helpers.py:757: RuntimeWarning: divide by zero encountered in divide\n",
      "  num_tothrow = num_tothrow / prob_otherstate\n",
      "/Users/rachael/Desktop/darts-thesis/helpers.py:1183: RuntimeWarning: divide by zero encountered in divide\n",
      "  num_turns_array[imdp.throw_num:,score_gained_index] = num_turns_array[imdp.throw_num:,score_gained_index] / prob_notbust_dic_t[score_max][imdp.throw_num:]\n",
      "/Users/rachael/Desktop/darts-thesis/helpers.py:1210: RuntimeWarning: divide by zero encountered in divide\n",
      "  value_relerror[rt] = np.abs((state_value_update[rt] - state_value[rt])/state_value_update[rt]).max()\n",
      "/Users/rachael/Desktop/darts-thesis/helpers.py:1210: RuntimeWarning: invalid value encountered in divide\n",
      "  value_relerror[rt] = np.abs((state_value_update[rt] - state_value[rt])/state_value_update[rt]).max()\n"
     ]
    },
    {
     "name": "stdout",
     "output_type": "stream",
     "text": [
      "solve prob_policy_transit in 5.301178693771362 seconds\n",
      "solve dp_turn_policyiter in 33.499086141586304 seconds\n",
      "[[ 0.      0.      6.2493 ... 14.8038 14.8246 14.8454]\n",
      " [ 0.      0.      1.     ... 10.2476 10.2684 10.2892]\n",
      " [ 0.      0.      1.     ...  9.2476  9.2684  9.2892]\n",
      " ...\n",
      " [ 0.      0.      1.     ...  4.693   4.7073  4.7282]\n",
      " [ 0.      0.      1.     ...  3.9173  3.8924  3.9293]\n",
      " [ 0.      0.      1.     ...  3.      3.      3.    ]]\n",
      "load_pickle from ./data_parameter/player_gaussin_fit/grid_custom_no_tokens/player10_e10_gaussin_prob_grid_custom_no_tokens.pkl\n"
     ]
    },
    {
     "name": "stderr",
     "output_type": "stream",
     "text": [
      "/Users/rachael/Desktop/darts-thesis/helpers.py:719: RuntimeWarning: divide by zero encountered in divide\n",
      "  num_tothrow = num_tothrow / prob_otherstate\n",
      "/Users/rachael/Desktop/darts-thesis/helpers.py:757: RuntimeWarning: divide by zero encountered in divide\n",
      "  num_tothrow = num_tothrow / prob_otherstate\n",
      "/Users/rachael/Desktop/darts-thesis/helpers.py:1183: RuntimeWarning: divide by zero encountered in divide\n",
      "  num_turns_array[imdp.throw_num:,score_gained_index] = num_turns_array[imdp.throw_num:,score_gained_index] / prob_notbust_dic_t[score_max][imdp.throw_num:]\n",
      "/Users/rachael/Desktop/darts-thesis/helpers.py:1210: RuntimeWarning: divide by zero encountered in divide\n",
      "  value_relerror[rt] = np.abs((state_value_update[rt] - state_value[rt])/state_value_update[rt]).max()\n",
      "/Users/rachael/Desktop/darts-thesis/helpers.py:1210: RuntimeWarning: invalid value encountered in divide\n",
      "  value_relerror[rt] = np.abs((state_value_update[rt] - state_value[rt])/state_value_update[rt]).max()\n"
     ]
    },
    {
     "name": "stdout",
     "output_type": "stream",
     "text": [
      "solve prob_policy_transit in 5.369704008102417 seconds\n",
      "solve dp_turn_policyiter in 34.03449106216431 seconds\n",
      "[[ 0.      0.      6.7696 ... 15.5402 15.5615 15.5828]\n",
      " [ 0.      0.      1.     ... 10.4873 10.5086 10.5299]\n",
      " [ 0.      0.      1.     ...  9.449   9.4703  9.4916]\n",
      " ...\n",
      " [ 0.      0.      1.     ...  4.7412  4.7568  4.7789]\n",
      " [ 0.      0.      1.     ...  3.9247  3.9046  3.9398]\n",
      " [ 0.      0.      1.     ...  3.      3.      3.    ]]\n",
      "load_pickle from ./data_parameter/player_gaussin_fit/grid_custom_no_tokens/player10_e12_gaussin_prob_grid_custom_no_tokens.pkl\n"
     ]
    },
    {
     "name": "stderr",
     "output_type": "stream",
     "text": [
      "/Users/rachael/Desktop/darts-thesis/helpers.py:719: RuntimeWarning: divide by zero encountered in divide\n",
      "  num_tothrow = num_tothrow / prob_otherstate\n",
      "/Users/rachael/Desktop/darts-thesis/helpers.py:757: RuntimeWarning: divide by zero encountered in divide\n",
      "  num_tothrow = num_tothrow / prob_otherstate\n",
      "/Users/rachael/Desktop/darts-thesis/helpers.py:1183: RuntimeWarning: divide by zero encountered in divide\n",
      "  num_turns_array[imdp.throw_num:,score_gained_index] = num_turns_array[imdp.throw_num:,score_gained_index] / prob_notbust_dic_t[score_max][imdp.throw_num:]\n",
      "/Users/rachael/Desktop/darts-thesis/helpers.py:1210: RuntimeWarning: divide by zero encountered in divide\n",
      "  value_relerror[rt] = np.abs((state_value_update[rt] - state_value[rt])/state_value_update[rt]).max()\n",
      "/Users/rachael/Desktop/darts-thesis/helpers.py:1210: RuntimeWarning: invalid value encountered in divide\n",
      "  value_relerror[rt] = np.abs((state_value_update[rt] - state_value[rt])/state_value_update[rt]).max()\n"
     ]
    },
    {
     "name": "stdout",
     "output_type": "stream",
     "text": [
      "solve prob_policy_transit in 5.396705150604248 seconds\n",
      "solve dp_turn_policyiter in 34.05711913108826 seconds\n",
      "[[ 0.      0.      7.8076 ... 16.9251 16.9471 16.9692]\n",
      " [ 0.      0.      1.     ... 10.8695 10.8916 10.9137]\n",
      " [ 0.      0.      1.     ...  9.7688  9.7908  9.8129]\n",
      " ...\n",
      " [ 0.      0.      1.     ...  4.8231  4.8412  4.8641]\n",
      " [ 0.      0.      1.     ...  3.939   3.9215  3.9598]\n",
      " [ 0.      0.      1.     ...  3.      3.      3.    ]]\n",
      "load_pickle from ./data_parameter/player_gaussin_fit/grid_custom_no_tokens/player10_e14_gaussin_prob_grid_custom_no_tokens.pkl\n"
     ]
    },
    {
     "name": "stderr",
     "output_type": "stream",
     "text": [
      "/Users/rachael/Desktop/darts-thesis/helpers.py:719: RuntimeWarning: divide by zero encountered in divide\n",
      "  num_tothrow = num_tothrow / prob_otherstate\n",
      "/Users/rachael/Desktop/darts-thesis/helpers.py:757: RuntimeWarning: divide by zero encountered in divide\n",
      "  num_tothrow = num_tothrow / prob_otherstate\n",
      "/Users/rachael/Desktop/darts-thesis/helpers.py:1183: RuntimeWarning: divide by zero encountered in divide\n",
      "  num_turns_array[imdp.throw_num:,score_gained_index] = num_turns_array[imdp.throw_num:,score_gained_index] / prob_notbust_dic_t[score_max][imdp.throw_num:]\n",
      "/Users/rachael/Desktop/darts-thesis/helpers.py:1210: RuntimeWarning: divide by zero encountered in divide\n",
      "  value_relerror[rt] = np.abs((state_value_update[rt] - state_value[rt])/state_value_update[rt]).max()\n",
      "/Users/rachael/Desktop/darts-thesis/helpers.py:1210: RuntimeWarning: invalid value encountered in divide\n",
      "  value_relerror[rt] = np.abs((state_value_update[rt] - state_value[rt])/state_value_update[rt]).max()\n"
     ]
    },
    {
     "name": "stdout",
     "output_type": "stream",
     "text": [
      "solve prob_policy_transit in 5.480510950088501 seconds\n",
      "solve dp_turn_policyiter in 34.16329908370972 seconds\n",
      "[[ 0.      0.      8.8425 ... 18.2268 18.2494 18.272 ]\n",
      " [ 0.      0.      1.     ... 11.1564 11.1791 11.2017]\n",
      " [ 0.      0.      1.     ... 10.0082 10.0308 10.0534]\n",
      " ...\n",
      " [ 0.      0.      1.     ...  4.8902  4.9096  4.9329]\n",
      " [ 0.      0.      1.     ...  3.9544  3.9374  3.9782]\n",
      " [ 0.      0.      1.     ...  3.      3.      3.    ]]\n",
      "load_pickle from ./data_parameter/player_gaussin_fit/grid_custom_no_tokens/player10_e16_gaussin_prob_grid_custom_no_tokens.pkl\n"
     ]
    },
    {
     "name": "stderr",
     "output_type": "stream",
     "text": [
      "/Users/rachael/Desktop/darts-thesis/helpers.py:719: RuntimeWarning: divide by zero encountered in divide\n",
      "  num_tothrow = num_tothrow / prob_otherstate\n",
      "/Users/rachael/Desktop/darts-thesis/helpers.py:757: RuntimeWarning: divide by zero encountered in divide\n",
      "  num_tothrow = num_tothrow / prob_otherstate\n",
      "/Users/rachael/Desktop/darts-thesis/helpers.py:1183: RuntimeWarning: divide by zero encountered in divide\n",
      "  num_turns_array[imdp.throw_num:,score_gained_index] = num_turns_array[imdp.throw_num:,score_gained_index] / prob_notbust_dic_t[score_max][imdp.throw_num:]\n",
      "/Users/rachael/Desktop/darts-thesis/helpers.py:1210: RuntimeWarning: divide by zero encountered in divide\n",
      "  value_relerror[rt] = np.abs((state_value_update[rt] - state_value[rt])/state_value_update[rt]).max()\n",
      "/Users/rachael/Desktop/darts-thesis/helpers.py:1210: RuntimeWarning: invalid value encountered in divide\n",
      "  value_relerror[rt] = np.abs((state_value_update[rt] - state_value[rt])/state_value_update[rt]).max()\n"
     ]
    },
    {
     "name": "stdout",
     "output_type": "stream",
     "text": [
      "solve prob_policy_transit in 5.520420074462891 seconds\n",
      "solve dp_turn_policyiter in 34.20482683181763 seconds\n",
      "[[ 0.      0.      9.8744 ... 19.4836 19.5067 19.5297]\n",
      " [ 0.      0.      1.     ... 11.3908 11.4138 11.4369]\n",
      " [ 0.      0.      1.     ... 10.2015 10.2246 10.2477]\n",
      " ...\n",
      " [ 0.      0.      1.     ...  4.9452  4.9652  4.9892]\n",
      " [ 0.      0.      1.     ...  3.9693  3.9533  3.9954]\n",
      " [ 0.      0.      1.     ...  3.      3.      3.    ]]\n",
      "load_pickle from ./data_parameter/player_gaussin_fit/grid_custom_no_tokens/player10_e18_gaussin_prob_grid_custom_no_tokens.pkl\n"
     ]
    },
    {
     "name": "stderr",
     "output_type": "stream",
     "text": [
      "/Users/rachael/Desktop/darts-thesis/helpers.py:719: RuntimeWarning: divide by zero encountered in divide\n",
      "  num_tothrow = num_tothrow / prob_otherstate\n",
      "/Users/rachael/Desktop/darts-thesis/helpers.py:757: RuntimeWarning: divide by zero encountered in divide\n",
      "  num_tothrow = num_tothrow / prob_otherstate\n",
      "/Users/rachael/Desktop/darts-thesis/helpers.py:1183: RuntimeWarning: divide by zero encountered in divide\n",
      "  num_turns_array[imdp.throw_num:,score_gained_index] = num_turns_array[imdp.throw_num:,score_gained_index] / prob_notbust_dic_t[score_max][imdp.throw_num:]\n",
      "/Users/rachael/Desktop/darts-thesis/helpers.py:1210: RuntimeWarning: divide by zero encountered in divide\n",
      "  value_relerror[rt] = np.abs((state_value_update[rt] - state_value[rt])/state_value_update[rt]).max()\n",
      "/Users/rachael/Desktop/darts-thesis/helpers.py:1210: RuntimeWarning: invalid value encountered in divide\n",
      "  value_relerror[rt] = np.abs((state_value_update[rt] - state_value[rt])/state_value_update[rt]).max()\n"
     ]
    },
    {
     "name": "stdout",
     "output_type": "stream",
     "text": [
      "solve prob_policy_transit in 5.548665285110474 seconds\n",
      "solve dp_turn_policyiter in 34.54860067367554 seconds\n",
      "[[ 0.      0.     10.9033 ... 20.7137 20.7372 20.7607]\n",
      " [ 0.      0.      1.     ... 11.5953 11.6187 11.6422]\n",
      " [ 0.      0.      1.     ... 10.3692 10.3926 10.4161]\n",
      " ...\n",
      " [ 0.      0.      1.     ...  4.9924  5.0134  5.0379]\n",
      " [ 0.      0.      1.     ...  3.9836  3.969   4.0118]\n",
      " [ 0.      0.      1.     ...  3.      3.      3.    ]]\n",
      "load_pickle from ./data_parameter/player_gaussin_fit/grid_custom_no_tokens/player10_e20_gaussin_prob_grid_custom_no_tokens.pkl\n"
     ]
    },
    {
     "name": "stderr",
     "output_type": "stream",
     "text": [
      "/Users/rachael/Desktop/darts-thesis/helpers.py:719: RuntimeWarning: divide by zero encountered in divide\n",
      "  num_tothrow = num_tothrow / prob_otherstate\n",
      "/Users/rachael/Desktop/darts-thesis/helpers.py:757: RuntimeWarning: divide by zero encountered in divide\n",
      "  num_tothrow = num_tothrow / prob_otherstate\n",
      "/Users/rachael/Desktop/darts-thesis/helpers.py:1183: RuntimeWarning: divide by zero encountered in divide\n",
      "  num_turns_array[imdp.throw_num:,score_gained_index] = num_turns_array[imdp.throw_num:,score_gained_index] / prob_notbust_dic_t[score_max][imdp.throw_num:]\n",
      "/Users/rachael/Desktop/darts-thesis/helpers.py:1210: RuntimeWarning: divide by zero encountered in divide\n",
      "  value_relerror[rt] = np.abs((state_value_update[rt] - state_value[rt])/state_value_update[rt]).max()\n",
      "/Users/rachael/Desktop/darts-thesis/helpers.py:1210: RuntimeWarning: invalid value encountered in divide\n",
      "  value_relerror[rt] = np.abs((state_value_update[rt] - state_value[rt])/state_value_update[rt]).max()\n"
     ]
    },
    {
     "name": "stdout",
     "output_type": "stream",
     "text": [
      "solve prob_policy_transit in 5.578678131103516 seconds\n",
      "solve dp_turn_policyiter in 34.18764400482178 seconds\n",
      "[[ 0.      0.     11.9292 ... 21.9282 21.952  21.9758]\n",
      " [ 0.      0.      1.     ... 11.7824 11.8062 11.8301]\n",
      " [ 0.      0.      1.     ... 10.523  10.5468 10.5707]\n",
      " ...\n",
      " [ 0.      0.      1.     ...  5.036   5.0577  5.0827]\n",
      " [ 0.      0.      1.     ...  3.9978  3.9847  4.0273]\n",
      " [ 0.      0.      1.     ...  3.      3.      3.    ]]\n",
      "load_pickle from ./data_parameter/player_gaussin_fit/grid_custom_no_tokens/player10_e32_gaussin_prob_grid_custom_no_tokens.pkl\n"
     ]
    },
    {
     "name": "stderr",
     "output_type": "stream",
     "text": [
      "/Users/rachael/Desktop/darts-thesis/helpers.py:719: RuntimeWarning: divide by zero encountered in divide\n",
      "  num_tothrow = num_tothrow / prob_otherstate\n",
      "/Users/rachael/Desktop/darts-thesis/helpers.py:757: RuntimeWarning: divide by zero encountered in divide\n",
      "  num_tothrow = num_tothrow / prob_otherstate\n",
      "/Users/rachael/Desktop/darts-thesis/helpers.py:1183: RuntimeWarning: divide by zero encountered in divide\n",
      "  num_turns_array[imdp.throw_num:,score_gained_index] = num_turns_array[imdp.throw_num:,score_gained_index] / prob_notbust_dic_t[score_max][imdp.throw_num:]\n",
      "/Users/rachael/Desktop/darts-thesis/helpers.py:1210: RuntimeWarning: divide by zero encountered in divide\n",
      "  value_relerror[rt] = np.abs((state_value_update[rt] - state_value[rt])/state_value_update[rt]).max()\n",
      "/Users/rachael/Desktop/darts-thesis/helpers.py:1210: RuntimeWarning: invalid value encountered in divide\n",
      "  value_relerror[rt] = np.abs((state_value_update[rt] - state_value[rt])/state_value_update[rt]).max()\n"
     ]
    },
    {
     "name": "stdout",
     "output_type": "stream",
     "text": [
      "solve prob_policy_transit in 5.617704153060913 seconds\n",
      "solve dp_turn_policyiter in 34.44908690452576 seconds\n",
      "[[ 0.      0.     18.0248 ... 29.0768 29.1025 29.1283]\n",
      " [ 0.      0.      1.     ... 12.7483 12.7741 12.7999]\n",
      " [ 0.      0.      1.     ... 11.3189 11.3447 11.3705]\n",
      " ...\n",
      " [ 0.      0.      1.     ...  5.2492  5.2741  5.301 ]\n",
      " [ 0.      0.      1.     ...  4.0666  4.0665  4.1058]\n",
      " [ 0.      0.      1.     ...  3.      3.      3.    ]]\n",
      "load_pickle from ./data_parameter/player_gaussin_fit/grid_custom_no_tokens/player10_e64_gaussin_prob_grid_custom_no_tokens.pkl\n"
     ]
    },
    {
     "name": "stderr",
     "output_type": "stream",
     "text": [
      "/Users/rachael/Desktop/darts-thesis/helpers.py:719: RuntimeWarning: divide by zero encountered in divide\n",
      "  num_tothrow = num_tothrow / prob_otherstate\n",
      "/Users/rachael/Desktop/darts-thesis/helpers.py:757: RuntimeWarning: divide by zero encountered in divide\n",
      "  num_tothrow = num_tothrow / prob_otherstate\n",
      "/Users/rachael/Desktop/darts-thesis/helpers.py:1183: RuntimeWarning: divide by zero encountered in divide\n",
      "  num_turns_array[imdp.throw_num:,score_gained_index] = num_turns_array[imdp.throw_num:,score_gained_index] / prob_notbust_dic_t[score_max][imdp.throw_num:]\n",
      "/Users/rachael/Desktop/darts-thesis/helpers.py:1210: RuntimeWarning: divide by zero encountered in divide\n",
      "  value_relerror[rt] = np.abs((state_value_update[rt] - state_value[rt])/state_value_update[rt]).max()\n",
      "/Users/rachael/Desktop/darts-thesis/helpers.py:1210: RuntimeWarning: invalid value encountered in divide\n",
      "  value_relerror[rt] = np.abs((state_value_update[rt] - state_value[rt])/state_value_update[rt]).max()\n"
     ]
    },
    {
     "name": "stdout",
     "output_type": "stream",
     "text": [
      "solve prob_policy_transit in 5.620567083358765 seconds\n",
      "solve dp_turn_policyiter in 34.81292676925659 seconds\n",
      "[[ 0.      0.     33.7957 ... 46.6229 46.651  46.679 ]\n",
      " [ 0.      0.      1.     ... 13.9882 14.0162 14.0443]\n",
      " [ 0.      0.      1.     ... 12.2849 12.3129 12.341 ]\n",
      " ...\n",
      " [ 0.      0.      1.     ...  5.5345  5.5625  5.591 ]\n",
      " [ 0.      0.      1.     ...  4.1891  4.2016  4.2428]\n",
      " [ 0.      0.      1.     ...  3.      3.      3.    ]]\n",
      "load_pickle from ./data_parameter/player_gaussin_fit/grid_custom_no_tokens/player10_e128_gaussin_prob_grid_custom_no_tokens.pkl\n"
     ]
    },
    {
     "name": "stderr",
     "output_type": "stream",
     "text": [
      "/Users/rachael/Desktop/darts-thesis/helpers.py:719: RuntimeWarning: divide by zero encountered in divide\n",
      "  num_tothrow = num_tothrow / prob_otherstate\n",
      "/Users/rachael/Desktop/darts-thesis/helpers.py:757: RuntimeWarning: divide by zero encountered in divide\n",
      "  num_tothrow = num_tothrow / prob_otherstate\n",
      "/Users/rachael/Desktop/darts-thesis/helpers.py:1183: RuntimeWarning: divide by zero encountered in divide\n",
      "  num_turns_array[imdp.throw_num:,score_gained_index] = num_turns_array[imdp.throw_num:,score_gained_index] / prob_notbust_dic_t[score_max][imdp.throw_num:]\n",
      "/Users/rachael/Desktop/darts-thesis/helpers.py:1210: RuntimeWarning: divide by zero encountered in divide\n",
      "  value_relerror[rt] = np.abs((state_value_update[rt] - state_value[rt])/state_value_update[rt]).max()\n",
      "/Users/rachael/Desktop/darts-thesis/helpers.py:1210: RuntimeWarning: invalid value encountered in divide\n",
      "  value_relerror[rt] = np.abs((state_value_update[rt] - state_value[rt])/state_value_update[rt]).max()\n"
     ]
    },
    {
     "name": "stdout",
     "output_type": "stream",
     "text": [
      "solve prob_policy_transit in 5.6096413135528564 seconds\n",
      "solve dp_turn_policyiter in 34.76471400260925 seconds\n",
      "[[ 0.      0.     63.3393 ... 80.2283 80.2605 80.2926]\n",
      " [ 0.      0.      1.     ... 16.1877 16.2199 16.252 ]\n",
      " [ 0.      0.      1.     ... 13.9846 14.0167 14.0489]\n",
      " ...\n",
      " [ 0.      0.      1.     ...  6.0106  6.0427  6.0751]\n",
      " [ 0.      0.      1.     ...  4.4165  4.4348  4.4822]\n",
      " [ 0.      0.      1.     ...  3.      3.      3.    ]]\n",
      "load_pickle from ./data_parameter/player_gaussin_fit/grid_custom_no_tokens/player10_e25_gaussin_prob_grid_custom_no_tokens.pkl\n"
     ]
    },
    {
     "name": "stderr",
     "output_type": "stream",
     "text": [
      "/Users/rachael/Desktop/darts-thesis/helpers.py:719: RuntimeWarning: divide by zero encountered in divide\n",
      "  num_tothrow = num_tothrow / prob_otherstate\n",
      "/Users/rachael/Desktop/darts-thesis/helpers.py:757: RuntimeWarning: divide by zero encountered in divide\n",
      "  num_tothrow = num_tothrow / prob_otherstate\n",
      "/Users/rachael/Desktop/darts-thesis/helpers.py:1183: RuntimeWarning: divide by zero encountered in divide\n",
      "  num_turns_array[imdp.throw_num:,score_gained_index] = num_turns_array[imdp.throw_num:,score_gained_index] / prob_notbust_dic_t[score_max][imdp.throw_num:]\n",
      "/Users/rachael/Desktop/darts-thesis/helpers.py:1210: RuntimeWarning: divide by zero encountered in divide\n",
      "  value_relerror[rt] = np.abs((state_value_update[rt] - state_value[rt])/state_value_update[rt]).max()\n",
      "/Users/rachael/Desktop/darts-thesis/helpers.py:1210: RuntimeWarning: invalid value encountered in divide\n",
      "  value_relerror[rt] = np.abs((state_value_update[rt] - state_value[rt])/state_value_update[rt]).max()\n"
     ]
    },
    {
     "name": "stdout",
     "output_type": "stream",
     "text": [
      "solve prob_policy_transit in 5.6059770584106445 seconds\n",
      "solve dp_turn_policyiter in 34.310730934143066 seconds\n",
      "[[ 0.      0.     14.4813 ... 24.9292 24.9538 24.9785]\n",
      " [ 0.      0.      1.     ... 12.2081 12.2328 12.2574]\n",
      " [ 0.      0.      1.     ... 10.8736 10.8983 10.923 ]\n",
      " ...\n",
      " [ 0.      0.      1.     ...  5.1335  5.1567  5.1826]\n",
      " [ 0.      0.      1.     ...  4.0278  4.0233  4.0635]\n",
      " [ 0.      0.      1.     ...  3.      3.      3.    ]]\n",
      "load_pickle from ./data_parameter/player_gaussin_fit/grid_custom_no_tokens/player10_e50_gaussin_prob_grid_custom_no_tokens.pkl\n"
     ]
    },
    {
     "name": "stderr",
     "output_type": "stream",
     "text": [
      "/Users/rachael/Desktop/darts-thesis/helpers.py:719: RuntimeWarning: divide by zero encountered in divide\n",
      "  num_tothrow = num_tothrow / prob_otherstate\n",
      "/Users/rachael/Desktop/darts-thesis/helpers.py:757: RuntimeWarning: divide by zero encountered in divide\n",
      "  num_tothrow = num_tothrow / prob_otherstate\n",
      "/Users/rachael/Desktop/darts-thesis/helpers.py:1183: RuntimeWarning: divide by zero encountered in divide\n",
      "  num_turns_array[imdp.throw_num:,score_gained_index] = num_turns_array[imdp.throw_num:,score_gained_index] / prob_notbust_dic_t[score_max][imdp.throw_num:]\n",
      "/Users/rachael/Desktop/darts-thesis/helpers.py:1210: RuntimeWarning: divide by zero encountered in divide\n",
      "  value_relerror[rt] = np.abs((state_value_update[rt] - state_value[rt])/state_value_update[rt]).max()\n",
      "/Users/rachael/Desktop/darts-thesis/helpers.py:1210: RuntimeWarning: invalid value encountered in divide\n",
      "  value_relerror[rt] = np.abs((state_value_update[rt] - state_value[rt])/state_value_update[rt]).max()\n"
     ]
    },
    {
     "name": "stdout",
     "output_type": "stream",
     "text": [
      "solve prob_policy_transit in 5.618575096130371 seconds\n",
      "solve dp_turn_policyiter in 34.18096303939819 seconds\n",
      "[[ 0.      0.     26.9819 ... 39.0309 39.058  39.0852]\n",
      " [ 0.      0.      1.     ... 13.4965 13.5236 13.5508]\n",
      " [ 0.      0.      1.     ... 11.9069 11.9341 11.9612]\n",
      " ...\n",
      " [ 0.      0.      1.     ...  5.4275  5.4547  5.4822]\n",
      " [ 0.      0.      1.     ...  4.1427  4.154   4.1909]\n",
      " [ 0.      0.      1.     ...  3.      3.      3.    ]]\n",
      "load_pickle from ./data_parameter/player_gaussin_fit/grid_custom_no_tokens/player10_e100_gaussin_prob_grid_custom_no_tokens.pkl\n"
     ]
    },
    {
     "name": "stderr",
     "output_type": "stream",
     "text": [
      "/Users/rachael/Desktop/darts-thesis/helpers.py:719: RuntimeWarning: divide by zero encountered in divide\n",
      "  num_tothrow = num_tothrow / prob_otherstate\n",
      "/Users/rachael/Desktop/darts-thesis/helpers.py:757: RuntimeWarning: divide by zero encountered in divide\n",
      "  num_tothrow = num_tothrow / prob_otherstate\n",
      "/Users/rachael/Desktop/darts-thesis/helpers.py:1183: RuntimeWarning: divide by zero encountered in divide\n",
      "  num_turns_array[imdp.throw_num:,score_gained_index] = num_turns_array[imdp.throw_num:,score_gained_index] / prob_notbust_dic_t[score_max][imdp.throw_num:]\n",
      "/Users/rachael/Desktop/darts-thesis/helpers.py:1210: RuntimeWarning: divide by zero encountered in divide\n",
      "  value_relerror[rt] = np.abs((state_value_update[rt] - state_value[rt])/state_value_update[rt]).max()\n",
      "/Users/rachael/Desktop/darts-thesis/helpers.py:1210: RuntimeWarning: invalid value encountered in divide\n",
      "  value_relerror[rt] = np.abs((state_value_update[rt] - state_value[rt])/state_value_update[rt]).max()\n"
     ]
    },
    {
     "name": "stdout",
     "output_type": "stream",
     "text": [
      "solve prob_policy_transit in 5.605164051055908 seconds\n",
      "solve dp_turn_policyiter in 34.197933197021484 seconds\n",
      "[[ 0.      0.     50.7214 ... 65.6365 65.6665 65.6966]\n",
      " [ 0.      0.      1.     ... 15.0957 15.1257 15.1558]\n",
      " [ 0.      0.      1.     ... 13.1267 13.1567 13.1868]\n",
      " ...\n",
      " [ 0.      0.      1.     ...  5.7803  5.8103  5.8408]\n",
      " [ 0.      0.      1.     ...  4.3103  4.3256  4.371 ]\n",
      " [ 0.      0.      1.     ...  3.      3.      3.    ]]\n"
     ]
    }
   ],
   "source": [
    "# Run Experiments\n",
    "player_num = 10 \n",
    "epsilon_list = [1,2,3,4,5,6,7,8,9,10,12,14,16,18,20,32,64,128,25,50,100]\n",
    "name_pa = 'player{}'.format(player_num)\n",
    "\n",
    "col_names = ['epsilon','tokens','score','remaining_throws','score_gained','optimal_value','optimal_policy']\n",
    "df = pd.DataFrame(columns=col_names)\n",
    "\n",
    "[aiming_grid, prob_grid_normalscore_t, prob_grid_singlescore_t, prob_grid_doublescore_t, prob_grid_triplescore_t, prob_grid_bullscore_t] = h.load_aiming_grid('t', data_parameter_dir=data_parameter_dir, grid_version='custom_tokens')\n",
    "\n",
    "for epsilon in epsilon_list:\n",
    "    [aiming_grid, prob_grid_normalscore_nt, prob_grid_singlescore_nt, prob_grid_doublescore_nt, prob_grid_triplescore_nt, prob_grid_bullscore_nt] = h.load_aiming_grid(name_pa, epsilon=epsilon, data_parameter_dir=data_parameter_dir, grid_version='custom_no_tokens')\n",
    "    result_dic = h.solve_dp_turn_tokens(tokens, aiming_grid, prob_grid_normalscore_nt, prob_grid_singlescore_nt, prob_grid_doublescore_nt, prob_grid_triplescore_nt, prob_grid_bullscore_nt,prob_grid_normalscore_t, prob_grid_singlescore_t, prob_grid_doublescore_t, prob_grid_triplescore_t, prob_grid_bullscore_t)\n",
    "    df = pd.concat([df,create_result_dataframes(result_dic,epsilon)])\n",
    "    df = df.reset_index().drop(['index'],axis=1)"
   ]
  },
  {
   "cell_type": "code",
   "execution_count": 8,
   "metadata": {},
   "outputs": [
    {
     "data": {
      "text/html": [
       "<div>\n",
       "<style scoped>\n",
       "    .dataframe tbody tr th:only-of-type {\n",
       "        vertical-align: middle;\n",
       "    }\n",
       "\n",
       "    .dataframe tbody tr th {\n",
       "        vertical-align: top;\n",
       "    }\n",
       "\n",
       "    .dataframe thead th {\n",
       "        text-align: right;\n",
       "    }\n",
       "</style>\n",
       "<table border=\"1\" class=\"dataframe\">\n",
       "  <thead>\n",
       "    <tr style=\"text-align: right;\">\n",
       "      <th></th>\n",
       "      <th>epsilon</th>\n",
       "      <th>tokens</th>\n",
       "      <th>score</th>\n",
       "      <th>remaining_throws</th>\n",
       "      <th>score_gained</th>\n",
       "      <th>optimal_value</th>\n",
       "      <th>optimal_policy</th>\n",
       "    </tr>\n",
       "  </thead>\n",
       "  <tbody>\n",
       "    <tr>\n",
       "      <th>0</th>\n",
       "      <td>1</td>\n",
       "      <td>0</td>\n",
       "      <td>2</td>\n",
       "      <td>1</td>\n",
       "      <td>0</td>\n",
       "      <td>2.232611</td>\n",
       "      <td>55</td>\n",
       "    </tr>\n",
       "    <tr>\n",
       "      <th>1</th>\n",
       "      <td>1</td>\n",
       "      <td>1</td>\n",
       "      <td>2</td>\n",
       "      <td>1</td>\n",
       "      <td>0</td>\n",
       "      <td>1.000000</td>\n",
       "      <td>752</td>\n",
       "    </tr>\n",
       "    <tr>\n",
       "      <th>2</th>\n",
       "      <td>1</td>\n",
       "      <td>2</td>\n",
       "      <td>2</td>\n",
       "      <td>1</td>\n",
       "      <td>0</td>\n",
       "      <td>1.000000</td>\n",
       "      <td>752</td>\n",
       "    </tr>\n",
       "    <tr>\n",
       "      <th>3</th>\n",
       "      <td>1</td>\n",
       "      <td>3</td>\n",
       "      <td>2</td>\n",
       "      <td>1</td>\n",
       "      <td>0</td>\n",
       "      <td>1.000000</td>\n",
       "      <td>752</td>\n",
       "    </tr>\n",
       "    <tr>\n",
       "      <th>4</th>\n",
       "      <td>1</td>\n",
       "      <td>4</td>\n",
       "      <td>2</td>\n",
       "      <td>1</td>\n",
       "      <td>0</td>\n",
       "      <td>1.000000</td>\n",
       "      <td>752</td>\n",
       "    </tr>\n",
       "    <tr>\n",
       "      <th>...</th>\n",
       "      <td>...</td>\n",
       "      <td>...</td>\n",
       "      <td>...</td>\n",
       "      <td>...</td>\n",
       "      <td>...</td>\n",
       "      <td>...</td>\n",
       "      <td>...</td>\n",
       "    </tr>\n",
       "    <tr>\n",
       "      <th>14947585</th>\n",
       "      <td>100</td>\n",
       "      <td>5</td>\n",
       "      <td>501</td>\n",
       "      <td>3</td>\n",
       "      <td>0</td>\n",
       "      <td>8.779258</td>\n",
       "      <td>728</td>\n",
       "    </tr>\n",
       "    <tr>\n",
       "      <th>14947586</th>\n",
       "      <td>100</td>\n",
       "      <td>6</td>\n",
       "      <td>501</td>\n",
       "      <td>3</td>\n",
       "      <td>0</td>\n",
       "      <td>7.310111</td>\n",
       "      <td>728</td>\n",
       "    </tr>\n",
       "    <tr>\n",
       "      <th>14947587</th>\n",
       "      <td>100</td>\n",
       "      <td>7</td>\n",
       "      <td>501</td>\n",
       "      <td>3</td>\n",
       "      <td>0</td>\n",
       "      <td>5.840758</td>\n",
       "      <td>728</td>\n",
       "    </tr>\n",
       "    <tr>\n",
       "      <th>14947588</th>\n",
       "      <td>100</td>\n",
       "      <td>8</td>\n",
       "      <td>501</td>\n",
       "      <td>3</td>\n",
       "      <td>0</td>\n",
       "      <td>4.370963</td>\n",
       "      <td>728</td>\n",
       "    </tr>\n",
       "    <tr>\n",
       "      <th>14947589</th>\n",
       "      <td>100</td>\n",
       "      <td>9</td>\n",
       "      <td>501</td>\n",
       "      <td>3</td>\n",
       "      <td>0</td>\n",
       "      <td>3.000000</td>\n",
       "      <td>750</td>\n",
       "    </tr>\n",
       "  </tbody>\n",
       "</table>\n",
       "<p>14947590 rows × 7 columns</p>\n",
       "</div>"
      ],
      "text/plain": [
       "         epsilon tokens score remaining_throws score_gained  optimal_value  \\\n",
       "0              1      0     2                1            0       2.232611   \n",
       "1              1      1     2                1            0       1.000000   \n",
       "2              1      2     2                1            0       1.000000   \n",
       "3              1      3     2                1            0       1.000000   \n",
       "4              1      4     2                1            0       1.000000   \n",
       "...          ...    ...   ...              ...          ...            ...   \n",
       "14947585     100      5   501                3            0       8.779258   \n",
       "14947586     100      6   501                3            0       7.310111   \n",
       "14947587     100      7   501                3            0       5.840758   \n",
       "14947588     100      8   501                3            0       4.370963   \n",
       "14947589     100      9   501                3            0       3.000000   \n",
       "\n",
       "         optimal_policy  \n",
       "0                    55  \n",
       "1                   752  \n",
       "2                   752  \n",
       "3                   752  \n",
       "4                   752  \n",
       "...                 ...  \n",
       "14947585            728  \n",
       "14947586            728  \n",
       "14947587            728  \n",
       "14947588            728  \n",
       "14947589            750  \n",
       "\n",
       "[14947590 rows x 7 columns]"
      ]
     },
     "execution_count": 8,
     "metadata": {},
     "output_type": "execute_result"
    }
   ],
   "source": [
    "# Save to File\n",
    "df.to_csv('player10_results.csv')\n",
    "df"
   ]
  }
 ],
 "metadata": {
  "kernelspec": {
   "display_name": "darts",
   "language": "python",
   "name": "python3"
  },
  "language_info": {
   "codemirror_mode": {
    "name": "ipython",
    "version": 3
   },
   "file_extension": ".py",
   "mimetype": "text/x-python",
   "name": "python",
   "nbconvert_exporter": "python",
   "pygments_lexer": "ipython3",
   "version": "3.10.9"
  },
  "orig_nbformat": 4
 },
 "nbformat": 4,
 "nbformat_minor": 2
}
