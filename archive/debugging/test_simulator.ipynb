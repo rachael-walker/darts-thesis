{
 "cells": [
  {
   "cell_type": "code",
   "execution_count": 9,
   "metadata": {},
   "outputs": [],
   "source": [
    "import os\n",
    "\n",
    "import sys\n",
    "import time\n",
    "\n",
    "import init_load_board as ib \n",
    "import init_simple_mdp as imdp\n",
    "\n",
    "import function_board as fb \n",
    "import function_tool as ft\n",
    "\n",
    "import pandas as pd\n",
    "\n",
    "import numpy as np\n",
    "np.set_printoptions(precision=4)\n",
    "np.set_printoptions(linewidth=300)\n",
    "np.set_printoptions(threshold=300)\n",
    "\n",
    "import torch\n",
    "torch.set_printoptions(precision=4)\n",
    "torch.set_printoptions(linewidth=300)\n",
    "torch.set_printoptions(threshold=300)\n",
    "\n",
    "import helpers as h \n",
    "\n",
    "#%%\n",
    "data_parameter_dir = fb.data_parameter_dir\n",
    "result_dir = './result'  \n",
    "\n",
    "#os.chdir('darts-thesis')\n",
    "\n",
    "import simulator \n",
    "\n",
    "import math\n",
    "\n"
   ]
  },
  {
   "cell_type": "code",
   "execution_count": 2,
   "metadata": {},
   "outputs": [],
   "source": [
    "# # Initialize Player Parameters \n",
    "# player_num = 10\n",
    "# epsilon = 1\n",
    "# name_pa = 'player{}'.format(player_num)\n",
    "\n",
    "# # Extract Transition Probabilities \n",
    "# [aiming_grid, prob_grid_normalscore_nt, prob_grid_singlescore_nt, prob_grid_doublescore_nt, prob_grid_triplescore_nt, prob_grid_bullscore_nt] = h.load_aiming_grid(name_pa, epsilon=epsilon, data_parameter_dir=fb.data_parameter_dir, grid_version='custom_no_tokens')\n",
    "# [aiming_grid, prob_grid_normalscore_t, prob_grid_singlescore_t, prob_grid_doublescore_t, prob_grid_triplescore_t, prob_grid_bullscore_t] = h.load_aiming_grid('t', data_parameter_dir=fb.data_parameter_dir, grid_version='custom_tokens')\n",
    "\n",
    "# transition_probs = np.zeros((len(aiming_grid),63))\n",
    "\n",
    "# for action in range(imdp.throw_num): \n",
    "\n",
    "#     transition_probs[action][0] = prob_grid_normalscore_nt[action][0]\n",
    "#     transition_probs[action][1:21] = prob_grid_singlescore_nt[action][:]\n",
    "#     transition_probs[action][21:41] = prob_grid_doublescore_nt[action][:]\n",
    "#     transition_probs[action][41:61] = prob_grid_triplescore_nt[action][:]\n",
    "#     transition_probs[action][61:63] = prob_grid_bullscore_nt[action][:]\n",
    "\n",
    "# for action in range(imdp.throw_num,len(aiming_grid)): \n",
    "\n",
    "#     transition_probs[action][0] = prob_grid_normalscore_t[action][0]\n",
    "#     transition_probs[action][1:21] = prob_grid_singlescore_t[action][:]\n",
    "#     transition_probs[action][21:41] = prob_grid_doublescore_t[action][:]\n",
    "#     transition_probs[action][41:61] = prob_grid_triplescore_t[action][:]\n",
    "#     transition_probs[action][61:63] = prob_grid_bullscore_t[action][:]\n",
    "\n",
    "# result_list = []\n",
    "# result_list.append('miss')\n",
    "\n",
    "# for i in range(1,21):\n",
    "#     result_list.append('S{}'.format(i))\n",
    "\n",
    "# for i in range(1,21):\n",
    "#     result_list.append('D{}'.format(i))\n",
    "\n",
    "# for i in range(1,21):\n",
    "#     result_list.append('T{}'.format(i))\n",
    "\n",
    "# result_list.append('SB')\n",
    "# result_list.append('DB')\n",
    "\n",
    "# tokens=0\n",
    "# result_dic = h.solve_dp_turn_tokens(tokens, aiming_grid, prob_grid_normalscore_nt, prob_grid_singlescore_nt, prob_grid_doublescore_nt, prob_grid_triplescore_nt, prob_grid_bullscore_nt,prob_grid_normalscore_t, prob_grid_singlescore_t, prob_grid_doublescore_t, prob_grid_triplescore_t, prob_grid_bullscore_t)\n",
    "# optimal_action_index = result_dic['optimal_action_index_dic']\n"
   ]
  },
  {
   "cell_type": "code",
   "execution_count": 4,
   "metadata": {},
   "outputs": [
    {
     "name": "stdout",
     "output_type": "stream",
     "text": [
      "load_pickle from ./data_parameter/player_gaussin_fit/grid_custom_no_tokens/player10_e1_gaussin_prob_grid_custom_no_tokens.pkl\n",
      "load_pickle from ./data_parameter/player_gaussin_fit/grid_custom_tokens/t_gaussin_prob_grid_custom_tokens.pkl\n"
     ]
    },
    {
     "name": "stderr",
     "output_type": "stream",
     "text": [
      "/Users/rachael/Desktop/darts-thesis/helpers.py:693: RuntimeWarning: divide by zero encountered in divide\n",
      "  num_tothrow = num_tothrow / prob_otherstate\n",
      "/Users/rachael/Desktop/darts-thesis/helpers.py:693: RuntimeWarning: overflow encountered in divide\n",
      "  num_tothrow = num_tothrow / prob_otherstate\n",
      "/Users/rachael/Desktop/darts-thesis/helpers.py:731: RuntimeWarning: divide by zero encountered in divide\n",
      "  num_tothrow = num_tothrow / prob_otherstate\n",
      "/Users/rachael/Desktop/darts-thesis/helpers.py:731: RuntimeWarning: overflow encountered in divide\n",
      "  num_tothrow = num_tothrow / prob_otherstate\n",
      "/Users/rachael/Desktop/darts-thesis/helpers.py:1163: RuntimeWarning: divide by zero encountered in divide\n",
      "  num_turns_array[:,score_gained_index] = num_turns_array[:,score_gained_index] / prob_notbust_dic_nt[score_max]\n",
      "/Users/rachael/Desktop/darts-thesis/helpers.py:1163: RuntimeWarning: overflow encountered in divide\n",
      "  num_turns_array[:,score_gained_index] = num_turns_array[:,score_gained_index] / prob_notbust_dic_nt[score_max]\n",
      "/Users/rachael/Desktop/darts-thesis/helpers.py:1150: RuntimeWarning: divide by zero encountered in divide\n",
      "  num_turns_array[:imdp.throw_num,score_gained_index] = num_turns_array[:imdp.throw_num,score_gained_index] / prob_notbust_dic_nt[score_max][:imdp.throw_num]\n",
      "/Users/rachael/Desktop/darts-thesis/helpers.py:1150: RuntimeWarning: overflow encountered in divide\n",
      "  num_turns_array[:imdp.throw_num,score_gained_index] = num_turns_array[:imdp.throw_num,score_gained_index] / prob_notbust_dic_nt[score_max][:imdp.throw_num]\n",
      "/Users/rachael/Desktop/darts-thesis/helpers.py:1156: RuntimeWarning: divide by zero encountered in divide\n",
      "  num_turns_array[imdp.throw_num:,score_gained_index] = num_turns_array[imdp.throw_num:,score_gained_index] / prob_notbust_dic_t[score_max][imdp.throw_num:]\n",
      "/Users/rachael/Desktop/darts-thesis/helpers.py:1183: RuntimeWarning: divide by zero encountered in divide\n",
      "  value_relerror[rt] = np.abs((state_value_update[rt] - state_value[rt])/state_value_update[rt]).max()\n",
      "/Users/rachael/Desktop/darts-thesis/helpers.py:1183: RuntimeWarning: invalid value encountered in divide\n",
      "  value_relerror[rt] = np.abs((state_value_update[rt] - state_value[rt])/state_value_update[rt]).max()\n"
     ]
    },
    {
     "name": "stdout",
     "output_type": "stream",
     "text": [
      "solve dp_turn_policyiter in 25.939202070236206 seconds\n",
      "[[0.     0.     1.8856 ... 5.5944 5.5758 5.6116]\n",
      " [0.     0.     1.     ... 4.9685 4.9631 4.9765]\n",
      " [0.     0.     1.     ... 4.7444 4.7403 4.7516]\n",
      " ...\n",
      " [0.     0.     1.     ... 3.8072 3.8026 3.783 ]\n",
      " [0.     0.     1.     ... 3.5561 3.5447 3.4989]\n",
      " [0.     0.     1.     ... 3.     3.     3.    ]]\n"
     ]
    }
   ],
   "source": [
    "sim = simulator.Simulator()\n",
    "#sim.simulate_game(starting_score=501, starting_credits=0, spot_darts=None, spot_points=None)"
   ]
  },
  {
   "cell_type": "code",
   "execution_count": 5,
   "metadata": {},
   "outputs": [],
   "source": [
    "# Build Dataset \n",
    "\n",
    "def build_dataset(simulation_paths,player_num,epsilon,tokens,spot_points,spot_darts):\n",
    "    data_list = []\n",
    "    data_cols = ['player','epsilon','tokens','spot_points','spot_darts','game_id','throw_number','state','state_score','state_tokens']\n",
    "\n",
    "    for game in range(len(simulation_paths)):\n",
    "\n",
    "        for throw in range(len(simulation_paths[game])):\n",
    "\n",
    "            data_list.append([player_num,epsilon,tokens,spot_points,spot_darts,game,throw,simulation_paths[game][throw],simulation_paths[game][throw][0],simulation_paths[game][throw][1]])\n",
    "\n",
    "    df = pd.DataFrame(data_list,columns=data_cols)\n",
    "\n",
    "    return df "
   ]
  },
  {
   "cell_type": "code",
   "execution_count": 7,
   "metadata": {},
   "outputs": [
    {
     "name": "stdout",
     "output_type": "stream",
     "text": [
      "load_pickle from ./data_parameter/player_gaussin_fit/grid_custom_no_tokens/player10_e1_gaussin_prob_grid_custom_no_tokens.pkl\n",
      "load_pickle from ./data_parameter/player_gaussin_fit/grid_custom_tokens/t_gaussin_prob_grid_custom_tokens.pkl\n"
     ]
    },
    {
     "name": "stderr",
     "output_type": "stream",
     "text": [
      "/Users/rachael/Desktop/darts-thesis/helpers.py:693: RuntimeWarning: divide by zero encountered in divide\n",
      "  num_tothrow = num_tothrow / prob_otherstate\n",
      "/Users/rachael/Desktop/darts-thesis/helpers.py:693: RuntimeWarning: overflow encountered in divide\n",
      "  num_tothrow = num_tothrow / prob_otherstate\n",
      "/Users/rachael/Desktop/darts-thesis/helpers.py:731: RuntimeWarning: divide by zero encountered in divide\n",
      "  num_tothrow = num_tothrow / prob_otherstate\n",
      "/Users/rachael/Desktop/darts-thesis/helpers.py:731: RuntimeWarning: overflow encountered in divide\n",
      "  num_tothrow = num_tothrow / prob_otherstate\n",
      "/Users/rachael/Desktop/darts-thesis/helpers.py:1163: RuntimeWarning: divide by zero encountered in divide\n",
      "  num_turns_array[:,score_gained_index] = num_turns_array[:,score_gained_index] / prob_notbust_dic_nt[score_max]\n",
      "/Users/rachael/Desktop/darts-thesis/helpers.py:1163: RuntimeWarning: overflow encountered in divide\n",
      "  num_turns_array[:,score_gained_index] = num_turns_array[:,score_gained_index] / prob_notbust_dic_nt[score_max]\n",
      "/Users/rachael/Desktop/darts-thesis/helpers.py:1150: RuntimeWarning: divide by zero encountered in divide\n",
      "  num_turns_array[:imdp.throw_num,score_gained_index] = num_turns_array[:imdp.throw_num,score_gained_index] / prob_notbust_dic_nt[score_max][:imdp.throw_num]\n",
      "/Users/rachael/Desktop/darts-thesis/helpers.py:1150: RuntimeWarning: overflow encountered in divide\n",
      "  num_turns_array[:imdp.throw_num,score_gained_index] = num_turns_array[:imdp.throw_num,score_gained_index] / prob_notbust_dic_nt[score_max][:imdp.throw_num]\n",
      "/Users/rachael/Desktop/darts-thesis/helpers.py:1156: RuntimeWarning: divide by zero encountered in divide\n",
      "  num_turns_array[imdp.throw_num:,score_gained_index] = num_turns_array[imdp.throw_num:,score_gained_index] / prob_notbust_dic_t[score_max][imdp.throw_num:]\n",
      "/Users/rachael/Desktop/darts-thesis/helpers.py:1183: RuntimeWarning: divide by zero encountered in divide\n",
      "  value_relerror[rt] = np.abs((state_value_update[rt] - state_value[rt])/state_value_update[rt]).max()\n",
      "/Users/rachael/Desktop/darts-thesis/helpers.py:1183: RuntimeWarning: invalid value encountered in divide\n",
      "  value_relerror[rt] = np.abs((state_value_update[rt] - state_value[rt])/state_value_update[rt]).max()\n"
     ]
    },
    {
     "name": "stdout",
     "output_type": "stream",
     "text": [
      "solve dp_turn_policyiter in 25.176536083221436 seconds\n",
      "[[0.     0.     1.8856 ... 5.5944 5.5758 5.6116]\n",
      " [0.     0.     1.     ... 4.9685 4.9631 4.9765]\n",
      " [0.     0.     1.     ... 4.7444 4.7403 4.7516]\n",
      " ...\n",
      " [0.     0.     1.     ... 3.8072 3.8026 3.783 ]\n",
      " [0.     0.     1.     ... 3.5561 3.5447 3.4989]\n",
      " [0.     0.     1.     ... 3.     3.     3.    ]]\n",
      "Ran in 0.049s.\n",
      "load_pickle from ./data_parameter/player_gaussin_fit/grid_custom_no_tokens/player10_e2_gaussin_prob_grid_custom_no_tokens.pkl\n",
      "load_pickle from ./data_parameter/player_gaussin_fit/grid_custom_tokens/t_gaussin_prob_grid_custom_tokens.pkl\n"
     ]
    },
    {
     "name": "stderr",
     "output_type": "stream",
     "text": [
      "/Users/rachael/Desktop/darts-thesis/helpers.py:693: RuntimeWarning: divide by zero encountered in divide\n",
      "  num_tothrow = num_tothrow / prob_otherstate\n",
      "/Users/rachael/Desktop/darts-thesis/helpers.py:731: RuntimeWarning: divide by zero encountered in divide\n",
      "  num_tothrow = num_tothrow / prob_otherstate\n",
      "/Users/rachael/Desktop/darts-thesis/helpers.py:1156: RuntimeWarning: divide by zero encountered in divide\n",
      "  num_turns_array[imdp.throw_num:,score_gained_index] = num_turns_array[imdp.throw_num:,score_gained_index] / prob_notbust_dic_t[score_max][imdp.throw_num:]\n",
      "/Users/rachael/Desktop/darts-thesis/helpers.py:1183: RuntimeWarning: divide by zero encountered in divide\n",
      "  value_relerror[rt] = np.abs((state_value_update[rt] - state_value[rt])/state_value_update[rt]).max()\n",
      "/Users/rachael/Desktop/darts-thesis/helpers.py:1183: RuntimeWarning: invalid value encountered in divide\n",
      "  value_relerror[rt] = np.abs((state_value_update[rt] - state_value[rt])/state_value_update[rt]).max()\n"
     ]
    },
    {
     "name": "stdout",
     "output_type": "stream",
     "text": [
      "solve dp_turn_policyiter in 27.915621995925903 seconds\n",
      "[[0.     0.     2.5371 ... 7.405  7.4122 7.4278]\n",
      " [0.     0.     1.     ... 6.267  6.2766 6.2897]\n",
      " [0.     0.     1.     ... 5.8664 5.8755 5.8889]\n",
      " ...\n",
      " [0.     0.     1.     ... 3.9977 3.9967 4.0008]\n",
      " [0.     0.     1.     ... 3.7246 3.6864 3.6893]\n",
      " [0.     0.     1.     ... 3.     3.     3.    ]]\n",
      "Ran in 0.065s.\n",
      "load_pickle from ./data_parameter/player_gaussin_fit/grid_custom_no_tokens/player10_e3_gaussin_prob_grid_custom_no_tokens.pkl\n",
      "load_pickle from ./data_parameter/player_gaussin_fit/grid_custom_tokens/t_gaussin_prob_grid_custom_tokens.pkl\n"
     ]
    },
    {
     "name": "stderr",
     "output_type": "stream",
     "text": [
      "/Users/rachael/Desktop/darts-thesis/helpers.py:693: RuntimeWarning: divide by zero encountered in divide\n",
      "  num_tothrow = num_tothrow / prob_otherstate\n",
      "/Users/rachael/Desktop/darts-thesis/helpers.py:731: RuntimeWarning: divide by zero encountered in divide\n",
      "  num_tothrow = num_tothrow / prob_otherstate\n",
      "/Users/rachael/Desktop/darts-thesis/helpers.py:1156: RuntimeWarning: divide by zero encountered in divide\n",
      "  num_turns_array[imdp.throw_num:,score_gained_index] = num_turns_array[imdp.throw_num:,score_gained_index] / prob_notbust_dic_t[score_max][imdp.throw_num:]\n",
      "/Users/rachael/Desktop/darts-thesis/helpers.py:1183: RuntimeWarning: divide by zero encountered in divide\n",
      "  value_relerror[rt] = np.abs((state_value_update[rt] - state_value[rt])/state_value_update[rt]).max()\n",
      "/Users/rachael/Desktop/darts-thesis/helpers.py:1183: RuntimeWarning: invalid value encountered in divide\n",
      "  value_relerror[rt] = np.abs((state_value_update[rt] - state_value[rt])/state_value_update[rt]).max()\n"
     ]
    },
    {
     "name": "stdout",
     "output_type": "stream",
     "text": [
      "solve dp_turn_policyiter in 33.1960551738739 seconds\n",
      "[[0.     0.     3.0946 ... 8.938  8.9526 8.9673]\n",
      " [0.     0.     1.     ... 7.312  7.3264 7.341 ]\n",
      " [0.     0.     1.     ... 6.7576 6.772  6.7866]\n",
      " ...\n",
      " [0.     0.     1.     ... 4.1559 4.1634 4.1696]\n",
      " [0.     0.     1.     ... 3.7995 3.7591 3.7597]\n",
      " [0.     0.     1.     ... 3.     3.     3.    ]]\n",
      "Ran in 0.076s.\n",
      "load_pickle from ./data_parameter/player_gaussin_fit/grid_custom_no_tokens/player10_e4_gaussin_prob_grid_custom_no_tokens.pkl\n",
      "load_pickle from ./data_parameter/player_gaussin_fit/grid_custom_tokens/t_gaussin_prob_grid_custom_tokens.pkl\n"
     ]
    },
    {
     "name": "stderr",
     "output_type": "stream",
     "text": [
      "/Users/rachael/Desktop/darts-thesis/helpers.py:693: RuntimeWarning: divide by zero encountered in divide\n",
      "  num_tothrow = num_tothrow / prob_otherstate\n",
      "/Users/rachael/Desktop/darts-thesis/helpers.py:731: RuntimeWarning: divide by zero encountered in divide\n",
      "  num_tothrow = num_tothrow / prob_otherstate\n",
      "/Users/rachael/Desktop/darts-thesis/helpers.py:1156: RuntimeWarning: divide by zero encountered in divide\n",
      "  num_turns_array[imdp.throw_num:,score_gained_index] = num_turns_array[imdp.throw_num:,score_gained_index] / prob_notbust_dic_t[score_max][imdp.throw_num:]\n",
      "/Users/rachael/Desktop/darts-thesis/helpers.py:1183: RuntimeWarning: divide by zero encountered in divide\n",
      "  value_relerror[rt] = np.abs((state_value_update[rt] - state_value[rt])/state_value_update[rt]).max()\n",
      "/Users/rachael/Desktop/darts-thesis/helpers.py:1183: RuntimeWarning: invalid value encountered in divide\n",
      "  value_relerror[rt] = np.abs((state_value_update[rt] - state_value[rt])/state_value_update[rt]).max()\n"
     ]
    },
    {
     "name": "stdout",
     "output_type": "stream",
     "text": [
      "solve dp_turn_policyiter in 27.75742793083191 seconds\n",
      "[[ 0.      0.      3.6299 ... 10.1945 10.2106 10.227 ]\n",
      " [ 0.      0.      1.     ...  8.0904  8.1063  8.1227]\n",
      " [ 0.      0.      1.     ...  7.4217  7.4375  7.4541]\n",
      " ...\n",
      " [ 0.      0.      1.     ...  4.2948  4.3033  4.3148]\n",
      " [ 0.      0.      1.     ...  3.8377  3.799   3.8056]\n",
      " [ 0.      0.      1.     ...  3.      3.      3.    ]]\n",
      "Ran in 0.088s.\n",
      "load_pickle from ./data_parameter/player_gaussin_fit/grid_custom_no_tokens/player10_e5_gaussin_prob_grid_custom_no_tokens.pkl\n",
      "load_pickle from ./data_parameter/player_gaussin_fit/grid_custom_tokens/t_gaussin_prob_grid_custom_tokens.pkl\n"
     ]
    },
    {
     "name": "stderr",
     "output_type": "stream",
     "text": [
      "/Users/rachael/Desktop/darts-thesis/helpers.py:693: RuntimeWarning: divide by zero encountered in divide\n",
      "  num_tothrow = num_tothrow / prob_otherstate\n",
      "/Users/rachael/Desktop/darts-thesis/helpers.py:731: RuntimeWarning: divide by zero encountered in divide\n",
      "  num_tothrow = num_tothrow / prob_otherstate\n",
      "/Users/rachael/Desktop/darts-thesis/helpers.py:1156: RuntimeWarning: divide by zero encountered in divide\n",
      "  num_turns_array[imdp.throw_num:,score_gained_index] = num_turns_array[imdp.throw_num:,score_gained_index] / prob_notbust_dic_t[score_max][imdp.throw_num:]\n",
      "/Users/rachael/Desktop/darts-thesis/helpers.py:1183: RuntimeWarning: divide by zero encountered in divide\n",
      "  value_relerror[rt] = np.abs((state_value_update[rt] - state_value[rt])/state_value_update[rt]).max()\n",
      "/Users/rachael/Desktop/darts-thesis/helpers.py:1183: RuntimeWarning: invalid value encountered in divide\n",
      "  value_relerror[rt] = np.abs((state_value_update[rt] - state_value[rt])/state_value_update[rt]).max()\n"
     ]
    },
    {
     "name": "stdout",
     "output_type": "stream",
     "text": [
      "solve dp_turn_policyiter in 27.59005379676819 seconds\n",
      "[[ 0.      0.      4.1579 ... 11.2985 11.3159 11.3335]\n",
      " [ 0.      0.      1.     ...  8.7131  8.7305  8.7481]\n",
      " [ 0.      0.      1.     ...  7.9508  7.9681  7.9858]\n",
      " ...\n",
      " [ 0.      0.      1.     ...  4.4062  4.4171  4.4302]\n",
      " [ 0.      0.      1.     ...  3.8621  3.8266  3.8402]\n",
      " [ 0.      0.      1.     ...  3.      3.      3.    ]]\n",
      "Ran in 0.100s.\n",
      "load_pickle from ./data_parameter/player_gaussin_fit/grid_custom_no_tokens/player10_e6_gaussin_prob_grid_custom_no_tokens.pkl\n",
      "load_pickle from ./data_parameter/player_gaussin_fit/grid_custom_tokens/t_gaussin_prob_grid_custom_tokens.pkl\n"
     ]
    },
    {
     "name": "stderr",
     "output_type": "stream",
     "text": [
      "/Users/rachael/Desktop/darts-thesis/helpers.py:693: RuntimeWarning: divide by zero encountered in divide\n",
      "  num_tothrow = num_tothrow / prob_otherstate\n",
      "/Users/rachael/Desktop/darts-thesis/helpers.py:731: RuntimeWarning: divide by zero encountered in divide\n",
      "  num_tothrow = num_tothrow / prob_otherstate\n",
      "/Users/rachael/Desktop/darts-thesis/helpers.py:1156: RuntimeWarning: divide by zero encountered in divide\n",
      "  num_turns_array[imdp.throw_num:,score_gained_index] = num_turns_array[imdp.throw_num:,score_gained_index] / prob_notbust_dic_t[score_max][imdp.throw_num:]\n",
      "/Users/rachael/Desktop/darts-thesis/helpers.py:1183: RuntimeWarning: divide by zero encountered in divide\n",
      "  value_relerror[rt] = np.abs((state_value_update[rt] - state_value[rt])/state_value_update[rt]).max()\n",
      "/Users/rachael/Desktop/darts-thesis/helpers.py:1183: RuntimeWarning: invalid value encountered in divide\n",
      "  value_relerror[rt] = np.abs((state_value_update[rt] - state_value[rt])/state_value_update[rt]).max()\n"
     ]
    },
    {
     "name": "stdout",
     "output_type": "stream",
     "text": [
      "solve dp_turn_policyiter in 28.478217840194702 seconds\n",
      "[[ 0.      0.      4.6828 ... 12.2911 12.3097 12.3283]\n",
      " [ 0.      0.      1.     ...  9.2167  9.2353  9.2539]\n",
      " [ 0.      0.      1.     ...  8.3775  8.396   8.4146]\n",
      " ...\n",
      " [ 0.      0.      1.     ...  4.4991  4.5107  4.5277]\n",
      " [ 0.      0.      1.     ...  3.8821  3.8475  3.8685]\n",
      " [ 0.      0.      1.     ...  3.      3.      3.    ]]\n",
      "Ran in 0.105s.\n",
      "load_pickle from ./data_parameter/player_gaussin_fit/grid_custom_no_tokens/player10_e7_gaussin_prob_grid_custom_no_tokens.pkl\n",
      "load_pickle from ./data_parameter/player_gaussin_fit/grid_custom_tokens/t_gaussin_prob_grid_custom_tokens.pkl\n"
     ]
    },
    {
     "name": "stderr",
     "output_type": "stream",
     "text": [
      "/Users/rachael/Desktop/darts-thesis/helpers.py:693: RuntimeWarning: divide by zero encountered in divide\n",
      "  num_tothrow = num_tothrow / prob_otherstate\n",
      "/Users/rachael/Desktop/darts-thesis/helpers.py:731: RuntimeWarning: divide by zero encountered in divide\n",
      "  num_tothrow = num_tothrow / prob_otherstate\n",
      "/Users/rachael/Desktop/darts-thesis/helpers.py:1156: RuntimeWarning: divide by zero encountered in divide\n",
      "  num_turns_array[imdp.throw_num:,score_gained_index] = num_turns_array[imdp.throw_num:,score_gained_index] / prob_notbust_dic_t[score_max][imdp.throw_num:]\n",
      "/Users/rachael/Desktop/darts-thesis/helpers.py:1183: RuntimeWarning: divide by zero encountered in divide\n",
      "  value_relerror[rt] = np.abs((state_value_update[rt] - state_value[rt])/state_value_update[rt]).max()\n",
      "/Users/rachael/Desktop/darts-thesis/helpers.py:1183: RuntimeWarning: invalid value encountered in divide\n",
      "  value_relerror[rt] = np.abs((state_value_update[rt] - state_value[rt])/state_value_update[rt]).max()\n"
     ]
    },
    {
     "name": "stdout",
     "output_type": "stream",
     "text": [
      "solve dp_turn_policyiter in 27.745243072509766 seconds\n",
      "[[ 0.      0.      5.2061 ... 13.1942 13.2137 13.2331]\n",
      " [ 0.      0.      1.     ...  9.627   9.6465  9.666 ]\n",
      " [ 0.      0.      1.     ...  8.7243  8.7437  8.7632]\n",
      " ...\n",
      " [ 0.      0.      1.     ...  4.5744  4.5875  4.6058]\n",
      " [ 0.      0.      1.     ...  3.9     3.8645  3.8941]\n",
      " [ 0.      0.      1.     ...  3.      3.      3.    ]]\n",
      "Ran in 0.133s.\n",
      "load_pickle from ./data_parameter/player_gaussin_fit/grid_custom_no_tokens/player10_e8_gaussin_prob_grid_custom_no_tokens.pkl\n",
      "load_pickle from ./data_parameter/player_gaussin_fit/grid_custom_tokens/t_gaussin_prob_grid_custom_tokens.pkl\n"
     ]
    },
    {
     "name": "stderr",
     "output_type": "stream",
     "text": [
      "/Users/rachael/Desktop/darts-thesis/helpers.py:693: RuntimeWarning: divide by zero encountered in divide\n",
      "  num_tothrow = num_tothrow / prob_otherstate\n",
      "/Users/rachael/Desktop/darts-thesis/helpers.py:731: RuntimeWarning: divide by zero encountered in divide\n",
      "  num_tothrow = num_tothrow / prob_otherstate\n",
      "/Users/rachael/Desktop/darts-thesis/helpers.py:1156: RuntimeWarning: divide by zero encountered in divide\n",
      "  num_turns_array[imdp.throw_num:,score_gained_index] = num_turns_array[imdp.throw_num:,score_gained_index] / prob_notbust_dic_t[score_max][imdp.throw_num:]\n",
      "/Users/rachael/Desktop/darts-thesis/helpers.py:1183: RuntimeWarning: divide by zero encountered in divide\n",
      "  value_relerror[rt] = np.abs((state_value_update[rt] - state_value[rt])/state_value_update[rt]).max()\n",
      "/Users/rachael/Desktop/darts-thesis/helpers.py:1183: RuntimeWarning: invalid value encountered in divide\n",
      "  value_relerror[rt] = np.abs((state_value_update[rt] - state_value[rt])/state_value_update[rt]).max()\n"
     ]
    },
    {
     "name": "stdout",
     "output_type": "stream",
     "text": [
      "solve dp_turn_policyiter in 32.46235108375549 seconds\n",
      "[[ 0.      0.      5.7282 ... 14.0264 14.0466 14.0667]\n",
      " [ 0.      0.      1.     ...  9.9656  9.9858 10.006 ]\n",
      " [ 0.      0.      1.     ...  9.0095  9.0297  9.0499]\n",
      " ...\n",
      " [ 0.      0.      1.     ...  4.6377  4.6512  4.6709]\n",
      " [ 0.      0.      1.     ...  3.909   3.8791  3.9178]\n",
      " [ 0.      0.      1.     ...  3.      3.      3.    ]]\n",
      "Ran in 0.130s.\n"
     ]
    }
   ],
   "source": [
    "# Initialize Parameters \n",
    "\n",
    "iterations = 100\n",
    "player_num = 10\n",
    "tokens = 0\n",
    "epsilon_list = [1,2,3,4,5,6,7,8]\n",
    "starting_score = 501\n",
    "spot_points=None\n",
    "spot_darts=None\n",
    "\n",
    "sim_list = []\n",
    "\n",
    "col_names = ['player','epsilon','tokens','spot_points','spot_darts','game_id','throw_number','state','state_score','state_tokens']\n",
    "df = pd.DataFrame(columns=col_names)\n",
    "\n",
    "for epsilon in epsilon_list:\n",
    "    \n",
    "    sim_list.append(simulator.Simulator(player_num=player_num,epsilon=epsilon))\n",
    "    i = epsilon_list.index(epsilon)\n",
    "    simulation_paths = sim_list[i].run_simulation(iterations, starting_score=starting_score, starting_credits=tokens, spot_darts=spot_darts, spot_points=spot_points)\n",
    "    df = pd.concat([df,build_dataset(simulation_paths,player_num,epsilon,tokens,spot_points,spot_darts)])\n",
    "    df = df.reset_index().drop(['index'],axis=1)"
   ]
  },
  {
   "cell_type": "code",
   "execution_count": 38,
   "metadata": {},
   "outputs": [
    {
     "name": "stdout",
     "output_type": "stream",
     "text": [
      "Ran in 4.529s.\n",
      "Ran in 4.499s.\n",
      "Ran in 4.658s.\n",
      "Ran in 6.249s.\n",
      "Ran in 4.489s.\n",
      "Ran in 7.369s.\n",
      "Ran in 4.950s.\n",
      "Ran in 8.683s.\n",
      "Ran in 4.587s.\n",
      "Ran in 9.097s.\n",
      "Ran in 4.490s.\n",
      "Ran in 9.970s.\n",
      "Ran in 4.540s.\n",
      "Ran in 10.468s.\n",
      "Ran in 4.452s.\n",
      "Ran in 11.008s.\n",
      "Ran in 5.877s.\n",
      "Ran in 5.878s.\n",
      "Ran in 5.894s.\n",
      "Ran in 7.165s.\n",
      "Ran in 5.936s.\n",
      "Ran in 8.167s.\n",
      "Ran in 5.908s.\n",
      "Ran in 8.970s.\n",
      "Ran in 6.028s.\n",
      "Ran in 9.949s.\n",
      "Ran in 6.034s.\n",
      "Ran in 10.439s.\n",
      "Ran in 5.953s.\n",
      "Ran in 11.029s.\n",
      "Ran in 7.166s.\n",
      "Ran in 7.316s.\n",
      "Ran in 7.294s.\n",
      "Ran in 8.271s.\n",
      "Ran in 7.332s.\n",
      "Ran in 8.961s.\n",
      "Ran in 7.175s.\n",
      "Ran in 9.590s.\n",
      "Ran in 7.257s.\n",
      "Ran in 10.582s.\n",
      "Ran in 7.485s.\n",
      "Ran in 11.251s.\n",
      "Ran in 8.381s.\n",
      "Ran in 8.294s.\n",
      "Ran in 8.272s.\n",
      "Ran in 9.130s.\n",
      "Ran in 8.092s.\n",
      "Ran in 9.699s.\n",
      "Ran in 8.179s.\n",
      "Ran in 10.346s.\n",
      "Ran in 8.107s.\n",
      "Ran in 10.916s.\n",
      "Ran in 8.959s.\n",
      "Ran in 8.976s.\n",
      "Ran in 8.973s.\n",
      "Ran in 9.655s.\n",
      "Ran in 9.049s.\n",
      "Ran in 10.377s.\n",
      "Ran in 8.977s.\n",
      "Ran in 10.897s.\n",
      "Ran in 9.694s.\n",
      "Ran in 9.673s.\n",
      "Ran in 9.657s.\n",
      "Ran in 10.344s.\n",
      "Ran in 9.830s.\n",
      "Ran in 10.963s.\n",
      "Ran in 10.427s.\n",
      "Ran in 10.504s.\n",
      "Ran in 10.383s.\n",
      "Ran in 11.208s.\n",
      "Ran in 10.970s.\n",
      "Ran in 11.174s.\n"
     ]
    }
   ],
   "source": [
    "# Initialize Parameters \n",
    "\n",
    "iterations = 10000\n",
    "player_num = 10\n",
    "tokens1 = 0\n",
    "tokens0 = 0\n",
    "epsilon_list = [1,2,3,4,5,6,7,8]\n",
    "starting_score = 501\n",
    "spot_points1=0\n",
    "spot_points0=0\n",
    "spot_darts1=0\n",
    "spot_darts0=0\n",
    "\n",
    "outcomes = []\n",
    "\n",
    "\n",
    "for epsilon1 in epsilon_list:\n",
    "    \n",
    "    for epsilon0 in epsilon_list:\n",
    "\n",
    "        if epsilon1<=epsilon0:\n",
    "\n",
    "            i1 = epsilon_list.index(epsilon1)\n",
    "            sim1 = sim_list[i1]\n",
    "            sim1_paths = sim1.run_simulation(iterations, starting_score=starting_score, starting_credits=tokens1, spot_darts=spot_darts1, spot_points=spot_points1)\n",
    "            \n",
    "            i0 = epsilon_list.index(epsilon0)\n",
    "            sim0 = sim_list[i0]\n",
    "            sim0_paths = sim0.run_simulation(iterations, starting_score=starting_score, starting_credits=tokens0, spot_darts=spot_darts0, spot_points=spot_points0)\n",
    "        \n",
    "            starter = 0 \n",
    "\n",
    "            for iter in range(iterations):\n",
    "\n",
    "                # get the number of turns needed to win \n",
    "                turns1 = math.ceil((len(sim1_paths[iter]) - 1) / 3)\n",
    "                turns0 = math.ceil((len(sim0_paths[iter]) - 1) / 3)\n",
    "\n",
    "                # declare the winner \n",
    "                if turns1 < turns0: \n",
    "                    winner = 1\n",
    "                elif turns1 > turns0:\n",
    "                    winner = 0\n",
    "                elif turns1 == turns0:\n",
    "                    winner = starter \n",
    "                \n",
    "                # update starter so that they take turns\n",
    "                if starter == 1:\n",
    "                    starter = 0\n",
    "                else:\n",
    "                    starter =1 \n",
    "                \n",
    "                outcomes.append([player_num,epsilon1,epsilon0,tokens1,tokens0,spot_points1,spot_points0,spot_darts1,spot_darts0,iter,winner])\n",
    "\n"
   ]
  },
  {
   "cell_type": "code",
   "execution_count": 39,
   "metadata": {},
   "outputs": [],
   "source": [
    "col_names = ['player','epsilon_strong','epsilon_weak','tokens_strong','tokens_weak','spot_points_strong','spot_points_weak','spot_darts_strong','spot_darts_weak','game_id','winner_strong']\n",
    "df = pd.DataFrame(data=outcomes,columns=col_names)"
   ]
  },
  {
   "cell_type": "code",
   "execution_count": 49,
   "metadata": {},
   "outputs": [],
   "source": [
    "df_baseline_results = df.groupby(['epsilon_strong','epsilon_weak']).mean('winner_strong')['winner_strong'].reset_index()\n",
    "#df_baseline_results\n",
    "df_baseline_results = df_baseline_results.round(2)"
   ]
  },
  {
   "cell_type": "code",
   "execution_count": 50,
   "metadata": {},
   "outputs": [
    {
     "data": {
      "image/png": "[encoded data removed]",
      "text/plain": [
       "<Figure size 600x600 with 1 Axes>"
      ]
     },
     "metadata": {},
     "output_type": "display_data"
    }
   ],
   "source": [
    "import seaborn as sns\n",
    "import matplotlib.pyplot as plt\n",
    "\n",
    "df_baseline_results_graph = df_baseline_results.pivot(columns='epsilon_weak',index='epsilon_strong',values='winner_strong')\n",
    "\n",
    "fig = sns.set(rc={'figure.figsize':(6,6)})\n",
    "fig = sns.heatmap(df_baseline_results_graph,annot=True,annot_kws={\"size\": 10},fmt=\"\",cmap='Reds',linewidths=0.30,cbar=False)\n",
    "#fig = plt.title(\"Difference in expected throws using spot point handicap system\")\n",
    "fig = plt.xlabel(r'$\\epsilon$')\n",
    "fig = plt.ylabel(r'$\\epsilon$')"
   ]
  },
  {
   "cell_type": "code",
   "execution_count": 55,
   "metadata": {},
   "outputs": [
    {
     "name": "stdout",
     "output_type": "stream",
     "text": [
      "0.2999999999999998\n"
     ]
    },
    {
     "data": {
      "text/plain": [
       "3000.0"
      ]
     },
     "execution_count": 55,
     "metadata": {},
     "output_type": "execute_result"
    }
   ],
   "source": [
    "beta = 3.3\n",
    "lower_beta =  math.floor(beta)\n",
    "higher_beta = math.ceil(beta)\n",
    "\n",
    "gap = beta - math.floor(lower_beta)\n",
    "print(gap)\n",
    "iterations = 10000\n",
    "\n",
    "games_with_higher = gap * iterations \n",
    "np.round(games_with_higher)\n",
    "\n"
   ]
  },
  {
   "cell_type": "code",
   "execution_count": null,
   "metadata": {},
   "outputs": [],
   "source": [
    "'''\n",
    "\n",
    "(1) Baseline \n",
    "- % of games for different epsilons \n",
    "\n",
    "(2) Baseline handicaps (spot point)\n",
    "- % of games won with different other handicaps \n",
    "\n",
    "(3) Optimal handicap with beta \n",
    "- explore different rounding methods (floor vs. equalized expectatino) for credit \n",
    "\n",
    "(4) Optimal spot point\n",
    "- round and compare to optimal beta\n",
    "\n",
    "'''"
   ]
  },
  {
   "cell_type": "code",
   "execution_count": 46,
   "metadata": {},
   "outputs": [
    {
     "data": {
      "text/plain": [
       "[(501, 0, 3, 0),\n",
       " (501, 0, 2, 7),\n",
       " (501, 0, 1, 64),\n",
       " (418, 0, 3, 0),\n",
       " (418, 0, 2, 19),\n",
       " (418, 0, 1, 22),\n",
       " (393, 0, 3, 0),\n",
       " (393, 0, 2, 19),\n",
       " (393, 0, 1, 38),\n",
       " (298, 0, 3, 0),\n",
       " (298, 0, 2, 3),\n",
       " (298, 0, 1, 60),\n",
       " (219, 0, 3, 0),\n",
       " (219, 0, 2, 3),\n",
       " (219, 0, 1, 22),\n",
       " (194, 0, 3, 0),\n",
       " (194, 0, 2, 3),\n",
       " (194, 0, 1, 22),\n",
       " (153, 0, 3, 0),\n",
       " (153, 0, 2, 7),\n",
       " (153, 0, 1, 14),\n",
       " (82, 0, 3, 0),\n",
       " (82, 0, 2, 16),\n",
       " (82, 0, 1, 31),\n",
       " (32, 0, 3, 0),\n",
       " (32, 0, 2, 0),\n",
       " (32, 0, 1, 16),\n",
       " (16, 0, 3, 0),\n",
       " (16, 0, 2, 0),\n",
       " (16, 0, 1, 8),\n",
       " (16, 0, 3, 0),\n",
       " (16, 0, 2, 0),\n",
       " (16, 0, 1, 0),\n",
       " (8, 0, 3, 0),\n",
       " (8, 0, 2, 4),\n",
       " (8, 0, 3, 0),\n",
       " (8, 0, 2, 4),\n",
       " (8, 0, 1, 4),\n",
       " (2, 0, 3, 0),\n",
       " (2, 0, 3, 0),\n",
       " (2, 0, 3, 0),\n",
       " (2, 0, 3, 0),\n",
       " (2, 0, 3, 0),\n",
       " (2, 0, 3, 0),\n",
       " (2, 0, 2, 0),\n",
       " (2, 0, 3, 0),\n",
       " (2, 0, 2, 0),\n",
       " (2, 0, 3, 0),\n",
       " (0, 0, 0, 0)]"
      ]
     },
     "execution_count": 46,
     "metadata": {},
     "output_type": "execute_result"
    }
   ],
   "source": [
    "simulation_paths[1]"
   ]
  }
 ],
 "metadata": {
  "kernelspec": {
   "display_name": "darts",
   "language": "python",
   "name": "python3"
  },
  "language_info": {
   "codemirror_mode": {
    "name": "ipython",
    "version": 3
   },
   "file_extension": ".py",
   "mimetype": "text/x-python",
   "name": "python",
   "nbconvert_exporter": "python",
   "pygments_lexer": "ipython3",
   "version": "3.10.9"
  },
  "orig_nbformat": 4
 },
 "nbformat": 4,
 "nbformat_minor": 2
}
