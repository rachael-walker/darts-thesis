{
 "cells": [
  {
   "attachments": {},
   "cell_type": "markdown",
   "metadata": {},
   "source": [
    "## Setup\n",
    "\n",
    "Run the setup and imports for the notebook."
   ]
  },
  {
   "cell_type": "code",
   "execution_count": 1,
   "metadata": {},
   "outputs": [
    {
     "name": "stdout",
     "output_type": "stream",
     "text": [
      "generate and save action set grid_version=custom_no_tokens\n",
      "load_pickle from ./data_parameter/player_gaussin_fit/grid_full/player10_gaussin_prob_grid.pkl\n",
      "load_pickle from ./data_parameter/player_gaussin_fit/grid_full/playert_gaussin_prob_grid.pkl\n",
      "dump_pickle to ./data_parameter/player_gaussin_fit/grid_custom_no_tokens/player10_gaussin_prob_grid_custom_no_tokens.pkl\n",
      "\n",
      "generate and save action set grid_version=custom_tokens\n",
      "load_pickle from ./data_parameter/player_gaussin_fit/grid_full/player10_gaussin_prob_grid.pkl\n",
      "dump_pickle to ./data_parameter/player_gaussin_fit/grid_custom_tokens/player10_gaussin_prob_grid_custom_tokens.pkl\n",
      "\n",
      "generate and save action set grid_version=custom_only_tokens\n",
      "load_pickle from ./data_parameter/player_gaussin_fit/grid_full/playert_gaussin_prob_grid.pkl\n",
      "dump_pickle to ./data_parameter/player_gaussin_fit/grid_custom_only_tokens/player10_gaussin_prob_grid_custom_only_tokens.pkl\n",
      "\n",
      "load_pickle from ./data_parameter/player_gaussin_fit/grid_custom_no_tokens/player10_gaussin_prob_grid_custom_no_tokens.pkl\n",
      "load_pickle from ./data_parameter/player_gaussin_fit/grid_custom_no_tokens/player10_gaussin_prob_grid_custom_no_tokens.pkl\n",
      "load_pickle from ./data_parameter/player_gaussin_fit/grid_custom_tokens/player10_gaussin_prob_grid_custom_tokens.pkl\n"
     ]
    }
   ],
   "source": [
    "import init_load_board\n",
    "exec(open('init_load_board.py').read())\n",
    "\n",
    "import init_simple_mdp\n",
    "exec(open('init_simple_mdp.py').read())\n",
    "\n",
    "import numpy as np\n",
    "\n",
    "import function_board as fb \n",
    "import function_tool as ft\n",
    "import function_get_aiming_grid \n",
    "exec(open('function_get_aiming_grid.py').read())\n",
    "\n",
    "import evaluate_score_probability_with_error as esp\n",
    "import function_solve_dp\n",
    "\n",
    "#%%\n",
    "data_parameter_dir = fb.data_parameter_dir\n",
    "result_dir = './result'       \n",
    "\n",
    "\n",
    "a_throw_list = []\n",
    "a_token_list = []\n",
    "\n",
    "for a in actions:\n",
    "    a_throw_list.append(a)\n",
    "\n",
    "for a in token_actions:\n",
    "    a_token_list.append(a)\n",
    "\n",
    "max_tokens = 1\n",
    "\n",
    "name_pa = 'player{}'.format(10)\n",
    "\n",
    "\n",
    "import os\n",
    "import sys\n",
    "import time\n",
    "\n",
    "import function_board as fb\n",
    "import function_tool as ft\n",
    "import function_get_aiming_grid\n",
    "import function_evaluate_policy as fep\n",
    "\n",
    "import numpy as np\n",
    "np.set_printoptions(precision=4)\n",
    "np.set_printoptions(linewidth=300)\n",
    "np.set_printoptions(threshold=300)\n",
    "\n",
    "import torch\n",
    "torch.set_printoptions(precision=4)\n",
    "torch.set_printoptions(linewidth=300)\n",
    "torch.set_printoptions(threshold=300)\n",
    "\n",
    "playerID_list = [10]\n",
    "function_get_aiming_grid.save_aiming_grid_custom_no_tokens(playerID_list)\n",
    "function_get_aiming_grid.save_aiming_grid_custom_tokens(playerID_list)\n",
    "function_get_aiming_grid.save_aiming_grid_custom_only_tokens(playerID_list)\n",
    "\n",
    "[aiming_grid, prob_grid_normalscore, prob_grid_singlescore, prob_grid_doublescore, prob_grid_triplescore, prob_grid_bullscore] = function_get_aiming_grid.load_aiming_grid(name_pa, data_parameter_dir=data_parameter_dir, grid_version='custom_no_tokens')\n",
    "\n",
    "[aiming_grid, prob_grid_normalscore_nt, prob_grid_singlescore_nt, prob_grid_doublescore_nt, prob_grid_triplescore_nt, prob_grid_bullscore_nt] = function_get_aiming_grid.load_aiming_grid(name_pa, data_parameter_dir=data_parameter_dir, grid_version='custom_no_tokens')\n",
    "[aiming_grid, prob_grid_normalscore_t, prob_grid_singlescore_t, prob_grid_doublescore_t, prob_grid_triplescore_t, prob_grid_bullscore_t] = function_get_aiming_grid.load_aiming_grid(name_pa, data_parameter_dir=data_parameter_dir, grid_version='custom_tokens')\n",
    "\n",
    "import function_solve_dp_tokens as fsdt\n",
    "\n",
    "prob_grid_doublescore_dic = None\n",
    "prob_grid_doublescore_dic_t = None"
   ]
  },
  {
   "attachments": {},
   "cell_type": "markdown",
   "metadata": {},
   "source": [
    "## Token Code\n",
    "\n",
    "Set the number of tokens in the first cell and then run the second cell to solve."
   ]
  },
  {
   "cell_type": "code",
   "execution_count": 2,
   "metadata": {},
   "outputs": [],
   "source": [
    "tokens = 9\n",
    "max_token_index = tokens + 1"
   ]
  },
  {
   "cell_type": "code",
   "execution_count": 3,
   "metadata": {},
   "outputs": [
    {
     "name": "stderr",
     "output_type": "stream",
     "text": [
      "/var/folders/jj/jcq76kp53_zchkx8b5cvhdsh0000gn/T/ipykernel_38840/1551499714.py:70: RuntimeWarning: divide by zero encountered in divide\n",
      "  num_tothrow = num_tothrow / prob_otherstate\n",
      "/var/folders/jj/jcq76kp53_zchkx8b5cvhdsh0000gn/T/ipykernel_38840/1551499714.py:70: RuntimeWarning: overflow encountered in divide\n",
      "  num_tothrow = num_tothrow / prob_otherstate\n",
      "/var/folders/jj/jcq76kp53_zchkx8b5cvhdsh0000gn/T/ipykernel_38840/1551499714.py:108: RuntimeWarning: divide by zero encountered in divide\n",
      "  num_tothrow = num_tothrow / prob_otherstate\n",
      "/var/folders/jj/jcq76kp53_zchkx8b5cvhdsh0000gn/T/ipykernel_38840/1551499714.py:108: RuntimeWarning: overflow encountered in divide\n",
      "  num_tothrow = num_tothrow / prob_otherstate\n"
     ]
    }
   ],
   "source": [
    "num_aiming_location = aiming_grid.shape[0]\n",
    "prob_normalscore_1tosmax_dic = {}\n",
    "prob_normalscore_1tosmaxsum_dic = {}\n",
    "prob_normalscore_1tosmax_dic_t = {}\n",
    "prob_normalscore_1tosmaxsum_dic_t = {}\n",
    "\n",
    "# No tokens\n",
    "for score_max in range(0,61):\n",
    "    score_max_plus1 = score_max + 1 \n",
    "    prob_normalscore_1tosmax_dic[score_max] = np.array(prob_grid_normalscore[:,1:score_max_plus1])\n",
    "    prob_normalscore_1tosmaxsum_dic[score_max] = prob_normalscore_1tosmax_dic[score_max].sum(axis=1)\n",
    "if prob_grid_doublescore_dic is None:\n",
    "    prob_doublescore_dic = {}\n",
    "    for doublescore_index in range(20):\n",
    "        doublescore = 2*(doublescore_index+1)\n",
    "        prob_doublescore_dic[doublescore] = np.array(prob_grid_doublescore[:,doublescore_index])\n",
    "else:\n",
    "    prob_doublescore_dic = prob_grid_doublescore_dic\n",
    "prob_DB = np.array(prob_grid_bullscore[:,1])\n",
    "\n",
    "# Tokens\n",
    "for score_max in range(0,61):\n",
    "    score_max_plus1 = score_max + 1 \n",
    "    prob_normalscore_1tosmax_dic_t[score_max] = np.array(prob_grid_normalscore_t[:,1:score_max_plus1])\n",
    "    prob_normalscore_1tosmaxsum_dic_t[score_max] = prob_normalscore_1tosmax_dic_t[score_max].sum(axis=1)\n",
    "if prob_grid_doublescore_dic_t is None:\n",
    "    prob_doublescore_dic_t = {}\n",
    "    for doublescore_index in range(20):\n",
    "        doublescore = 2*(doublescore_index+1)\n",
    "        prob_doublescore_dic_t[doublescore] = np.array(prob_grid_doublescore_t[:,doublescore_index])\n",
    "else:\n",
    "    prob_doublescore_dic_t = prob_grid_doublescore_dic_t\n",
    "prob_DB_t = np.array(prob_grid_bullscore_t[:,1])\n",
    "\n",
    "## possible state: s = 0,1(not possible),2,...,501\n",
    "optimal_value = np.zeros((max_token_index,502))\n",
    "#optimal_value[1] = np.nan\n",
    "optimal_action_index = np.zeros((max_token_index,502), np.int32)\n",
    "optimal_action_index[:,0] = -1\n",
    "optimal_action_index[:,1] = -1\n",
    "\n",
    "for t in range(0,max_token_index):\n",
    "\n",
    "    if t==0: \n",
    "\n",
    "        for score_state in range(2,502):            \n",
    "            ## use matrix operation to search all aiming locations\n",
    "            \n",
    "            ## transit to less score state    \n",
    "            ## s1 = min(score_state-2, 60)\n",
    "            ## p[z=1]*v[score_state-1] + p[z=2]*v[score_state-2] + ... + p[z=s1]*v[score_state-s1]\n",
    "            score_max = min(score_state-2, 60)\n",
    "            score_max_plus1 = score_max + 1 \n",
    "\n",
    "            ## transit to next state\n",
    "            num_tothrow = 1.0 + prob_normalscore_1tosmax_dic[score_max].dot(optimal_value[0,score_state-1:score_state-score_max-1:-1])\n",
    "            ## probability of transition to state other than s itself\n",
    "            prob_otherstate = prob_normalscore_1tosmaxsum_dic[score_max]\n",
    "            \n",
    "            ## transit to the end of game\n",
    "            if (score_state == fb.score_DB): ## hit double bull\n",
    "                prob_otherstate += prob_DB\n",
    "            elif (score_state <= 40 and score_state%2==0): ## hit double\n",
    "                prob_otherstate += prob_doublescore_dic[score_state]\n",
    "            else: ## game does not end\n",
    "                pass\n",
    "            \n",
    "            ## expected number of throw for all aiming locations\n",
    "            prob_otherstate = np.maximum(prob_otherstate, 0)\n",
    "            num_tothrow = num_tothrow / prob_otherstate\n",
    "                                \n",
    "            ## searching\n",
    "            optimal_value[0,score_state] = num_tothrow.min()\n",
    "            optimal_action_index[0,score_state] = num_tothrow.argmin()\n",
    "    \n",
    "    else:\n",
    "\n",
    "        for score_state in range(2,502):            \n",
    "            ## use matrix operation to search all aiming locations\n",
    "            \n",
    "            ## transit to less score state    \n",
    "            ## s1 = min(score_state-2, 60)\n",
    "            ## p[z=1]*v[score_state-1] + p[z=2]*v[score_state-2] + ... + p[z=s1]*v[score_state-s1]\n",
    "            score_max = min(score_state-2, 60)\n",
    "            score_max_plus1 = score_max + 1 \n",
    "\n",
    "            ## transit to next state\n",
    "            num_tothrow = 1.0 \n",
    "            # tp_nt * v_t <-- save token and make throw\n",
    "            num_tothrow+= prob_normalscore_1tosmax_dic[score_max].dot(optimal_value[t,score_state-1:score_state-score_max-1:-1])\n",
    "            # tp_t * v_nt <-- use token \n",
    "            num_tothrow+= prob_normalscore_1tosmax_dic_t[score_max].dot(optimal_value[t-1,score_state-1:score_state-score_max-1:-1])\n",
    "            \n",
    "            ## probability of transition to state other than s itself\n",
    "            prob_otherstate = prob_normalscore_1tosmaxsum_dic[score_max] + prob_normalscore_1tosmaxsum_dic_t[score_max]\n",
    "            \n",
    "            ## transit to the end of game\n",
    "            if (score_state == fb.score_DB): ## hit double bull\n",
    "                prob_otherstate += prob_DB + prob_DB_t\n",
    "            elif (score_state <= 40 and score_state%2==0): ## hit double\n",
    "                prob_otherstate += prob_doublescore_dic[score_state]\n",
    "                prob_otherstate += prob_doublescore_dic_t[score_state]\n",
    "            else: ## game does not end\n",
    "                pass\n",
    "            \n",
    "            ## expected number of throw for all aiming locations\n",
    "            prob_otherstate = np.maximum(prob_otherstate, 0)\n",
    "            num_tothrow = num_tothrow / prob_otherstate\n",
    "                                \n",
    "            ## searching\n",
    "            optimal_value[t,score_state] = num_tothrow.min()\n",
    "            optimal_action_index[t,score_state] = num_tothrow.argmin()"
   ]
  },
  {
   "cell_type": "code",
   "execution_count": 4,
   "metadata": {},
   "outputs": [
    {
     "data": {
      "text/plain": [
       "array([[ 0.    ,  0.    ,  2.0893, ..., 14.0691, 14.1144, 14.1292],\n",
       "       [ 0.    ,  0.    ,  1.    , ..., 12.4836, 12.4423, 12.4665],\n",
       "       [ 0.    ,  0.    ,  1.    , ..., 12.0083, 11.9611, 11.9643],\n",
       "       ...,\n",
       "       [ 0.    ,  0.    ,  1.    , ...,  9.8645,  9.8515,  9.8557],\n",
       "       [ 0.    ,  0.    ,  1.    , ...,  9.4495,  9.4428,  9.4491],\n",
       "       [ 0.    ,  0.    ,  1.    , ...,  9.    ,  9.    ,  9.    ]])"
      ]
     },
     "execution_count": 4,
     "metadata": {},
     "output_type": "execute_result"
    }
   ],
   "source": [
    "optimal_value"
   ]
  },
  {
   "cell_type": "code",
   "execution_count": 30,
   "metadata": {},
   "outputs": [
    {
     "data": {
      "text/plain": [
       "array([[ -1,  -1,  56, ...,  11,  11,  11],\n",
       "       [ -1,  -1, 752, ...,  11,  11,  11],\n",
       "       [ -1,  -1, 752, ...,  11,  11,  11],\n",
       "       ...,\n",
       "       [ -1,  -1, 752, ...,  11,  11,  11],\n",
       "       [ -1,  -1, 752, ...,  11,  11,  11],\n",
       "       [ -1,  -1, 752, ..., 750, 750, 750]], dtype=int32)"
      ]
     },
     "execution_count": 30,
     "metadata": {},
     "output_type": "execute_result"
    }
   ],
   "source": [
    "optimal_action_index"
   ]
  },
  {
   "cell_type": "code",
   "execution_count": 27,
   "metadata": {},
   "outputs": [
    {
     "data": {
      "text/plain": [
       "array([ 11,  11,  11,  11,  11,  11,  11,  11,  11,  11,  11,  11,  11,  11,  11,  11,  11,  11,  11,  11,  11,  11,  11,  11,  11,  11,  11,  11,  11,  11,  11,  11,  11,  11,  11,  11,  11,  11,  11, 418], dtype=int32)"
      ]
     },
     "execution_count": 27,
     "metadata": {},
     "output_type": "execute_result"
    }
   ],
   "source": [
    "optimal_action_index[3][200:240]"
   ]
  },
  {
   "cell_type": "code",
   "execution_count": 28,
   "metadata": {},
   "outputs": [
    {
     "data": {
      "text/plain": [
       "array([4.4428, 4.4491, 4.4513, 4.4499, 4.4529, 4.4515, 4.4632, 4.4572, 4.4646, 4.4663, 4.4574, 4.5955, 4.4997, 4.5972, 4.6096, 4.5012, 4.6099, 4.612 , 4.6107, 5.1977, 4.628 , 4.6174, 5.2145, 5.215 , 4.6466, 5.2161, 5.2391, 4.6507, 5.2368, 5.2422, 4.6511, 5.2794, 5.2541, 5.2805, 5.3202, 5.2565,\n",
       "       5.3027, 5.3233, 5.3224, 5.364 ])"
      ]
     },
     "execution_count": 28,
     "metadata": {},
     "output_type": "execute_result"
    }
   ],
   "source": [
    "optimal_value[3][200:240]"
   ]
  },
  {
   "attachments": {},
   "cell_type": "markdown",
   "metadata": {},
   "source": [
    "## Sanity Checks"
   ]
  },
  {
   "attachments": {},
   "cell_type": "markdown",
   "metadata": {},
   "source": [
    "Compare to running regularly without tokens and different TP options as sanity check."
   ]
  },
  {
   "cell_type": "code",
   "execution_count": 9,
   "metadata": {},
   "outputs": [
    {
     "name": "stdout",
     "output_type": "stream",
     "text": [
      "load_pickle from ./data_parameter/player_gaussin_fit/grid_custom_tokens/player10_gaussin_prob_grid_custom_tokens.pkl\n"
     ]
    },
    {
     "name": "stderr",
     "output_type": "stream",
     "text": [
      "/Users/rachael/Desktop/OptimalDarts-main/function_solve_dp.py:80: RuntimeWarning: divide by zero encountered in divide\n",
      "  num_tothrow = num_tothrow / prob_otherstate\n"
     ]
    },
    {
     "data": {
      "text/plain": [
       "array([0., 0., 1., ..., 9., 9., 9.])"
      ]
     },
     "execution_count": 9,
     "metadata": {},
     "output_type": "execute_result"
    }
   ],
   "source": [
    "# Tokens\n",
    "\n",
    "[aiming_grid, prob_grid_normalscore, prob_grid_singlescore, prob_grid_doublescore, prob_grid_triplescore, prob_grid_bullscore] = function_get_aiming_grid.load_aiming_grid(name_pa, data_parameter_dir=data_parameter_dir, grid_version='custom_tokens')\n",
    "\n",
    "vals, acts = function_solve_dp.solve_dp_noturn(aiming_grid, prob_grid_normalscore, prob_grid_doublescore=prob_grid_doublescore, prob_grid_bullscore=prob_grid_bullscore, prob_grid_doublescore_dic=None)\n",
    "\n",
    "vals\n",
    "#0., 1., 2., 1., 2., 1., 2., 1., 2., 1., 2., 1., 2., 1., 2., 1., 2"
   ]
  },
  {
   "cell_type": "code",
   "execution_count": 10,
   "metadata": {},
   "outputs": [
    {
     "name": "stdout",
     "output_type": "stream",
     "text": [
      "load_pickle from ./data_parameter/player_gaussin_fit/grid_custom_no_tokens/player10_gaussin_prob_grid_custom_no_tokens.pkl\n"
     ]
    },
    {
     "name": "stderr",
     "output_type": "stream",
     "text": [
      "/Users/rachael/Desktop/OptimalDarts-main/function_solve_dp.py:80: RuntimeWarning: overflow encountered in divide\n",
      "  num_tothrow = num_tothrow / prob_otherstate\n"
     ]
    },
    {
     "data": {
      "text/plain": [
       "array([ 0.    ,  0.    ,  2.0893, ..., 14.0691, 14.1144, 14.1292])"
      ]
     },
     "execution_count": 10,
     "metadata": {},
     "output_type": "execute_result"
    }
   ],
   "source": [
    "# No Tokens\n",
    "\n",
    "[aiming_grid, prob_grid_normalscore, prob_grid_singlescore, prob_grid_doublescore, prob_grid_triplescore, prob_grid_bullscore] = function_get_aiming_grid.load_aiming_grid(name_pa, data_parameter_dir=data_parameter_dir, grid_version='custom_no_tokens')\n",
    "\n",
    "vals, acts = function_solve_dp.solve_dp_noturn(aiming_grid, prob_grid_normalscore, prob_grid_doublescore=prob_grid_doublescore, prob_grid_bullscore=prob_grid_bullscore, prob_grid_doublescore_dic=None)\n",
    "\n",
    "vals\n",
    "#0., 1., 2., 1., 2., 1., 2., 1., 2., 1., 2., 1., 2., 1., 2., 1., 2"
   ]
  },
  {
   "cell_type": "code",
   "execution_count": 7,
   "metadata": {},
   "outputs": [
    {
     "name": "stdout",
     "output_type": "stream",
     "text": [
      "load_pickle from ./data_parameter/player_gaussin_fit/grid_custom_tokens/player10_gaussin_prob_grid_custom_tokens.pkl\n",
      "runing solve_dp_turn\n"
     ]
    },
    {
     "name": "stderr",
     "output_type": "stream",
     "text": [
      "/Users/rachael/Desktop/OptimalDarts-main/function_solve_dp.py:347: RuntimeWarning: divide by zero encountered in divide\n",
      "  num_turns_array[:,score_gained_index] = num_turns_array[:,score_gained_index] / prob_notbust_dic[score_max]\n",
      "/Users/rachael/Desktop/OptimalDarts-main/function_solve_dp.py:360: RuntimeWarning: divide by zero encountered in divide\n",
      "  value_relerror[rt] = np.abs((state_value_update[rt] - state_value[rt])/state_value_update[rt]).max()\n",
      "/Users/rachael/Desktop/OptimalDarts-main/function_solve_dp.py:360: RuntimeWarning: invalid value encountered in divide\n",
      "  value_relerror[rt] = np.abs((state_value_update[rt] - state_value[rt])/state_value_update[rt]).max()\n"
     ]
    },
    {
     "name": "stdout",
     "output_type": "stream",
     "text": [
      "solve prob_policy_transit in 0.23798584938049316 seconds\n",
      "solve dp_turn_policyiter in 1.572357177734375 seconds\n",
      "[0. 0. 1. ... 3. 3. 3.]\n",
      "dump_pickle to ./result/singlegame_player10_turn_custom_tokens.pkl\n"
     ]
    }
   ],
   "source": [
    "# Check with turn to make sure TPs are working properly with turns. \n",
    "\n",
    "grid_version = 'custom_tokens'\n",
    "name_pa = 'player{}'.format(10)\n",
    "postfix=''\n",
    "gpu_device = None ## Using CPU\n",
    "\n",
    "function_solve_dp.solve_singlegame(name_pa, data_parameter_dir=data_parameter_dir, grid_version=grid_version, result_dir=result_dir, postfix=postfix, gpu_device=gpu_device)\n"
   ]
  },
  {
   "cell_type": "code",
   "execution_count": 29,
   "metadata": {},
   "outputs": [
    {
     "data": {
      "text/plain": [
       "'T19-cc-m'"
      ]
     },
     "execution_count": 29,
     "metadata": {},
     "output_type": "execute_result"
    }
   ],
   "source": [
    "a_throw_list[418]"
   ]
  },
  {
   "cell_type": "code",
   "execution_count": null,
   "metadata": {},
   "outputs": [],
   "source": []
  }
 ],
 "metadata": {
  "kernelspec": {
   "display_name": "darts",
   "language": "python",
   "name": "python3"
  },
  "language_info": {
   "codemirror_mode": {
    "name": "ipython",
    "version": 3
   },
   "file_extension": ".py",
   "mimetype": "text/x-python",
   "name": "python",
   "nbconvert_exporter": "python",
   "pygments_lexer": "ipython3",
   "version": "3.10.9"
  },
  "orig_nbformat": 4,
  "vscode": {
   "interpreter": {
    "hash": "a8a57194bbeb03cec992a62989c4918360c5f4e4ce600e16b9e817797d129cef"
   }
  }
 },
 "nbformat": 4,
 "nbformat_minor": 2
}
