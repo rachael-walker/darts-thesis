{
 "cells": [
  {
   "cell_type": "code",
   "execution_count": 1,
   "metadata": {},
   "outputs": [
    {
     "name": "stderr",
     "output_type": "stream",
     "text": [
      "/Users/rachael/miniconda3/envs/darts/lib/python3.10/site-packages/tqdm/auto.py:21: TqdmWarning: IProgress not found. Please update jupyter and ipywidgets. See https://ipywidgets.readthedocs.io/en/stable/user_install.html\n",
      "  from .autonotebook import tqdm as notebook_tqdm\n"
     ]
    }
   ],
   "source": [
    "import numpy as np\n",
    "import function_board as fb\n",
    "import init_simple_mdp as imdp\n",
    "import helpers as h\n",
    "\n",
    "#TODO: double check the loader logic is good [DONE]\n",
    "    # FGAG loads /Users/rachael/Desktop/darts-thesis/data_parameter/player_gaussin_fit/grid_custom_no_tokens/player10_gaussin_prob_grid_custom_no_tokens.pkl\n",
    "    # Whereas our loader loads player10_e{epsilon}_... \n",
    "    # The versions that our loader uses were integrated at a finer level \n",
    "    # Loader logic is good\n",
    "\n",
    "#TODO: check the turn transition probabilities are good (when summing correctly) [DONE]\n",
    "\n",
    "#TODO: check logic of value function calculation\n"
   ]
  },
  {
   "cell_type": "markdown",
   "metadata": {},
   "source": [
    "## Sanity Check \n",
    "\n",
    "Turn transit probabilities (fast and not) output the same result. "
   ]
  },
  {
   "cell_type": "code",
   "execution_count": 82,
   "metadata": {},
   "outputs": [],
   "source": [
    "import sys\n",
    "# caution: path[0] is reserved for script path (or '' in REPL)\n",
    "sys.path.insert(1, './original_code/')\n",
    "\n",
    "import function_evaluate_policy as fep\n",
    "import function_get_aiming_grid as fgag\n",
    "import function_solve_dp as fsdp\n",
    "import helpers as h\n",
    "\n",
    "data_parameter_dir = fb.data_parameter_dir\n",
    "result_dir = './result'  \n",
    "name_pa = 'player{}'.format(10)  \n",
    "\n",
    "\n",
    "[aiming_grid, prob_grid_normalscore_nt, prob_grid_singlescore_nt, prob_grid_doublescore_nt, prob_grid_triplescore_nt, prob_grid_bullscore_nt] = fgag.load_aiming_grid(name_pa, data_parameter_dir=data_parameter_dir, grid_version='custom_no_tokens')\n",
    "[aiming_grid, prob_grid_normalscore_t, prob_grid_singlescore_t, prob_grid_doublescore_t, prob_grid_triplescore_t, prob_grid_bullscore_t] = fgag.load_aiming_grid(name_pa, data_parameter_dir=data_parameter_dir, grid_version='custom_tokens')\n",
    "\n",
    "## aiming_grid\n",
    "num_aiming_location = aiming_grid.shape[0]\n",
    "prob_normalscore = prob_grid_normalscore_nt\n",
    "prob_doublescore_dic = {}\n",
    "for doublescore_index in range(20):\n",
    "    doublescore = 2*(doublescore_index+1)\n",
    "    prob_doublescore_dic[doublescore] = np.array(prob_grid_doublescore_nt[:,doublescore_index])\n",
    "prob_DB = np.array(prob_grid_bullscore_nt[:,1])\n",
    "\n",
    "## the probability of not bust for each action given score_max=i (score_remain=i+2)\n",
    "prob_bust_dic = {}\n",
    "prob_notbust_dic = {}\n",
    "for score_max in range(60):    \n",
    "    ## transit to next throw or turn\n",
    "    prob_notbust = prob_grid_normalscore_nt[:,0:score_max+1].sum(axis=1)\n",
    "    ## transit to the end of game\n",
    "    score_remain = score_max + 2\n",
    "    if (score_remain == fb.score_DB):\n",
    "        prob_notbust += prob_DB\n",
    "    elif (score_remain <= 40 and score_remain%2==0):\n",
    "        prob_notbust += prob_doublescore_dic[score_remain]\n",
    "    ##\n",
    "    prob_notbust = np.minimum(np.maximum(prob_notbust, 0),1)\n",
    "    prob_notbust_dic[score_max] = prob_notbust\n",
    "    prob_bust_dic[score_max] = 1 - prob_notbust_dic[score_max]\n",
    "\n",
    "score_state = 10\n",
    "\n",
    "rd = fsdp.solve_dp_turn(aiming_grid=aiming_grid,prob_grid_normalscore=prob_grid_normalscore_nt,prob_grid_doublescore=prob_grid_doublescore_nt,prob_grid_bullscore=prob_grid_bullscore_nt)\n",
    "\n",
    "reg = fep.solve_turn_transit_probability(score_state=score_state,state_action=rd['optimal_action_index_dic'][score_state],prob_normalscore=prob_grid_normalscore_nt,prob_doublescore=prob_grid_doublescore_nt,prob_bullscore=prob_grid_bullscore_nt)\n",
    "\n",
    "fast = fep.solve_turn_transit_probability_fast(score_state=score_state,state_action=rd['optimal_action_index_dic'][score_state],prob_normalscore=prob_grid_normalscore_nt,prob_doublescore=prob_grid_doublescore_nt,prob_bullscore=prob_grid_bullscore_nt,prob_bust_dic=prob_bust_dic)\n",
    "\n",
    "res_token_yes = h.solve_dp_turn_tokens(9, aiming_grid, prob_grid_normalscore_nt, prob_grid_singlescore_nt, prob_grid_doublescore_nt, prob_grid_triplescore_nt, prob_grid_bullscore_nt, prob_grid_normalscore_t, prob_grid_singlescore_t, prob_grid_doublescore_t, prob_grid_triplescore_t, prob_grid_bullscore_t)\n",
    "\n",
    "res_token = h.solve_dp_turn_tokens(0, aiming_grid, prob_grid_normalscore_nt, prob_grid_singlescore_nt, prob_grid_doublescore_nt, prob_grid_triplescore_nt, prob_grid_bullscore_nt, prob_grid_normalscore_t, prob_grid_singlescore_t, prob_grid_doublescore_t, prob_grid_triplescore_t, prob_grid_bullscore_t)\n",
    "\n",
    "[aiming_grid, prob_grid_normalscore_nt_b, prob_grid_singlescore_nt_b, prob_grid_doublescore_nt_b, prob_grid_triplescore_nt_b, prob_grid_bullscore_nt_b] = fgag.load_aiming_grid(name_pa, data_parameter_dir=data_parameter_dir, grid_version='custom_no_tokens')\n",
    "[aiming_grid, prob_grid_normalscore_nt, prob_grid_singlescore_nt, prob_grid_doublescore_nt, prob_grid_triplescore_nt, prob_grid_bullscore_nt] = fgag.load_aiming_grid(name_pa, data_parameter_dir=data_parameter_dir, grid_version='custom_no_tokens')\n",
    "\n",
    "res_token = h.solve_dp_turn_tokens(0, aiming_grid, prob_grid_normalscore_nt_b, prob_grid_singlescore_nt_b, prob_grid_doublescore_nt_b, prob_grid_triplescore_nt_b, prob_grid_bullscore_nt_b, prob_grid_normalscore_t, prob_grid_singlescore_t, prob_grid_doublescore_t, prob_grid_triplescore_t, prob_grid_bullscore_t)\n"
   ]
  },
  {
   "cell_type": "code",
   "execution_count": 208,
   "metadata": {},
   "outputs": [
    {
     "data": {
      "text/plain": [
       "{'finish': 0,\n",
       " 'bust': 0,\n",
       " 'score': array([0.0000e+000, 0.0000e+000, 0.0000e+000, 1.8933e-005, 2.6448e-023, 5.3865e-005, 5.0176e-023, 9.5072e-005, 6.4778e-023, 9.9582e-005, 3.8884e-023, 7.3632e-005, 1.5885e-023, 3.2310e-005, 1.6519e-010, 8.7958e-006, 3.1331e-010, 6.6862e-005, 4.0444e-010, 1.2681e-004, 2.4545e-010, 1.6370e-004,\n",
       "        6.7006e-004, 9.8216e-005, 1.2709e-003, 4.0106e-005, 1.6405e-003, 4.5567e-016, 9.8428e-004, 3.7216e-016, 4.0193e-004, 7.8706e-005, 3.0121e-010, 7.4643e-005, 6.5686e-012, 6.0961e-005, 1.5775e-003, 3.0186e-009, 1.4960e-003, 6.5828e-011, 1.2218e-003, 7.9046e-003, 2.4025e-009, 7.4961e-003,\n",
       "        1.3041e-009, 6.1530e-003, 5.3253e-010, 4.5879e-009, 3.8661e-012, 5.1679e-015, 9.2849e-004, 4.8972e-015, 2.5079e-008, 7.7492e-011, 1.9821e-009, 9.3049e-003, 1.6215e-009, 2.0946e-008, 3.9340e-010, 1.9864e-008, 3.1083e-002, 1.6223e-008, 1.2415e-003, 6.0787e-015, 2.3546e-003, 1.1074e-021,\n",
       "        3.0395e-003, 1.8164e-017, 1.8236e-003, 1.1755e-016, 7.4467e-004, 2.4657e-008, 6.0253e-012, 7.2211e-009, 4.9219e-012, 6.9116e-009, 2.9229e-003, 5.6531e-009, 2.7717e-003, 1.7128e-010, 2.2637e-003, 2.9291e-002, 1.3639e-020, 2.7777e-002, 3.7501e-012, 2.2685e-002, 1.8519e-016, 8.5003e-009,\n",
       "        7.7439e-019, 7.4954e-011, 1.7203e-003, 8.4364e-017, 8.5187e-008, 1.4357e-010, 3.7558e-010, 3.4479e-002, 2.9954e-018, 3.8808e-008, 1.4388e-009, 3.6802e-008, 1.7277e-001, 3.0057e-008, 9.1181e-019, 4.7640e-032, 2.8837e-038, 9.9309e-017, 3.5931e-035, 9.1354e-018, 1.1287e-013, 1.2823e-019,\n",
       "        9.9523e-016, 4.5683e-008, 1.4613e-037, 9.9312e-020, 1.9063e-015, 1.1797e-010, 4.5781e-007, 1.1188e-010, 2.8644e-032, 9.1369e-011, 3.7293e-025, 2.7134e-002, 1.2634e-020, 2.5732e-002, 6.5882e-024, 2.1015e-002, 3.4310e-016, 1.5668e-047, 1.5127e-018, 1.3887e-010, 2.5122e-029, 8.8768e-051,\n",
       "        7.8915e-008, 2.0900e-051, 1.3917e-009, 3.1941e-002, 7.8519e-037, 1.7517e-081, 1.3328e-009, 1.7561e-059, 3.2010e-001, 3.6794e-026, 5.8614e-062, 3.8911e-121, 2.0042e-024, 4.0391e-051, 8.7795e-071, 8.4628e-018, 2.5944e-048, 5.5595e-138, 1.8439e-015, 2.6929e-280, 1.7185e-105, 1.8798e-057,\n",
       "        2.3869e-039, 7.3164e-259, 4.2411e-007, 1.2388e-271, 2.9007e-082, 2.6858e-074, 5.4900e-031, 3.0108e-314, 2.0309e-027, 0.0000e+000, 2.6687e-073, 3.5346e-195, 0.0000e+000, 1.3850e-305, 2.8027e-018, 0.0000e+000, 6.1380e-065, 2.9091e-250, 0.0000e+000, 0.0000e+000, 1.2892e-009, 0.0000e+000,\n",
       "        0.0000e+000, 6.6910e-242, 0.0000e+000, 0.0000e+000, 1.9769e-001])}"
      ]
     },
     "execution_count": 208,
     "metadata": {},
     "output_type": "execute_result"
    }
   ],
   "source": [
    "score_state=501\n",
    "\n",
    "reg = fep.solve_turn_transit_probability(score_state=score_state,state_action=rd['optimal_action_index_dic'][score_state],prob_normalscore=prob_grid_normalscore_nt,prob_doublescore=prob_grid_doublescore_nt,prob_bullscore=prob_grid_bullscore_nt)\n",
    "\n",
    "fast = fep.solve_turn_transit_probability_fast(score_state=score_state,state_action=rd['optimal_action_index_dic'][score_state],prob_normalscore=prob_grid_normalscore_nt,prob_doublescore=prob_grid_doublescore_nt,prob_bullscore=prob_grid_bullscore_nt,prob_bust_dic=prob_bust_dic)\n",
    "\n",
    "reg"
   ]
  },
  {
   "cell_type": "code",
   "execution_count": 209,
   "metadata": {},
   "outputs": [
    {
     "data": {
      "text/plain": [
       "{'finish': 0,\n",
       " 'bust': 0,\n",
       " 'score': array([0.0000e+000, 0.0000e+000, 0.0000e+000, 1.8933e-005, 2.6448e-023, 5.3865e-005, 5.0176e-023, 9.5072e-005, 6.4778e-023, 9.9582e-005, 3.8884e-023, 7.3632e-005, 1.5885e-023, 3.2310e-005, 1.6519e-010, 8.7958e-006, 3.1331e-010, 6.6862e-005, 4.0444e-010, 1.2681e-004, 2.4545e-010, 1.6370e-004,\n",
       "        6.7006e-004, 9.8216e-005, 1.2709e-003, 4.0106e-005, 1.6405e-003, 4.5567e-016, 9.8428e-004, 3.7216e-016, 4.0193e-004, 7.8706e-005, 3.0121e-010, 7.4643e-005, 6.5686e-012, 6.0961e-005, 1.5775e-003, 3.0186e-009, 1.4960e-003, 6.5828e-011, 1.2218e-003, 7.9046e-003, 2.4025e-009, 7.4961e-003,\n",
       "        1.3041e-009, 6.1530e-003, 5.3253e-010, 4.5879e-009, 3.8661e-012, 5.1679e-015, 9.2849e-004, 4.8972e-015, 2.5079e-008, 7.7492e-011, 1.9821e-009, 9.3049e-003, 1.6215e-009, 2.0946e-008, 3.9340e-010, 1.9864e-008, 3.1083e-002, 1.6223e-008, 1.2415e-003, 6.0787e-015, 2.3546e-003, 1.1074e-021,\n",
       "        3.0395e-003, 1.8164e-017, 1.8236e-003, 1.1755e-016, 7.4467e-004, 2.4657e-008, 6.0253e-012, 7.2211e-009, 4.9219e-012, 6.9116e-009, 2.9229e-003, 5.6531e-009, 2.7717e-003, 1.7128e-010, 2.2637e-003, 2.9291e-002, 1.3639e-020, 2.7777e-002, 3.7501e-012, 2.2685e-002, 1.8519e-016, 8.5003e-009,\n",
       "        7.7439e-019, 7.4954e-011, 1.7203e-003, 8.4364e-017, 8.5187e-008, 1.4357e-010, 3.7558e-010, 3.4479e-002, 2.9954e-018, 3.8808e-008, 1.4388e-009, 3.6802e-008, 1.7277e-001, 3.0057e-008, 9.1181e-019, 4.7640e-032, 2.8837e-038, 9.9309e-017, 3.5931e-035, 9.1354e-018, 1.1287e-013, 1.2823e-019,\n",
       "        9.9523e-016, 4.5683e-008, 1.4613e-037, 9.9312e-020, 1.9063e-015, 1.1797e-010, 4.5781e-007, 1.1188e-010, 2.8644e-032, 9.1369e-011, 3.7293e-025, 2.7134e-002, 1.2634e-020, 2.5732e-002, 6.5882e-024, 2.1015e-002, 3.4310e-016, 1.5668e-047, 1.5127e-018, 1.3887e-010, 2.5122e-029, 8.8768e-051,\n",
       "        7.8915e-008, 2.0900e-051, 1.3917e-009, 3.1941e-002, 7.8519e-037, 1.7517e-081, 1.3328e-009, 1.7561e-059, 3.2010e-001, 3.6794e-026, 5.8614e-062, 3.8911e-121, 2.0042e-024, 4.0391e-051, 8.7795e-071, 8.4628e-018, 2.5944e-048, 5.5595e-138, 1.8439e-015, 2.6929e-280, 1.7185e-105, 1.8798e-057,\n",
       "        2.3869e-039, 7.3164e-259, 4.2411e-007, 1.2388e-271, 2.9007e-082, 2.6858e-074, 5.4900e-031, 3.0108e-314, 2.0309e-027, 0.0000e+000, 2.6687e-073, 3.5346e-195, 0.0000e+000, 1.3850e-305, 2.8027e-018, 0.0000e+000, 6.1380e-065, 2.9091e-250, 0.0000e+000, 0.0000e+000, 1.2892e-009, 0.0000e+000,\n",
       "        0.0000e+000, 6.6910e-242, 0.0000e+000, 0.0000e+000, 1.9769e-001])}"
      ]
     },
     "execution_count": 209,
     "metadata": {},
     "output_type": "execute_result"
    }
   ],
   "source": [
    "fast"
   ]
  },
  {
   "cell_type": "code",
   "execution_count": 242,
   "metadata": {},
   "outputs": [
    {
     "data": {
      "text/plain": [
       "{'finish': 0,\n",
       " 'bust': array([0.]),\n",
       " 'score': array([[0.0000e+000, 0.0000e+000, 0.0000e+000, 1.8933e-005, 8.8159e-024, 5.3865e-005, 1.6725e-023, 9.5072e-005, 2.1593e-023, 9.9582e-005, 1.2961e-023, 7.3632e-005, 5.2949e-024, 3.2310e-005, 1.6519e-010, 8.7958e-006, 3.1331e-010, 6.6862e-005, 4.0444e-010, 1.2681e-004, 2.4545e-010, 1.6370e-004,\n",
       "         6.7006e-004, 9.8216e-005, 1.2709e-003, 4.0106e-005, 1.6405e-003, 4.5564e-016, 9.8428e-004, 3.7212e-016, 4.0193e-004, 7.8706e-005, 3.0121e-010, 7.4643e-005, 6.5686e-012, 6.0961e-005, 1.5775e-003, 3.0186e-009, 1.4960e-003, 6.5828e-011, 1.2218e-003, 7.9046e-003, 2.4025e-009, 7.4961e-003,\n",
       "         1.3041e-009, 6.1530e-003, 5.3253e-010, 4.5879e-009, 3.8661e-012, 5.1652e-015, 9.2849e-004, 4.8972e-015, 2.5079e-008, 7.7492e-011, 1.9821e-009, 9.3049e-003, 1.6215e-009, 2.0946e-008, 3.9340e-010, 1.9864e-008, 3.1083e-002, 1.6223e-008, 1.2415e-003, 6.0787e-015, 2.3546e-003, 3.6912e-022,\n",
       "         3.0395e-003, 1.1287e-017, 1.8236e-003, 1.1259e-016, 7.4467e-004, 2.4657e-008, 6.0253e-012, 7.2211e-009, 4.9219e-012, 6.9116e-009, 2.9229e-003, 5.6531e-009, 2.7717e-003, 1.7128e-010, 2.2637e-003, 2.9291e-002, 4.5462e-021, 2.7777e-002, 3.7501e-012, 2.2685e-002, 1.2346e-016, 8.5003e-009,\n",
       "         2.5813e-019, 7.4954e-011, 1.7203e-003, 8.4364e-017, 8.5187e-008, 1.4357e-010, 3.7558e-010, 3.4479e-002, 1.9969e-018, 3.8808e-008, 1.4388e-009, 3.6802e-008, 1.7277e-001, 3.0057e-008, 3.0402e-019, 1.5880e-032, 9.6123e-039, 9.9309e-017, 1.1977e-035, 3.0451e-018, 1.1287e-013, 8.5486e-020,\n",
       "         9.9523e-016, 4.5683e-008, 4.8701e-038, 6.6208e-020, 1.9063e-015, 1.1797e-010, 4.5781e-007, 1.1188e-010, 9.5479e-033, 9.1369e-011, 1.9754e-031, 2.7134e-002, 4.2115e-021, 2.5732e-002, 2.1961e-024, 2.1015e-002, 2.2874e-016, 3.0289e-060, 1.0085e-018, 1.3887e-010, 8.3741e-030, 2.9589e-051,\n",
       "         7.8915e-008, 6.9665e-052, 1.3917e-009, 3.1941e-002, 2.6173e-037, 3.7910e-096, 1.3328e-009, 5.8536e-060, 3.2010e-001, 1.2265e-026, 1.9538e-062, 0.0000e+000, 1.3361e-024, 1.3464e-051, 2.9265e-071, 2.8209e-018, 4.4938e-054, 0.0000e+000, 1.8439e-015, 0.0000e+000, 4.6418e-201, 6.2661e-058,\n",
       "         7.9563e-040, 0.0000e+000, 4.2411e-007, 0.0000e+000, 0.0000e+000, 8.9528e-075, 1.8300e-031, 0.0000e+000, 2.7673e-042, 0.0000e+000, 8.8955e-074, 1.1782e-195, 0.0000e+000, 0.0000e+000, 1.8684e-018, 0.0000e+000, 2.0460e-065, 9.6969e-251, 0.0000e+000, 0.0000e+000, 1.2892e-009, 0.0000e+000,\n",
       "         0.0000e+000, 2.2303e-242, 0.0000e+000, 0.0000e+000, 1.9769e-001]])}"
      ]
     },
     "execution_count": 242,
     "metadata": {},
     "output_type": "execute_result"
    }
   ],
   "source": [
    "h.solve_turn_transit_probability_fast_token(score_state=score_state,state_action=res_token['optimal_action_index_dic'][score_state],available_tokens=0,prob_grid_normalscore_nt=prob_grid_normalscore_nt,prob_grid_doublescore_nt=prob_grid_doublescore_nt,prob_grid_bullscore_nt=prob_grid_bullscore_nt,prob_bust_dic_nt=prob_bust_dic_nt,prob_grid_normalscore_t=prob_grid_normalscore_t,prob_grid_doublescore_t=prob_grid_doublescore_t,prob_grid_bullscore_t=prob_grid_bullscore_t,prob_bust_dic_t=prob_bust_dic_t)"
   ]
  },
  {
   "cell_type": "markdown",
   "metadata": {},
   "source": [
    "## Win Probability Policy Evaluation"
   ]
  },
  {
   "cell_type": "markdown",
   "metadata": {},
   "source": [
    "### Evaluate Win Probability Function"
   ]
  },
  {
   "cell_type": "code",
   "execution_count": 2,
   "metadata": {},
   "outputs": [],
   "source": [
    "\n",
    "def win_probability_policy_evaluation_tokens(value_pa, value_pb, tokens_pa, score_state_pa, score_state_pb, prob_turn_transit_pa, prob_turn_transit_pb):\n",
    "    \"\"\"\n",
    "    Compute the game value (in terms of Player A's winning probability) for a specific turn (score_state_pa, score_state_pb) given Player A and B's policies. \n",
    "    Args: \n",
    "        value_pa, value_pb: game values for [s_a < score_state_pa, s_b < score_state_pb] are already solved. \n",
    "        score_state_pa, score_state_pb: scores for Player A and B at the beginning of this turn\n",
    "        prob_turn_transit_pa, prob_turn_transit_pb: state transition probability associated with the given policies. \n",
    "    \n",
    "    Returns: \n",
    "        value_state_pa: Player A's winning probability when A throws in this turn\n",
    "        value_state_pb: Player A's winning probability when B throws in this turn\n",
    "    \"\"\"\n",
    "    \n",
    "    value_win_pa = 1 # A win\n",
    "    value_win_pb = 0 # A lose\n",
    "\n",
    "    score_max_pa = min(score_state_pa-2, 3*fb.maxhitscore)\n",
    "    score_max_pb = min(score_state_pb-2, 3*fb.maxhitscore)\n",
    "\n",
    "    prob_score_pa = prob_turn_transit_pa['score']\n",
    "    prob_score_pb = prob_turn_transit_pb['score']\n",
    "    prob_finish_pa = prob_turn_transit_pa['finish']\n",
    "    prob_finish_pb = prob_turn_transit_pb['finish']\n",
    "    prob_zeroscore_pa = prob_turn_transit_pa['bust'][0] + prob_score_pa[0][0]\n",
    "    prob_zeroscore_pb = prob_turn_transit_pb['bust'][0] + prob_score_pb[0][0]\n",
    "\n",
    "    possible_tokens_used = prob_turn_transit_pa['bust'].shape[0] - 1\n",
    "\n",
    "    # sa = sum(sum(prob_turn_transit_pa['score'])) + sum(prob_turn_transit_pa['bust']) + prob_turn_transit_pa['finish']\n",
    "    # sb = sum(sum(prob_turn_transit_pb['score'])) + sum(prob_turn_transit_pb['bust']) + prob_turn_transit_pb['finish']\n",
    "    # print(sa,sb)\n",
    "\n",
    "    # Transit to end\n",
    "    constant_pa = prob_finish_pa * value_win_pa\n",
    "\n",
    "    # Only throws startying from Player A's turn, score greater than zero\n",
    "    constant_pa += np.dot(prob_score_pa[0,1:], value_pb[tokens_pa, score_state_pa-1:score_state_pa-score_max_pa-1:-1, score_state_pb])        \n",
    "\n",
    "    # Use at least one token:\n",
    "    if tokens_pa > 0:\n",
    "\n",
    "        # Go through subsequent scores after using at least one token \n",
    "        for i in range(0,possible_tokens_used):\n",
    "\n",
    "            constant_pa += np.dot(np.flip(prob_score_pa[0:possible_tokens_used+1,:],axis=0)[i], value_pb[tokens_pa-possible_tokens_used:tokens_pa+1,score_state_pa:score_state_pa-score_max_pa-1:-1, score_state_pb][i])        \n",
    "\n",
    "        # Go bust after using at least one token \n",
    "        constant_pa += np.dot(np.flip(prob_turn_transit_pa['bust'][1:possible_tokens_used+1]) , value_pb[tokens_pa-possible_tokens_used+1:tokens_pa+1,score_state_pa,score_state_pb])\n",
    "        \n",
    "    constant_pb = prob_finish_pb * value_win_pb #0\n",
    "    constant_pb += np.dot(prob_score_pb[0][1:], value_pa[tokens_pa,score_state_pa, score_state_pb-1:score_state_pb-score_max_pb-1:-1])\n",
    "\n",
    "    value_state_pa = (constant_pa+constant_pb*prob_zeroscore_pa)/(1-prob_zeroscore_pa*prob_zeroscore_pb)\n",
    "    value_state_pb = constant_pb + value_state_pa*prob_zeroscore_pb\n",
    "    \n",
    "    return [value_state_pa, value_state_pb]"
   ]
  },
  {
   "cell_type": "markdown",
   "metadata": {},
   "source": [
    "### Experiment Sandbox\n",
    "\n",
    "Start by defining which players you want to have play each other. Better to solve for 9 credits and then can look at win probabilities for all combinations. "
   ]
  },
  {
   "cell_type": "code",
   "execution_count": 368,
   "metadata": {},
   "outputs": [
    {
     "name": "stdout",
     "output_type": "stream",
     "text": [
      "load_pickle from ./data_parameter/player_gaussin_fit/grid_custom_no_tokens/player10_e3_gaussin_prob_grid_custom_no_tokens.pkl\n",
      "load_pickle from ./data_parameter/player_gaussin_fit/grid_custom_no_tokens/player10_e1_gaussin_prob_grid_custom_no_tokens.pkl\n",
      "load_pickle from ./data_parameter/player_gaussin_fit/grid_custom_tokens/t_gaussin_prob_grid_custom_tokens.pkl\n"
     ]
    },
    {
     "name": "stderr",
     "output_type": "stream",
     "text": [
      "/Users/rachael/Desktop/darts-thesis/helpers.py:719: RuntimeWarning: divide by zero encountered in divide\n",
      "  num_tothrow = num_tothrow / prob_otherstate\n",
      "/Users/rachael/Desktop/darts-thesis/helpers.py:757: RuntimeWarning: divide by zero encountered in divide\n",
      "  num_tothrow = num_tothrow / prob_otherstate\n",
      "/Users/rachael/Desktop/darts-thesis/helpers.py:1183: RuntimeWarning: divide by zero encountered in divide\n",
      "  num_turns_array[imdp.throw_num:,score_gained_index] = num_turns_array[imdp.throw_num:,score_gained_index] / prob_notbust_dic_t[score_max][imdp.throw_num:]\n",
      "/Users/rachael/Desktop/darts-thesis/helpers.py:1210: RuntimeWarning: divide by zero encountered in divide\n",
      "  value_relerror[rt] = np.abs((state_value_update[rt] - state_value[rt])/state_value_update[rt]).max()\n",
      "/Users/rachael/Desktop/darts-thesis/helpers.py:1210: RuntimeWarning: invalid value encountered in divide\n",
      "  value_relerror[rt] = np.abs((state_value_update[rt] - state_value[rt])/state_value_update[rt]).max()\n"
     ]
    },
    {
     "name": "stdout",
     "output_type": "stream",
     "text": [
      "solve prob_policy_transit in 4.524461030960083 seconds\n",
      "solve dp_turn_policyiter in 39.44088411331177 seconds\n",
      "[[0.     0.     3.0946 ... 8.938  8.9526 8.9673]\n",
      " [0.     0.     1.     ... 7.312  7.3264 7.341 ]\n",
      " [0.     0.     1.     ... 6.7576 6.772  6.7866]\n",
      " ...\n",
      " [0.     0.     1.     ... 4.1559 4.1634 4.1696]\n",
      " [0.     0.     1.     ... 3.7995 3.7591 3.7597]\n",
      " [0.     0.     1.     ... 3.     3.     3.    ]]\n"
     ]
    },
    {
     "name": "stderr",
     "output_type": "stream",
     "text": [
      "/Users/rachael/Desktop/darts-thesis/helpers.py:719: RuntimeWarning: overflow encountered in divide\n",
      "  num_tothrow = num_tothrow / prob_otherstate\n",
      "/Users/rachael/Desktop/darts-thesis/helpers.py:757: RuntimeWarning: overflow encountered in divide\n",
      "  num_tothrow = num_tothrow / prob_otherstate\n",
      "/Users/rachael/Desktop/darts-thesis/helpers.py:1190: RuntimeWarning: divide by zero encountered in divide\n",
      "  num_turns_array[:,score_gained_index] = num_turns_array[:,score_gained_index] / prob_notbust_dic_nt[score_max]\n",
      "/Users/rachael/Desktop/darts-thesis/helpers.py:1190: RuntimeWarning: overflow encountered in divide\n",
      "  num_turns_array[:,score_gained_index] = num_turns_array[:,score_gained_index] / prob_notbust_dic_nt[score_max]\n",
      "/Users/rachael/Desktop/darts-thesis/helpers.py:1177: RuntimeWarning: divide by zero encountered in divide\n",
      "  num_turns_array[:imdp.throw_num,score_gained_index] = num_turns_array[:imdp.throw_num,score_gained_index] / prob_notbust_dic_nt[score_max][:imdp.throw_num]\n",
      "/Users/rachael/Desktop/darts-thesis/helpers.py:1177: RuntimeWarning: overflow encountered in divide\n",
      "  num_turns_array[:imdp.throw_num,score_gained_index] = num_turns_array[:imdp.throw_num,score_gained_index] / prob_notbust_dic_nt[score_max][:imdp.throw_num]\n"
     ]
    },
    {
     "name": "stdout",
     "output_type": "stream",
     "text": [
      "solve prob_policy_transit in 2.869929075241089 seconds\n",
      "solve dp_turn_policyiter in 30.102532863616943 seconds\n",
      "[[0.     0.     1.8856 ... 5.5944 5.5758 5.6116]\n",
      " [0.     0.     1.     ... 4.9685 4.9631 4.9765]\n",
      " [0.     0.     1.     ... 4.7444 4.7403 4.7516]\n",
      " ...\n",
      " [0.     0.     1.     ... 3.8072 3.8026 3.783 ]\n",
      " [0.     0.     1.     ... 3.5561 3.5447 3.4989]\n",
      " [0.     0.     1.     ... 3.     3.     3.    ]]\n"
     ]
    }
   ],
   "source": [
    "data_parameter_dir = fb.data_parameter_dir\n",
    "result_dir = './result'  \n",
    "player_num = 10 \n",
    "\n",
    "epsilon_a = 3\n",
    "epsilon_b = 1\n",
    "tokens = 9\n",
    "\n",
    "name_p = 'player{}'.format(player_num)\n",
    "\n",
    "[aiming_grid, prob_grid_normalscore_nt_a, prob_grid_singlescore_nt_a, prob_grid_doublescore_nt_a, prob_grid_triplescore_nt_a, prob_grid_bullscore_nt_a] = h.load_aiming_grid(name_p, epsilon=epsilon_a, data_parameter_dir=data_parameter_dir, grid_version='custom_no_tokens')\n",
    "[aiming_grid, prob_grid_normalscore_nt_b, prob_grid_singlescore_nt_b, prob_grid_doublescore_nt_b, prob_grid_triplescore_nt_b, prob_grid_bullscore_nt_b] = h.load_aiming_grid(name_p, epsilon=epsilon_b, data_parameter_dir=data_parameter_dir, grid_version='custom_no_tokens')\n",
    "[aiming_grid, prob_grid_normalscore_t, prob_grid_singlescore_t, prob_grid_doublescore_t, prob_grid_triplescore_t, prob_grid_bullscore_t] = h.load_aiming_grid('t', data_parameter_dir=data_parameter_dir, grid_version='custom_tokens')\n",
    "\n",
    "prob_grid_doublescore_dic = None\n",
    "prob_grid_doublescore_dic_t = None\n",
    "\n",
    "result_dic_a = h.solve_dp_turn_tokens(tokens, aiming_grid, prob_grid_normalscore_nt_a, prob_grid_singlescore_nt_a, prob_grid_doublescore_nt_a, prob_grid_triplescore_nt_a, prob_grid_bullscore_nt_a, prob_grid_normalscore_t, prob_grid_singlescore_t, prob_grid_doublescore_t, prob_grid_triplescore_t, prob_grid_bullscore_t)\n",
    "result_dic_b = h.solve_dp_turn_tokens(tokens, aiming_grid, prob_grid_normalscore_nt_b, prob_grid_singlescore_nt_b, prob_grid_doublescore_nt_b, prob_grid_triplescore_nt_b, prob_grid_bullscore_nt_b,prob_grid_normalscore_t, prob_grid_singlescore_t, prob_grid_doublescore_t, prob_grid_triplescore_t, prob_grid_bullscore_t)\n"
   ]
  },
  {
   "cell_type": "code",
   "execution_count": 369,
   "metadata": {},
   "outputs": [],
   "source": [
    "# Let player a be the weaker player and player b be the stronger player \n",
    "tokens_a = 9\n",
    "game_begin_score_502 = 501+1\n",
    "\n",
    "# end game state value\n",
    "value_win_pa = 1 # A win\n",
    "value_win_pb = 0 # A lose\n",
    "\n",
    "value_pa = np.zeros((tokens_a+1,502,502))  # player A's winning probability when A throws at state [score_A, score_B]\n",
    "value_pb = np.zeros((tokens_a+1,502,502))  # player A's winning probability when B throws at state [score_A, score_B]\n"
   ]
  },
  {
   "cell_type": "code",
   "execution_count": 370,
   "metadata": {},
   "outputs": [
    {
     "name": "stdout",
     "output_type": "stream",
     "text": [
      "---------------------------------------------\n",
      "Running for 0 Tokens\n",
      "---------------------------------------------\n",
      "---------------------------------------------\n",
      "Running for 1 Tokens\n",
      "---------------------------------------------\n",
      "---------------------------------------------\n",
      "Running for 2 Tokens\n",
      "---------------------------------------------\n",
      "---------------------------------------------\n",
      "Running for 3 Tokens\n",
      "---------------------------------------------\n",
      "---------------------------------------------\n",
      "Running for 4 Tokens\n",
      "---------------------------------------------\n",
      "---------------------------------------------\n",
      "Running for 5 Tokens\n",
      "---------------------------------------------\n",
      "---------------------------------------------\n",
      "Running for 6 Tokens\n",
      "---------------------------------------------\n",
      "---------------------------------------------\n",
      "Running for 7 Tokens\n",
      "---------------------------------------------\n",
      "---------------------------------------------\n",
      "Running for 8 Tokens\n",
      "---------------------------------------------\n",
      "---------------------------------------------\n",
      "Running for 9 Tokens\n",
      "---------------------------------------------\n"
     ]
    }
   ],
   "source": [
    "for tokens_pa in range(tokens_a+1):\n",
    "\n",
    "    print('---------------------------------------------')\n",
    "    print(f'Running for {tokens_pa} Tokens')\n",
    "    print('---------------------------------------------')\n",
    "\n",
    "    for score_state_pb in range(2,502):\n",
    "\n",
    "        for score_state_pa in range(2,502):\n",
    "\n",
    "            prob_turn_transit_pa = result_dic_a['prob_scorestate_transit'][tokens_pa][score_state_pa]\n",
    "            prob_turn_transit_pb = result_dic_b['prob_scorestate_transit'][0][score_state_pb]\n",
    "\n",
    "            [value_state_pa, value_state_pb] = win_probability_policy_evaluation_tokens(value_pa, value_pb, tokens_pa, score_state_pa, score_state_pb, prob_turn_transit_pa, prob_turn_transit_pb)\n",
    "\n",
    "            value_pa[tokens_pa,score_state_pa,score_state_pb] = value_state_pa\n",
    "            value_pb[tokens_pa,score_state_pa,score_state_pb] = value_state_pb"
   ]
  },
  {
   "cell_type": "code",
   "execution_count": 375,
   "metadata": {},
   "outputs": [
    {
     "data": {
      "text/plain": [
       "array([[0.    , 0.    , 0.    , ..., 0.    , 0.    , 0.    ],\n",
       "       [0.    , 0.    , 0.    , ..., 0.    , 0.    , 0.    ],\n",
       "       [0.    , 0.    , 0.4737, ..., 0.8783, 0.8774, 0.8789],\n",
       "       ...,\n",
       "       [0.    , 0.    , 0.0058, ..., 0.0842, 0.083 , 0.0863],\n",
       "       [0.    , 0.    , 0.0058, ..., 0.084 , 0.0828, 0.0861],\n",
       "       [0.    , 0.    , 0.0056, ..., 0.0814, 0.0801, 0.0834]])"
      ]
     },
     "execution_count": 375,
     "metadata": {},
     "output_type": "execute_result"
    }
   ],
   "source": [
    "value_pa[0]"
   ]
  },
  {
   "cell_type": "code",
   "execution_count": 374,
   "metadata": {},
   "outputs": [
    {
     "data": {
      "text/plain": [
       "array([[0.    , 0.    , 0.    , ..., 0.    , 0.    , 0.    ],\n",
       "       [0.    , 0.    , 0.    , ..., 0.    , 0.    , 0.    ],\n",
       "       [0.    , 0.    , 0.2225, ..., 0.8202, 0.8188, 0.8211],\n",
       "       ...,\n",
       "       [0.    , 0.    , 0.0027, ..., 0.0289, 0.0282, 0.0298],\n",
       "       [0.    , 0.    , 0.0027, ..., 0.029 , 0.0283, 0.0299],\n",
       "       [0.    , 0.    , 0.0026, ..., 0.0277, 0.027 , 0.0286]])"
      ]
     },
     "execution_count": 374,
     "metadata": {},
     "output_type": "execute_result"
    }
   ],
   "source": [
    "value_pb[0]"
   ]
  },
  {
   "cell_type": "markdown",
   "metadata": {},
   "source": [
    "## Generate Win Probability Dataset"
   ]
  },
  {
   "cell_type": "code",
   "execution_count": 3,
   "metadata": {},
   "outputs": [
    {
     "name": "stdout",
     "output_type": "stream",
     "text": [
      "load_pickle from ./data_parameter/player_gaussin_fit/grid_custom_tokens/t_gaussin_prob_grid_custom_tokens.pkl\n",
      "load_pickle from ./data_parameter/player_gaussin_fit/grid_custom_no_tokens/player10_e1_gaussin_prob_grid_custom_no_tokens.pkl\n"
     ]
    },
    {
     "name": "stderr",
     "output_type": "stream",
     "text": [
      "/Users/rachael/Desktop/darts-thesis/helpers.py:719: RuntimeWarning: divide by zero encountered in divide\n",
      "  num_tothrow = num_tothrow / prob_otherstate\n",
      "/Users/rachael/Desktop/darts-thesis/helpers.py:719: RuntimeWarning: overflow encountered in divide\n",
      "  num_tothrow = num_tothrow / prob_otherstate\n",
      "/Users/rachael/Desktop/darts-thesis/helpers.py:757: RuntimeWarning: divide by zero encountered in divide\n",
      "  num_tothrow = num_tothrow / prob_otherstate\n",
      "/Users/rachael/Desktop/darts-thesis/helpers.py:757: RuntimeWarning: overflow encountered in divide\n",
      "  num_tothrow = num_tothrow / prob_otherstate\n",
      "/Users/rachael/Desktop/darts-thesis/helpers.py:1190: RuntimeWarning: divide by zero encountered in divide\n",
      "  num_turns_array[:,score_gained_index] = num_turns_array[:,score_gained_index] / prob_notbust_dic_nt[score_max]\n",
      "/Users/rachael/Desktop/darts-thesis/helpers.py:1190: RuntimeWarning: overflow encountered in divide\n",
      "  num_turns_array[:,score_gained_index] = num_turns_array[:,score_gained_index] / prob_notbust_dic_nt[score_max]\n",
      "/Users/rachael/Desktop/darts-thesis/helpers.py:1177: RuntimeWarning: divide by zero encountered in divide\n",
      "  num_turns_array[:imdp.throw_num,score_gained_index] = num_turns_array[:imdp.throw_num,score_gained_index] / prob_notbust_dic_nt[score_max][:imdp.throw_num]\n",
      "/Users/rachael/Desktop/darts-thesis/helpers.py:1177: RuntimeWarning: overflow encountered in divide\n",
      "  num_turns_array[:imdp.throw_num,score_gained_index] = num_turns_array[:imdp.throw_num,score_gained_index] / prob_notbust_dic_nt[score_max][:imdp.throw_num]\n",
      "/Users/rachael/Desktop/darts-thesis/helpers.py:1183: RuntimeWarning: divide by zero encountered in divide\n",
      "  num_turns_array[imdp.throw_num:,score_gained_index] = num_turns_array[imdp.throw_num:,score_gained_index] / prob_notbust_dic_t[score_max][imdp.throw_num:]\n",
      "/Users/rachael/Desktop/darts-thesis/helpers.py:1210: RuntimeWarning: divide by zero encountered in divide\n",
      "  value_relerror[rt] = np.abs((state_value_update[rt] - state_value[rt])/state_value_update[rt]).max()\n",
      "/Users/rachael/Desktop/darts-thesis/helpers.py:1210: RuntimeWarning: invalid value encountered in divide\n",
      "  value_relerror[rt] = np.abs((state_value_update[rt] - state_value[rt])/state_value_update[rt]).max()\n"
     ]
    },
    {
     "name": "stdout",
     "output_type": "stream",
     "text": [
      "solve prob_policy_transit in 2.858166217803955 seconds\n",
      "solve dp_turn_policyiter in 26.079828023910522 seconds\n",
      "[[0.     0.     1.8856 ... 5.5944 5.5758 5.6116]\n",
      " [0.     0.     1.     ... 4.9684 4.9631 4.9765]\n",
      " [0.     0.     1.     ... 4.7444 4.7403 4.7516]\n",
      " ...\n",
      " [0.     0.     1.     ... 3.8073 3.8027 3.8082]\n",
      " [0.     0.     1.     ... 3.5561 3.5447 3.5554]\n",
      " [0.     0.     1.     ... 3.     3.     3.    ]]\n",
      "load_pickle from ./data_parameter/player_gaussin_fit/grid_custom_no_tokens/player10_e2_gaussin_prob_grid_custom_no_tokens.pkl\n",
      "solve prob_policy_transit in 3.738036870956421 seconds\n",
      "solve dp_turn_policyiter in 28.444954872131348 seconds\n",
      "[[0.     0.     2.5371 ... 7.405  7.4122 7.4278]\n",
      " [0.     0.     1.     ... 6.2669 6.2766 6.2896]\n",
      " [0.     0.     1.     ... 5.8664 5.8755 5.8889]\n",
      " ...\n",
      " [0.     0.     1.     ... 3.9983 3.9972 4.0014]\n",
      " [0.     0.     1.     ... 3.7246 3.6864 3.6893]\n",
      " [0.     0.     1.     ... 3.     3.     3.    ]]\n",
      "load_pickle from ./data_parameter/player_gaussin_fit/grid_custom_no_tokens/player10_e3_gaussin_prob_grid_custom_no_tokens.pkl\n",
      "solve prob_policy_transit in 4.388275861740112 seconds\n",
      "solve dp_turn_policyiter in 29.21441888809204 seconds\n",
      "[[0.     0.     3.0946 ... 8.938  8.9526 8.9673]\n",
      " [0.     0.     1.     ... 7.3119 7.3263 7.3409]\n",
      " [0.     0.     1.     ... 6.7576 6.772  6.7866]\n",
      " ...\n",
      " [0.     0.     1.     ... 4.1578 4.1653 4.1713]\n",
      " [0.     0.     1.     ... 3.7995 3.7591 3.7597]\n",
      " [0.     0.     1.     ... 3.     3.     3.    ]]\n",
      "load_pickle from ./data_parameter/player_gaussin_fit/grid_custom_no_tokens/player10_e4_gaussin_prob_grid_custom_no_tokens.pkl\n",
      "solve prob_policy_transit in 4.676177024841309 seconds\n",
      "solve dp_turn_policyiter in 29.55939483642578 seconds\n",
      "[[ 0.      0.      3.6299 ... 10.1945 10.2106 10.227 ]\n",
      " [ 0.      0.      1.     ...  8.0901  8.106   8.1224]\n",
      " [ 0.      0.      1.     ...  7.4217  7.4375  7.4541]\n",
      " ...\n",
      " [ 0.      0.      1.     ...  4.2948  4.3036  4.3148]\n",
      " [ 0.      0.      1.     ...  3.8377  3.799   3.8057]\n",
      " [ 0.      0.      1.     ...  3.      3.      3.    ]]\n",
      "load_pickle from ./data_parameter/player_gaussin_fit/grid_custom_no_tokens/player10_e5_gaussin_prob_grid_custom_no_tokens.pkl\n",
      "solve prob_policy_transit in 4.905019998550415 seconds\n",
      "solve dp_turn_policyiter in 35.90243673324585 seconds\n",
      "[[ 0.      0.      4.1579 ... 11.2985 11.3159 11.3335]\n",
      " [ 0.      0.      1.     ...  8.7127  8.7301  8.7477]\n",
      " [ 0.      0.      1.     ...  7.9508  7.9681  7.9858]\n",
      " ...\n",
      " [ 0.      0.      1.     ...  4.4068  4.4171  4.4321]\n",
      " [ 0.      0.      1.     ...  3.8621  3.8266  3.8402]\n",
      " [ 0.      0.      1.     ...  3.      3.      3.    ]]\n",
      "load_pickle from ./data_parameter/player_gaussin_fit/grid_custom_no_tokens/player10_e6_gaussin_prob_grid_custom_no_tokens.pkl\n",
      "solve prob_policy_transit in 4.9717020988464355 seconds\n",
      "solve dp_turn_policyiter in 31.505675077438354 seconds\n",
      "[[ 0.      0.      4.6828 ... 12.2911 12.3097 12.3283]\n",
      " [ 0.      0.      1.     ...  9.2161  9.2347  9.2533]\n",
      " [ 0.      0.      1.     ...  8.3775  8.396   8.4146]\n",
      " ...\n",
      " [ 0.      0.      1.     ...  4.4992  4.5108  4.5278]\n",
      " [ 0.      0.      1.     ...  3.8823  3.8475  3.8686]\n",
      " [ 0.      0.      1.     ...  3.      3.      3.    ]]\n",
      "load_pickle from ./data_parameter/player_gaussin_fit/grid_custom_no_tokens/player10_e7_gaussin_prob_grid_custom_no_tokens.pkl\n",
      "solve prob_policy_transit in 5.161487102508545 seconds\n",
      "solve dp_turn_policyiter in 29.79951310157776 seconds\n",
      "[[ 0.      0.      5.2061 ... 13.1942 13.2137 13.2331]\n",
      " [ 0.      0.      1.     ...  9.6263  9.6458  9.6652]\n",
      " [ 0.      0.      1.     ...  8.7243  8.7437  8.7632]\n",
      " ...\n",
      " [ 0.      0.      1.     ...  4.5744  4.5876  4.6058]\n",
      " [ 0.      0.      1.     ...  3.9002  3.8646  3.8942]\n",
      " [ 0.      0.      1.     ...  3.      3.      3.    ]]\n",
      "load_pickle from ./data_parameter/player_gaussin_fit/grid_custom_no_tokens/player10_e8_gaussin_prob_grid_custom_no_tokens.pkl\n",
      "solve prob_policy_transit in 5.102798938751221 seconds\n",
      "solve dp_turn_policyiter in 32.11300992965698 seconds\n",
      "[[ 0.      0.      5.7282 ... 14.0264 14.0466 14.0667]\n",
      " [ 0.      0.      1.     ...  9.9646  9.9849 10.005 ]\n",
      " [ 0.      0.      1.     ...  9.0095  9.0297  9.0499]\n",
      " ...\n",
      " [ 0.      0.      1.     ...  4.6378  4.6513  4.671 ]\n",
      " [ 0.      0.      1.     ...  3.9091  3.8792  3.918 ]\n",
      " [ 0.      0.      1.     ...  3.      3.      3.    ]]\n",
      "load_pickle from ./data_parameter/player_gaussin_fit/grid_custom_no_tokens/player10_e9_gaussin_prob_grid_custom_no_tokens.pkl\n",
      "solve prob_policy_transit in 5.194052696228027 seconds\n",
      "solve dp_turn_policyiter in 31.255754947662354 seconds\n",
      "[[ 0.      0.      6.2493 ... 14.8038 14.8246 14.8454]\n",
      " [ 0.      0.      1.     ... 10.2476 10.2684 10.2892]\n",
      " [ 0.      0.      1.     ...  9.2476  9.2684  9.2892]\n",
      " ...\n",
      " [ 0.      0.      1.     ...  4.693   4.7073  4.7282]\n",
      " [ 0.      0.      1.     ...  3.9173  3.8924  3.9293]\n",
      " [ 0.      0.      1.     ...  3.      3.      3.    ]]\n"
     ]
    }
   ],
   "source": [
    "data_parameter_dir = fb.data_parameter_dir\n",
    "result_dir = './result'  \n",
    "player_num = 10 \n",
    "name_p = 'player{}'.format(player_num)\n",
    "\n",
    "[aiming_grid, prob_grid_normalscore_t, prob_grid_singlescore_t, prob_grid_doublescore_t, prob_grid_triplescore_t, prob_grid_bullscore_t] = h.load_aiming_grid('t', data_parameter_dir=data_parameter_dir, grid_version='custom_tokens')\n",
    "\n",
    "result_dictionaries = {}\n",
    "\n",
    "epsilon_list = range(1,10)\n",
    "\n",
    "for e in epsilon_list: \n",
    "\n",
    "    [aiming_grid, prob_grid_normalscore_nt_a, prob_grid_singlescore_nt_a, prob_grid_doublescore_nt_a, prob_grid_triplescore_nt_a, prob_grid_bullscore_nt_a] = h.load_aiming_grid(name_p, epsilon=e, data_parameter_dir=data_parameter_dir, grid_version='custom_no_tokens')\n",
    "\n",
    "    result_dictionaries[e] = h.solve_dp_turn_tokens(9, aiming_grid, prob_grid_normalscore_nt_a, prob_grid_singlescore_nt_a, prob_grid_doublescore_nt_a, prob_grid_triplescore_nt_a, prob_grid_bullscore_nt_a, prob_grid_normalscore_t, prob_grid_singlescore_t, prob_grid_doublescore_t, prob_grid_triplescore_t, prob_grid_bullscore_t)\n",
    "\n"
   ]
  },
  {
   "cell_type": "code",
   "execution_count": 12,
   "metadata": {},
   "outputs": [],
   "source": [
    "def evaluate_win_probabilities(result_dic_weaker,result_dic_stronger):\n",
    "\n",
    "    # Let player a be the weaker player and player b be the stronger player \n",
    "    tokens_a = 9\n",
    "    game_begin_score_502 = 501+1\n",
    "\n",
    "    # end game state value\n",
    "    value_win_pa = 1 # A win\n",
    "    value_win_pb = 0 # A lose\n",
    "\n",
    "    value_pa = np.zeros((tokens_a+1,502,502))  # player A's winning probability when A throws at state [score_A, score_B]\n",
    "    value_pb = np.zeros((tokens_a+1,502,502))  # player A's winning probability when B throws at state [score_A, score_B]\n",
    "\n",
    "    result_dic_a = result_dic_weaker\n",
    "    result_dic_b = result_dic_stronger\n",
    "\n",
    "    for tokens_pa in range(tokens_a+1):\n",
    "\n",
    "        for score_state_pb in range(2,502):\n",
    "\n",
    "            for score_state_pa in range(2,502):\n",
    "\n",
    "                prob_turn_transit_pa = result_dic_a['prob_scorestate_transit'][tokens_pa][score_state_pa]\n",
    "                prob_turn_transit_pb = result_dic_b['prob_scorestate_transit'][0][score_state_pb]\n",
    "\n",
    "                [value_state_pa, value_state_pb] = win_probability_policy_evaluation_tokens(value_pa, value_pb, tokens_pa, score_state_pa, score_state_pb, prob_turn_transit_pa, prob_turn_transit_pb)\n",
    "\n",
    "                value_pa[tokens_pa,score_state_pa,score_state_pb] = value_state_pa\n",
    "                value_pb[tokens_pa,score_state_pa,score_state_pb] = value_state_pb\n",
    "\n",
    "    return value_pa, value_pb      \n"
   ]
  },
  {
   "cell_type": "code",
   "execution_count": 10,
   "metadata": {},
   "outputs": [],
   "source": [
    "import pandas as pd\n",
    "\n",
    "def build_win_probability_dataset(e_stronger, e_weaker, value_weaker, value_stronger):\n",
    "\n",
    "    df_list = []\n",
    "\n",
    "    for credits_weaker in range(value_weaker.shape[0]):\n",
    "\n",
    "        for score_weaker in range(2,502):\n",
    "\n",
    "            for score_stronger in range(2,502):\n",
    "\n",
    "                win_probability_weaker_starting = value_weaker[credits_weaker][score_weaker][score_stronger]\n",
    "                win_probability_stronger_starting = value_stronger[credits_weaker][score_weaker][score_stronger]\n",
    "\n",
    "                df_list.append([e_weaker,e_stronger,score_weaker,score_stronger,credits_weaker,'weaker',win_probability_weaker_starting])\n",
    "                df_list.append([e_weaker,e_stronger,score_weaker,score_stronger,credits_weaker,'stronger',win_probability_stronger_starting])\n",
    "\n",
    "    columns = ['epsilon_weaker','epsilon_stronger','score_weaker','score_stronger','credits_weaker','current_turn','win_probability_weaker']\n",
    "\n",
    "    return pd.DataFrame(df_list,columns = columns )\n",
    "\n"
   ]
  },
  {
   "cell_type": "code",
   "execution_count": 5,
   "metadata": {},
   "outputs": [],
   "source": [
    "epsilon_list=[1,2,3,4,5,6,7,8,9]"
   ]
  },
  {
   "cell_type": "code",
   "execution_count": 13,
   "metadata": {},
   "outputs": [
    {
     "name": "stdout",
     "output_type": "stream",
     "text": [
      "Running for stronger player with epsilon=1.\n",
      "Running for stronger player with epsilon=2.\n",
      "Running for stronger player with epsilon=3.\n",
      "Running for stronger player with epsilon=4.\n",
      "Running for stronger player with epsilon=5.\n",
      "Running for stronger player with epsilon=6.\n",
      "Running for stronger player with epsilon=7.\n",
      "Running for stronger player with epsilon=8.\n",
      "Running for stronger player with epsilon=9.\n"
     ]
    }
   ],
   "source": [
    "columns = ['epsilon_weaker','epsilon_stronger','score_weaker','score_stronger','credits_weaker','current_turn','win_probability_weaker']\n",
    "\n",
    "for e_stronger in epsilon_list: \n",
    "\n",
    "    df = pd.DataFrame(columns=columns)\n",
    "\n",
    "    print(f\"Running for stronger player with epsilon={e_stronger}.\")\n",
    "\n",
    "    for e_weaker in epsilon_list: \n",
    "\n",
    "        if e_weaker >= e_stronger: \n",
    "\n",
    "            result_dic_weaker = result_dictionaries[e_weaker]\n",
    "            result_dic_stronger = result_dictionaries[e_stronger]\n",
    "            value_weaker, value_stronger = evaluate_win_probabilities(result_dic_weaker,result_dic_stronger)\n",
    "\n",
    "            df = pd.concat([df,build_win_probability_dataset(e_stronger, e_weaker, value_weaker, value_stronger)])\n",
    "            df = df.reset_index().drop(['index'],axis=1)\n",
    "\n",
    "    file_title = f'player10_win_probability_results_stronger_e{e_stronger}.csv'\n",
    "    df.to_csv(file_title)\n",
    "\n",
    "    del df"
   ]
  },
  {
   "cell_type": "code",
   "execution_count": 16,
   "metadata": {},
   "outputs": [
    {
     "name": "stdout",
     "output_type": "stream",
     "text": [
      "1\n",
      "2\n",
      "3\n",
      "4\n",
      "5\n",
      "6\n",
      "7\n",
      "8\n",
      "9\n"
     ]
    }
   ],
   "source": [
    "columns = ['epsilon_weaker','epsilon_stronger','score_weaker','score_stronger','credits_weaker','current_turn','win_probability_weaker']\n",
    "\n",
    "df = pd.DataFrame(columns=columns)\n",
    "\n",
    "for e in epsilon_list:\n",
    "    print(e)\n",
    "    df = pd.concat([df,pd.read_csv(f'player10_win_probability_results_stronger_e{e}.csv')])"
   ]
  },
  {
   "cell_type": "code",
   "execution_count": 17,
   "metadata": {},
   "outputs": [
    {
     "data": {
      "text/html": [
       "<div>\n",
       "<style scoped>\n",
       "    .dataframe tbody tr th:only-of-type {\n",
       "        vertical-align: middle;\n",
       "    }\n",
       "\n",
       "    .dataframe tbody tr th {\n",
       "        vertical-align: top;\n",
       "    }\n",
       "\n",
       "    .dataframe thead th {\n",
       "        text-align: right;\n",
       "    }\n",
       "</style>\n",
       "<table border=\"1\" class=\"dataframe\">\n",
       "  <thead>\n",
       "    <tr style=\"text-align: right;\">\n",
       "      <th></th>\n",
       "      <th>epsilon_weaker</th>\n",
       "      <th>epsilon_stronger</th>\n",
       "      <th>score_weaker</th>\n",
       "      <th>score_stronger</th>\n",
       "      <th>credits_weaker</th>\n",
       "      <th>current_turn</th>\n",
       "      <th>win_probability_weaker</th>\n",
       "      <th>Unnamed: 0</th>\n",
       "    </tr>\n",
       "  </thead>\n",
       "  <tbody>\n",
       "    <tr>\n",
       "      <th>0</th>\n",
       "      <td>1</td>\n",
       "      <td>1</td>\n",
       "      <td>2</td>\n",
       "      <td>2</td>\n",
       "      <td>0</td>\n",
       "      <td>weaker</td>\n",
       "      <td>0.680422</td>\n",
       "      <td>0.0</td>\n",
       "    </tr>\n",
       "    <tr>\n",
       "      <th>1</th>\n",
       "      <td>1</td>\n",
       "      <td>1</td>\n",
       "      <td>2</td>\n",
       "      <td>2</td>\n",
       "      <td>0</td>\n",
       "      <td>stronger</td>\n",
       "      <td>0.319578</td>\n",
       "      <td>1.0</td>\n",
       "    </tr>\n",
       "    <tr>\n",
       "      <th>2</th>\n",
       "      <td>1</td>\n",
       "      <td>1</td>\n",
       "      <td>2</td>\n",
       "      <td>3</td>\n",
       "      <td>0</td>\n",
       "      <td>weaker</td>\n",
       "      <td>0.704062</td>\n",
       "      <td>2.0</td>\n",
       "    </tr>\n",
       "    <tr>\n",
       "      <th>3</th>\n",
       "      <td>1</td>\n",
       "      <td>1</td>\n",
       "      <td>2</td>\n",
       "      <td>3</td>\n",
       "      <td>0</td>\n",
       "      <td>stronger</td>\n",
       "      <td>0.369911</td>\n",
       "      <td>3.0</td>\n",
       "    </tr>\n",
       "    <tr>\n",
       "      <th>4</th>\n",
       "      <td>1</td>\n",
       "      <td>1</td>\n",
       "      <td>2</td>\n",
       "      <td>4</td>\n",
       "      <td>0</td>\n",
       "      <td>weaker</td>\n",
       "      <td>0.589241</td>\n",
       "      <td>4.0</td>\n",
       "    </tr>\n",
       "    <tr>\n",
       "      <th>...</th>\n",
       "      <td>...</td>\n",
       "      <td>...</td>\n",
       "      <td>...</td>\n",
       "      <td>...</td>\n",
       "      <td>...</td>\n",
       "      <td>...</td>\n",
       "      <td>...</td>\n",
       "      <td>...</td>\n",
       "    </tr>\n",
       "    <tr>\n",
       "      <th>4999995</th>\n",
       "      <td>9</td>\n",
       "      <td>9</td>\n",
       "      <td>501</td>\n",
       "      <td>499</td>\n",
       "      <td>9</td>\n",
       "      <td>stronger</td>\n",
       "      <td>1.000000</td>\n",
       "      <td>4999995.0</td>\n",
       "    </tr>\n",
       "    <tr>\n",
       "      <th>4999996</th>\n",
       "      <td>9</td>\n",
       "      <td>9</td>\n",
       "      <td>501</td>\n",
       "      <td>500</td>\n",
       "      <td>9</td>\n",
       "      <td>weaker</td>\n",
       "      <td>1.000000</td>\n",
       "      <td>4999996.0</td>\n",
       "    </tr>\n",
       "    <tr>\n",
       "      <th>4999997</th>\n",
       "      <td>9</td>\n",
       "      <td>9</td>\n",
       "      <td>501</td>\n",
       "      <td>500</td>\n",
       "      <td>9</td>\n",
       "      <td>stronger</td>\n",
       "      <td>1.000000</td>\n",
       "      <td>4999997.0</td>\n",
       "    </tr>\n",
       "    <tr>\n",
       "      <th>4999998</th>\n",
       "      <td>9</td>\n",
       "      <td>9</td>\n",
       "      <td>501</td>\n",
       "      <td>501</td>\n",
       "      <td>9</td>\n",
       "      <td>weaker</td>\n",
       "      <td>1.000000</td>\n",
       "      <td>4999998.0</td>\n",
       "    </tr>\n",
       "    <tr>\n",
       "      <th>4999999</th>\n",
       "      <td>9</td>\n",
       "      <td>9</td>\n",
       "      <td>501</td>\n",
       "      <td>501</td>\n",
       "      <td>9</td>\n",
       "      <td>stronger</td>\n",
       "      <td>1.000000</td>\n",
       "      <td>4999999.0</td>\n",
       "    </tr>\n",
       "  </tbody>\n",
       "</table>\n",
       "<p>225000000 rows × 8 columns</p>\n",
       "</div>"
      ],
      "text/plain": [
       "        epsilon_weaker epsilon_stronger score_weaker score_stronger  \\\n",
       "0                    1                1            2              2   \n",
       "1                    1                1            2              2   \n",
       "2                    1                1            2              3   \n",
       "3                    1                1            2              3   \n",
       "4                    1                1            2              4   \n",
       "...                ...              ...          ...            ...   \n",
       "4999995              9                9          501            499   \n",
       "4999996              9                9          501            500   \n",
       "4999997              9                9          501            500   \n",
       "4999998              9                9          501            501   \n",
       "4999999              9                9          501            501   \n",
       "\n",
       "        credits_weaker current_turn  win_probability_weaker  Unnamed: 0  \n",
       "0                    0       weaker                0.680422         0.0  \n",
       "1                    0     stronger                0.319578         1.0  \n",
       "2                    0       weaker                0.704062         2.0  \n",
       "3                    0     stronger                0.369911         3.0  \n",
       "4                    0       weaker                0.589241         4.0  \n",
       "...                ...          ...                     ...         ...  \n",
       "4999995              9     stronger                1.000000   4999995.0  \n",
       "4999996              9       weaker                1.000000   4999996.0  \n",
       "4999997              9     stronger                1.000000   4999997.0  \n",
       "4999998              9       weaker                1.000000   4999998.0  \n",
       "4999999              9     stronger                1.000000   4999999.0  \n",
       "\n",
       "[225000000 rows x 8 columns]"
      ]
     },
     "execution_count": 17,
     "metadata": {},
     "output_type": "execute_result"
    }
   ],
   "source": [
    "df.to_csv('player10_win_probability_results.csv')\n",
    "df"
   ]
  }
 ],
 "metadata": {
  "kernelspec": {
   "display_name": "darts",
   "language": "python",
   "name": "python3"
  },
  "language_info": {
   "codemirror_mode": {
    "name": "ipython",
    "version": 3
   },
   "file_extension": ".py",
   "mimetype": "text/x-python",
   "name": "python",
   "nbconvert_exporter": "python",
   "pygments_lexer": "ipython3",
   "version": "3.10.9"
  },
  "orig_nbformat": 4
 },
 "nbformat": 4,
 "nbformat_minor": 2
}
