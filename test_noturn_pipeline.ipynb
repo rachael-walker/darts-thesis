{
 "cells": [
  {
   "cell_type": "code",
   "execution_count": 9,
   "metadata": {},
   "outputs": [],
   "source": [
    "import os\n",
    "import sys\n",
    "import time\n",
    "\n",
    "import init_load_board as ib \n",
    "import init_simple_mdp as imdp\n",
    "\n",
    "import function_board as fb \n",
    "import function_tool as ft\n",
    "\n",
    "import pandas as pd\n",
    "\n",
    "import numpy as np\n",
    "np.set_printoptions(precision=4)\n",
    "np.set_printoptions(linewidth=300)\n",
    "np.set_printoptions(threshold=300)\n",
    "\n",
    "import torch\n",
    "torch.set_printoptions(precision=4)\n",
    "torch.set_printoptions(linewidth=300)\n",
    "torch.set_printoptions(threshold=300)\n",
    "\n",
    "import helpers as h \n",
    "\n",
    "#%%\n",
    "data_parameter_dir = fb.data_parameter_dir\n",
    "result_dir = './result'       \n",
    "\n"
   ]
  },
  {
   "cell_type": "code",
   "execution_count": 34,
   "metadata": {},
   "outputs": [],
   "source": [
    "# playerID_list = [1,2,3]\n",
    "playerID_list = [10]\n",
    "epsilon_list = [8,9,10,20]"
   ]
  },
  {
   "cell_type": "code",
   "execution_count": 35,
   "metadata": {},
   "outputs": [
    {
     "name": "stdout",
     "output_type": "stream",
     "text": [
      "f_density_grid_num=171 f_density_grid_width=2.0\n",
      "\n",
      "computing ./data_parameter/player_gaussin_fit/grid_full/e8_player10_gaussin_prob_grid.pkl\n",
      "computation is done in 302.7138648033142 seconds\n",
      "dump_pickle to ./data_parameter/player_gaussin_fit/grid_full/e8_player10_gaussin_prob_grid.pkl\n",
      "f_density_grid_num=171 f_density_grid_width=2.0\n",
      "\n",
      "computing ./data_parameter/player_gaussin_fit/grid_full/e9_player10_gaussin_prob_grid.pkl\n",
      "computation is done in 305.3214249610901 seconds\n",
      "dump_pickle to ./data_parameter/player_gaussin_fit/grid_full/e9_player10_gaussin_prob_grid.pkl\n",
      "f_density_grid_num=171 f_density_grid_width=2.0\n",
      "\n",
      "computing ./data_parameter/player_gaussin_fit/grid_full/e10_player10_gaussin_prob_grid.pkl\n",
      "computation is done in 310.0020477771759 seconds\n",
      "dump_pickle to ./data_parameter/player_gaussin_fit/grid_full/e10_player10_gaussin_prob_grid.pkl\n",
      "f_density_grid_num=171 f_density_grid_width=2.0\n",
      "\n",
      "computing ./data_parameter/player_gaussin_fit/grid_full/e20_player10_gaussin_prob_grid.pkl\n",
      "computation is done in 304.4578649997711 seconds\n",
      "dump_pickle to ./data_parameter/player_gaussin_fit/grid_full/e20_player10_gaussin_prob_grid.pkl\n"
     ]
    }
   ],
   "source": [
    "for epsilon in epsilon_list: \n",
    "    h.evaluate_score_probability(playerID_list,epsilon=epsilon,f_density_grid_pixel_per_mm=0.5)"
   ]
  },
  {
   "cell_type": "code",
   "execution_count": null,
   "metadata": {},
   "outputs": [],
   "source": [
    "# Code to look at the probability grid\n",
    "\n",
    "#####------------- Load the Probability Grid ---------------#####\n",
    "\n",
    "# temp = h.load_prob_grid(playername_filename='player1',epsilon=1,data_parameter_dir=data_parameter_dir)\n",
    "\n",
    "####------------------------ Output -------------------------####\n",
    "# Probability grid contains a list of five objects\n",
    "# 0 --> shape (341, 341, 61) for every point on the 341x341 grid, probability of hitting score 0 to 60 \n",
    "# 1 --> shape (341, 341, 20) for every point on the 341x341 grid, probability of hitting single of index 0 to 20\n",
    "# 2 --> shape (341, 341, 20) for every point on the 341x341 grid, probability of hitting double of index 0 to 20\n",
    "# 3 --> shape (341, 341, 20) for every point on the 341x341 grid, probability of hitting triple of index 0 to 20\n",
    "# 4 --> shape (341, 341, 2) for every point on the 341x341 grid, probability of hitting bullseye of index 0 (single) or 1 (double)\n",
    "\n",
    "# temp[0].shape"
   ]
  },
  {
   "cell_type": "code",
   "execution_count": 36,
   "metadata": {},
   "outputs": [
    {
     "name": "stdout",
     "output_type": "stream",
     "text": [
      "generate and save action set grid_version=custom_tokens\n",
      "dump_pickle to ./data_parameter/player_gaussin_fit/grid_custom_tokens/t_gaussin_prob_grid_custom_tokens.pkl\n",
      "\n",
      "generate and save action set grid_version=custom_no_tokens\n",
      "load_pickle from ./data_parameter/player_gaussin_fit/grid_full/e8_player10_gaussin_prob_grid.pkl\n",
      "dump_pickle to ./data_parameter/player_gaussin_fit/grid_custom_no_tokens/player10_e8_gaussin_prob_grid_custom_no_tokens.pkl\n",
      "\n",
      "generate and save action set grid_version=custom_no_tokens\n",
      "load_pickle from ./data_parameter/player_gaussin_fit/grid_full/e9_player10_gaussin_prob_grid.pkl\n",
      "dump_pickle to ./data_parameter/player_gaussin_fit/grid_custom_no_tokens/player10_e9_gaussin_prob_grid_custom_no_tokens.pkl\n",
      "\n",
      "generate and save action set grid_version=custom_no_tokens\n",
      "load_pickle from ./data_parameter/player_gaussin_fit/grid_full/e10_player10_gaussin_prob_grid.pkl\n",
      "dump_pickle to ./data_parameter/player_gaussin_fit/grid_custom_no_tokens/player10_e10_gaussin_prob_grid_custom_no_tokens.pkl\n",
      "\n",
      "generate and save action set grid_version=custom_no_tokens\n",
      "load_pickle from ./data_parameter/player_gaussin_fit/grid_full/e20_player10_gaussin_prob_grid.pkl\n",
      "dump_pickle to ./data_parameter/player_gaussin_fit/grid_custom_no_tokens/player10_e20_gaussin_prob_grid_custom_no_tokens.pkl\n",
      "\n"
     ]
    }
   ],
   "source": [
    "h.save_aiming_grid_custom_tokens()\n",
    "\n",
    "for epsilon in epsilon_list: \n",
    "    h.save_aiming_grid_custom_no_tokens(playerID_list,epsilon=epsilon)"
   ]
  },
  {
   "cell_type": "code",
   "execution_count": 19,
   "metadata": {},
   "outputs": [
    {
     "name": "stdout",
     "output_type": "stream",
     "text": [
      "load_pickle from ./data_parameter/player_gaussin_fit/grid_custom_no_tokens/player10_e1_gaussin_prob_grid_custom_no_tokens.pkl\n",
      "load_pickle from ./data_parameter/player_gaussin_fit/grid_custom_tokens/t_gaussin_prob_grid_custom_tokens.pkl\n",
      "------------------------------------------------------------------\n",
      "Optimal Values: \n",
      "[[ 0.      0.      2.8875 ... 15.796  15.7386 15.854 ]\n",
      " [ 0.      0.      1.     ... 14.031  14.0166 14.0347]\n",
      " [ 0.      0.      1.     ... 13.3518 13.3227 13.3554]\n",
      " ...\n",
      " [ 0.      0.      1.     ... 10.1522 10.1477 10.1718]\n",
      " [ 0.      0.      1.     ...  9.5936  9.5782  9.5959]\n",
      " [ 0.      0.      1.     ...  9.      9.      9.    ]]\n",
      "------------------------------------------------------------------\n",
      "Optimal Policy}: \n",
      "[[ -1  -1  55 ...  10  10  10]\n",
      " [ -1  -1 752 ...  10  10  10]\n",
      " [ -1  -1 752 ...  10  10  10]\n",
      " ...\n",
      " [ -1  -1 752 ...  10  10  10]\n",
      " [ -1  -1 752 ... 406 274 771]\n",
      " [ -1  -1 752 ... 750 750 750]]\n"
     ]
    }
   ],
   "source": [
    "player_num = 10 \n",
    "epsilon = 1\n",
    "name_pa = 'player{}'.format(player_num)\n",
    "\n",
    "[aiming_grid, prob_grid_normalscore_nt, prob_grid_singlescore_nt, prob_grid_doublescore_nt, prob_grid_triplescore_nt, prob_grid_bullscore_nt] = h.load_aiming_grid(name_pa, epsilon=epsilon, data_parameter_dir=data_parameter_dir, grid_version='custom_no_tokens')\n",
    "[aiming_grid, prob_grid_normalscore_t, prob_grid_singlescore_t, prob_grid_doublescore_t, prob_grid_triplescore_t, prob_grid_bullscore_t] = h.load_aiming_grid('t', data_parameter_dir=data_parameter_dir, grid_version='custom_tokens')\n",
    "\n",
    "prob_grid_doublescore_dic = None\n",
    "prob_grid_doublescore_dic_t = None\n",
    "\n",
    "[optimal_value, optimal_action_index] = h.solve_dp_noturn_tokens(aiming_grid, prob_grid_normalscore_nt, prob_grid_normalscore_t, tokens = 9, prob_grid_doublescore=prob_grid_doublescore_nt, prob_grid_bullscore=prob_grid_bullscore_nt, prob_grid_doublescore_dic=None, prob_grid_doublescore_t=prob_grid_doublescore_t, prob_grid_bullscore_t=prob_grid_bullscore_t, prob_grid_doublescore_dic_t=None)\n",
    "\n",
    "print('------------------------------------------------------------------')\n",
    "print('Optimal Values: ')\n",
    "print(optimal_value)\n",
    "print('------------------------------------------------------------------')\n",
    "print('Optimal Policy}: ')\n",
    "print(optimal_action_index)"
   ]
  },
  {
   "cell_type": "code",
   "execution_count": 20,
   "metadata": {},
   "outputs": [
    {
     "name": "stdout",
     "output_type": "stream",
     "text": [
      "load_pickle from ./data_parameter/player_gaussin_fit/grid_custom_no_tokens/player10_e2_gaussin_prob_grid_custom_no_tokens.pkl\n",
      "load_pickle from ./data_parameter/player_gaussin_fit/grid_custom_tokens/t_gaussin_prob_grid_custom_tokens.pkl\n",
      "------------------------------------------------------------------\n",
      "Optimal Values: \n",
      "[[ 0.      0.      4.1576 ... 21.0713 21.0944 21.1402]\n",
      " [ 0.      0.      1.     ... 17.9593 17.9884 18.0261]\n",
      " [ 0.      0.      1.     ... 16.7237 16.7492 16.7889]\n",
      " ...\n",
      " [ 0.      0.      1.     ... 10.8805 10.8979 10.9422]\n",
      " [ 0.      0.      1.     ...  9.7987  9.7765  9.8601]\n",
      " [ 0.      0.      1.     ...  9.      9.      9.    ]]\n",
      "------------------------------------------------------------------\n",
      "Optimal Policy}: \n",
      "[[ -1  -1  43 ...  10  10  10]\n",
      " [ -1  -1 752 ...  10  10  10]\n",
      " [ -1  -1 752 ...  10  10  10]\n",
      " ...\n",
      " [ -1  -1 752 ... 406 771  10]\n",
      " [ -1  -1 752 ... 586 274 477]\n",
      " [ -1  -1 752 ... 750 750 750]]\n"
     ]
    }
   ],
   "source": [
    "player_num = 10 \n",
    "epsilon = 2\n",
    "name_pa = 'player{}'.format(player_num)\n",
    "\n",
    "[aiming_grid, prob_grid_normalscore_nt, prob_grid_singlescore_nt, prob_grid_doublescore_nt, prob_grid_triplescore_nt, prob_grid_bullscore_nt] = h.load_aiming_grid(name_pa, epsilon=epsilon, data_parameter_dir=data_parameter_dir, grid_version='custom_no_tokens')\n",
    "[aiming_grid, prob_grid_normalscore_t, prob_grid_singlescore_t, prob_grid_doublescore_t, prob_grid_triplescore_t, prob_grid_bullscore_t] = h.load_aiming_grid('t', data_parameter_dir=data_parameter_dir, grid_version='custom_tokens')\n",
    "\n",
    "prob_grid_doublescore_dic = None\n",
    "prob_grid_doublescore_dic_t = None\n",
    "\n",
    "[optimal_value, optimal_action_index] = h.solve_dp_noturn_tokens(aiming_grid, prob_grid_normalscore_nt, prob_grid_normalscore_t, tokens = 9, prob_grid_doublescore=prob_grid_doublescore_nt, prob_grid_bullscore=prob_grid_bullscore_nt, prob_grid_doublescore_dic=None, prob_grid_doublescore_t=prob_grid_doublescore_t, prob_grid_bullscore_t=prob_grid_bullscore_t, prob_grid_doublescore_dic_t=None)\n",
    "\n",
    "print('------------------------------------------------------------------')\n",
    "print('Optimal Values: ')\n",
    "print(optimal_value)\n",
    "print('------------------------------------------------------------------')\n",
    "print('Optimal Policy}: ')\n",
    "print(optimal_action_index)"
   ]
  },
  {
   "cell_type": "code",
   "execution_count": 16,
   "metadata": {},
   "outputs": [
    {
     "name": "stdout",
     "output_type": "stream",
     "text": [
      "load_pickle from ./data_parameter/player_gaussin_fit/grid_custom_no_tokens/player10_e4_gaussin_prob_grid_custom_no_tokens.pkl\n",
      "load_pickle from ./data_parameter/player_gaussin_fit/grid_custom_tokens/t_gaussin_prob_grid_custom_tokens.pkl\n"
     ]
    },
    {
     "name": "stderr",
     "output_type": "stream",
     "text": [
      "/Users/rachael/Desktop/darts-thesis/helpers.py:506: RuntimeWarning: divide by zero encountered in divide\n",
      "  num_tothrow = num_tothrow / prob_otherstate\n",
      "/Users/rachael/Desktop/darts-thesis/helpers.py:544: RuntimeWarning: divide by zero encountered in divide\n",
      "  num_tothrow = num_tothrow / prob_otherstate\n"
     ]
    },
    {
     "name": "stdout",
     "output_type": "stream",
     "text": [
      "------------------------------------------------------------------\n",
      "Optimal Values: \n",
      "[[ 0.      0.      6.1117 ... 28.9353 28.9832 29.0327]\n",
      " [ 0.      0.      1.     ... 23.4155 23.463  23.512 ]\n",
      " [ 0.      0.      1.     ... 21.4227 21.4694 21.5197]\n",
      " ...\n",
      " [ 0.      0.      1.     ... 11.8656 11.9348 11.9832]\n",
      " [ 0.      0.      1.     ... 10.0362 10.019  10.142 ]\n",
      " [ 0.      0.      1.     ...  9.      9.      9.    ]]\n",
      "------------------------------------------------------------------\n",
      "Optimal Policy}: \n",
      "[[ -1  -1  43 ... 406 406 406]\n",
      " [ -1  -1 752 ... 406 406 406]\n",
      " [ -1  -1 752 ... 406 406 406]\n",
      " ...\n",
      " [ -1  -1 752 ... 406 406 406]\n",
      " [ -1  -1 752 ... 586 598 771]\n",
      " [ -1  -1 752 ... 750 750 750]]\n"
     ]
    }
   ],
   "source": [
    "player_num = 10 \n",
    "epsilon = 4\n",
    "name_pa = 'player{}'.format(player_num)\n",
    "\n",
    "[aiming_grid, prob_grid_normalscore_nt, prob_grid_singlescore_nt, prob_grid_doublescore_nt, prob_grid_triplescore_nt, prob_grid_bullscore_nt] = h.load_aiming_grid(name_pa, epsilon=epsilon, data_parameter_dir=data_parameter_dir, grid_version='custom_no_tokens')\n",
    "[aiming_grid, prob_grid_normalscore_t, prob_grid_singlescore_t, prob_grid_doublescore_t, prob_grid_triplescore_t, prob_grid_bullscore_t] = h.load_aiming_grid('t', data_parameter_dir=data_parameter_dir, grid_version='custom_tokens')\n",
    "\n",
    "prob_grid_doublescore_dic = None\n",
    "prob_grid_doublescore_dic_t = None\n",
    "\n",
    "[optimal_value, optimal_action_index] = h.solve_dp_noturn_tokens(aiming_grid, prob_grid_normalscore_nt, prob_grid_normalscore_t, tokens = 9, prob_grid_doublescore=prob_grid_doublescore_nt, prob_grid_bullscore=prob_grid_bullscore_nt, prob_grid_doublescore_dic=None, prob_grid_doublescore_t=prob_grid_doublescore_t, prob_grid_bullscore_t=prob_grid_bullscore_t, prob_grid_doublescore_dic_t=None)\n",
    "\n",
    "print('------------------------------------------------------------------')\n",
    "print('Optimal Values: ')\n",
    "print(optimal_value)\n",
    "print('------------------------------------------------------------------')\n",
    "print('Optimal Policy}: ')\n",
    "print(optimal_action_index)"
   ]
  },
  {
   "cell_type": "code",
   "execution_count": 5,
   "metadata": {},
   "outputs": [],
   "source": [
    "def create_result_dataframes(optimal_value,optimal_action_index):\n",
    "    \n",
    "    col_names = ['epsilon','tokens','score','optimal_value','optimal_policy']\n",
    "    df_list = []\n",
    "    \n",
    "    for t in range(optimal_value.shape[0]):\n",
    "        for s in range(optimal_value.shape[1]):\n",
    "            df_list.append([epsilon,t,s,optimal_value[t][s],optimal_action_index[t][s]])\n",
    "\n",
    "    df = pd.DataFrame(df_list,columns=col_names)\n",
    "    \n",
    "    return df \n"
   ]
  },
  {
   "cell_type": "code",
   "execution_count": 13,
   "metadata": {},
   "outputs": [
    {
     "name": "stdout",
     "output_type": "stream",
     "text": [
      "load_pickle from ./data_parameter/player_gaussin_fit/grid_custom_tokens/t_gaussin_prob_grid_custom_tokens.pkl\n",
      "load_pickle from ./data_parameter/player_gaussin_fit/grid_custom_no_tokens/player10_e1_gaussin_prob_grid_custom_no_tokens.pkl\n"
     ]
    },
    {
     "name": "stderr",
     "output_type": "stream",
     "text": [
      "/Users/rachael/Desktop/darts-thesis/helpers.py:506: RuntimeWarning: divide by zero encountered in divide\n",
      "  num_tothrow = num_tothrow / prob_otherstate\n",
      "/Users/rachael/Desktop/darts-thesis/helpers.py:506: RuntimeWarning: overflow encountered in divide\n",
      "  num_tothrow = num_tothrow / prob_otherstate\n",
      "/Users/rachael/Desktop/darts-thesis/helpers.py:544: RuntimeWarning: divide by zero encountered in divide\n",
      "  num_tothrow = num_tothrow / prob_otherstate\n",
      "/Users/rachael/Desktop/darts-thesis/helpers.py:544: RuntimeWarning: overflow encountered in divide\n",
      "  num_tothrow = num_tothrow / prob_otherstate\n"
     ]
    },
    {
     "name": "stdout",
     "output_type": "stream",
     "text": [
      "load_pickle from ./data_parameter/player_gaussin_fit/grid_custom_no_tokens/player10_e2_gaussin_prob_grid_custom_no_tokens.pkl\n"
     ]
    },
    {
     "name": "stderr",
     "output_type": "stream",
     "text": [
      "/Users/rachael/Desktop/darts-thesis/helpers.py:506: RuntimeWarning: divide by zero encountered in divide\n",
      "  num_tothrow = num_tothrow / prob_otherstate\n",
      "/Users/rachael/Desktop/darts-thesis/helpers.py:544: RuntimeWarning: divide by zero encountered in divide\n",
      "  num_tothrow = num_tothrow / prob_otherstate\n"
     ]
    },
    {
     "name": "stdout",
     "output_type": "stream",
     "text": [
      "load_pickle from ./data_parameter/player_gaussin_fit/grid_custom_no_tokens/player10_e3_gaussin_prob_grid_custom_no_tokens.pkl\n"
     ]
    },
    {
     "name": "stderr",
     "output_type": "stream",
     "text": [
      "/Users/rachael/Desktop/darts-thesis/helpers.py:506: RuntimeWarning: divide by zero encountered in divide\n",
      "  num_tothrow = num_tothrow / prob_otherstate\n",
      "/Users/rachael/Desktop/darts-thesis/helpers.py:544: RuntimeWarning: divide by zero encountered in divide\n",
      "  num_tothrow = num_tothrow / prob_otherstate\n"
     ]
    },
    {
     "name": "stdout",
     "output_type": "stream",
     "text": [
      "load_pickle from ./data_parameter/player_gaussin_fit/grid_custom_no_tokens/player10_e4_gaussin_prob_grid_custom_no_tokens.pkl\n"
     ]
    },
    {
     "name": "stderr",
     "output_type": "stream",
     "text": [
      "/Users/rachael/Desktop/darts-thesis/helpers.py:506: RuntimeWarning: divide by zero encountered in divide\n",
      "  num_tothrow = num_tothrow / prob_otherstate\n",
      "/Users/rachael/Desktop/darts-thesis/helpers.py:544: RuntimeWarning: divide by zero encountered in divide\n",
      "  num_tothrow = num_tothrow / prob_otherstate\n"
     ]
    },
    {
     "name": "stdout",
     "output_type": "stream",
     "text": [
      "load_pickle from ./data_parameter/player_gaussin_fit/grid_custom_no_tokens/player10_e5_gaussin_prob_grid_custom_no_tokens.pkl\n"
     ]
    },
    {
     "name": "stderr",
     "output_type": "stream",
     "text": [
      "/Users/rachael/Desktop/darts-thesis/helpers.py:506: RuntimeWarning: divide by zero encountered in divide\n",
      "  num_tothrow = num_tothrow / prob_otherstate\n",
      "/Users/rachael/Desktop/darts-thesis/helpers.py:544: RuntimeWarning: divide by zero encountered in divide\n",
      "  num_tothrow = num_tothrow / prob_otherstate\n"
     ]
    },
    {
     "name": "stdout",
     "output_type": "stream",
     "text": [
      "load_pickle from ./data_parameter/player_gaussin_fit/grid_custom_no_tokens/player10_e6_gaussin_prob_grid_custom_no_tokens.pkl\n"
     ]
    },
    {
     "name": "stderr",
     "output_type": "stream",
     "text": [
      "/Users/rachael/Desktop/darts-thesis/helpers.py:506: RuntimeWarning: divide by zero encountered in divide\n",
      "  num_tothrow = num_tothrow / prob_otherstate\n",
      "/Users/rachael/Desktop/darts-thesis/helpers.py:544: RuntimeWarning: divide by zero encountered in divide\n",
      "  num_tothrow = num_tothrow / prob_otherstate\n"
     ]
    },
    {
     "name": "stdout",
     "output_type": "stream",
     "text": [
      "load_pickle from ./data_parameter/player_gaussin_fit/grid_custom_no_tokens/player10_e7_gaussin_prob_grid_custom_no_tokens.pkl\n"
     ]
    },
    {
     "name": "stderr",
     "output_type": "stream",
     "text": [
      "/Users/rachael/Desktop/darts-thesis/helpers.py:506: RuntimeWarning: divide by zero encountered in divide\n",
      "  num_tothrow = num_tothrow / prob_otherstate\n",
      "/Users/rachael/Desktop/darts-thesis/helpers.py:544: RuntimeWarning: divide by zero encountered in divide\n",
      "  num_tothrow = num_tothrow / prob_otherstate\n"
     ]
    }
   ],
   "source": [
    "player_num = 10 \n",
    "epsilon_list = [1,2,3,4,5,6,7,8,9,10,20]\n",
    "name_pa = 'player{}'.format(player_num)\n",
    "\n",
    "col_names = ['epsilon','tokens','score','optimal_value','optimal_policy']\n",
    "df = pd.DataFrame(columns=col_names)\n",
    "\n",
    "[aiming_grid, prob_grid_normalscore_t, prob_grid_singlescore_t, prob_grid_doublescore_t, prob_grid_triplescore_t, prob_grid_bullscore_t] = h.load_aiming_grid('t', data_parameter_dir=data_parameter_dir, grid_version='custom_tokens')\n",
    "prob_grid_doublescore_dic = None\n",
    "prob_grid_doublescore_dic_t = None\n",
    "\n",
    "for epsilon in epsilon_list:\n",
    "    [aiming_grid, prob_grid_normalscore_nt, prob_grid_singlescore_nt, prob_grid_doublescore_nt, prob_grid_triplescore_nt, prob_grid_bullscore_nt] = h.load_aiming_grid(name_pa, epsilon=epsilon, data_parameter_dir=data_parameter_dir, grid_version='custom_no_tokens')\n",
    "    [optimal_value, optimal_action_index] = h.solve_dp_noturn_tokens(aiming_grid, prob_grid_normalscore_nt, prob_grid_normalscore_t, tokens = 9, prob_grid_doublescore=prob_grid_doublescore_nt, prob_grid_bullscore=prob_grid_bullscore_nt, prob_grid_doublescore_dic=None, prob_grid_doublescore_t=prob_grid_doublescore_t, prob_grid_bullscore_t=prob_grid_bullscore_t, prob_grid_doublescore_dic_t=None)\n",
    "    df = pd.concat([df,create_result_dataframes(optimal_value,optimal_action_index)])\n",
    "    df = df.reset_index().drop(['index'],axis=1)"
   ]
  },
  {
   "cell_type": "code",
   "execution_count": 14,
   "metadata": {},
   "outputs": [
    {
     "data": {
      "text/html": [
       "<div>\n",
       "<style scoped>\n",
       "    .dataframe tbody tr th:only-of-type {\n",
       "        vertical-align: middle;\n",
       "    }\n",
       "\n",
       "    .dataframe tbody tr th {\n",
       "        vertical-align: top;\n",
       "    }\n",
       "\n",
       "    .dataframe thead th {\n",
       "        text-align: right;\n",
       "    }\n",
       "</style>\n",
       "<table border=\"1\" class=\"dataframe\">\n",
       "  <thead>\n",
       "    <tr style=\"text-align: right;\">\n",
       "      <th></th>\n",
       "      <th>epsilon</th>\n",
       "      <th>tokens</th>\n",
       "      <th>score</th>\n",
       "      <th>optimal_value</th>\n",
       "      <th>optimal_policy</th>\n",
       "    </tr>\n",
       "  </thead>\n",
       "  <tbody>\n",
       "    <tr>\n",
       "      <th>0</th>\n",
       "      <td>1</td>\n",
       "      <td>0</td>\n",
       "      <td>0</td>\n",
       "      <td>0.000000</td>\n",
       "      <td>-1</td>\n",
       "    </tr>\n",
       "    <tr>\n",
       "      <th>1</th>\n",
       "      <td>1</td>\n",
       "      <td>0</td>\n",
       "      <td>1</td>\n",
       "      <td>0.000000</td>\n",
       "      <td>-1</td>\n",
       "    </tr>\n",
       "    <tr>\n",
       "      <th>2</th>\n",
       "      <td>1</td>\n",
       "      <td>0</td>\n",
       "      <td>2</td>\n",
       "      <td>2.887532</td>\n",
       "      <td>55</td>\n",
       "    </tr>\n",
       "    <tr>\n",
       "      <th>3</th>\n",
       "      <td>1</td>\n",
       "      <td>0</td>\n",
       "      <td>3</td>\n",
       "      <td>3.897533</td>\n",
       "      <td>40</td>\n",
       "    </tr>\n",
       "    <tr>\n",
       "      <th>4</th>\n",
       "      <td>1</td>\n",
       "      <td>0</td>\n",
       "      <td>4</td>\n",
       "      <td>2.329057</td>\n",
       "      <td>295</td>\n",
       "    </tr>\n",
       "    <tr>\n",
       "      <th>...</th>\n",
       "      <td>...</td>\n",
       "      <td>...</td>\n",
       "      <td>...</td>\n",
       "      <td>...</td>\n",
       "      <td>...</td>\n",
       "    </tr>\n",
       "    <tr>\n",
       "      <th>35135</th>\n",
       "      <td>7</td>\n",
       "      <td>9</td>\n",
       "      <td>497</td>\n",
       "      <td>9.000000</td>\n",
       "      <td>750</td>\n",
       "    </tr>\n",
       "    <tr>\n",
       "      <th>35136</th>\n",
       "      <td>7</td>\n",
       "      <td>9</td>\n",
       "      <td>498</td>\n",
       "      <td>9.000000</td>\n",
       "      <td>750</td>\n",
       "    </tr>\n",
       "    <tr>\n",
       "      <th>35137</th>\n",
       "      <td>7</td>\n",
       "      <td>9</td>\n",
       "      <td>499</td>\n",
       "      <td>9.000000</td>\n",
       "      <td>750</td>\n",
       "    </tr>\n",
       "    <tr>\n",
       "      <th>35138</th>\n",
       "      <td>7</td>\n",
       "      <td>9</td>\n",
       "      <td>500</td>\n",
       "      <td>9.000000</td>\n",
       "      <td>750</td>\n",
       "    </tr>\n",
       "    <tr>\n",
       "      <th>35139</th>\n",
       "      <td>7</td>\n",
       "      <td>9</td>\n",
       "      <td>501</td>\n",
       "      <td>9.000000</td>\n",
       "      <td>750</td>\n",
       "    </tr>\n",
       "  </tbody>\n",
       "</table>\n",
       "<p>35140 rows × 5 columns</p>\n",
       "</div>"
      ],
      "text/plain": [
       "      epsilon tokens score  optimal_value optimal_policy\n",
       "0           1      0     0       0.000000             -1\n",
       "1           1      0     1       0.000000             -1\n",
       "2           1      0     2       2.887532             55\n",
       "3           1      0     3       3.897533             40\n",
       "4           1      0     4       2.329057            295\n",
       "...       ...    ...   ...            ...            ...\n",
       "35135       7      9   497       9.000000            750\n",
       "35136       7      9   498       9.000000            750\n",
       "35137       7      9   499       9.000000            750\n",
       "35138       7      9   500       9.000000            750\n",
       "35139       7      9   501       9.000000            750\n",
       "\n",
       "[35140 rows x 5 columns]"
      ]
     },
     "execution_count": 14,
     "metadata": {},
     "output_type": "execute_result"
    }
   ],
   "source": [
    "df"
   ]
  }
 ],
 "metadata": {
  "kernelspec": {
   "display_name": "darts",
   "language": "python",
   "name": "python3"
  },
  "language_info": {
   "codemirror_mode": {
    "name": "ipython",
    "version": 3
   },
   "file_extension": ".py",
   "mimetype": "text/x-python",
   "name": "python",
   "nbconvert_exporter": "python",
   "pygments_lexer": "ipython3",
   "version": "3.10.9"
  },
  "orig_nbformat": 4,
  "vscode": {
   "interpreter": {
    "hash": "a8a57194bbeb03cec992a62989c4918360c5f4e4ce600e16b9e817797d129cef"
   }
  }
 },
 "nbformat": 4,
 "nbformat_minor": 2
}
