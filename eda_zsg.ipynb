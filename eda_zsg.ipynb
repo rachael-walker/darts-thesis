{
 "cells": [
  {
   "cell_type": "markdown",
   "source": [
    "# 0. Notebook Setup\n",
    "\n",
    "The goal of this notebook will be to (1) validate the output of the ZSG results and (2) evaluate their added value.\n",
    "\n",
    "First, we will validate by making sure the win probabilities are similar to those of the non-strategic policy evaluation. It will also be interesting to see whether the ZSG optimization benefits the weaker or stronger player more.\n",
    "\n",
    "Second, we will examine how much the optimal policy changes using the optimal ZSG approach."
   ],
   "metadata": {
    "collapsed": false
   }
  },
  {
   "cell_type": "code",
   "execution_count": 3,
   "outputs": [],
   "source": [
    "import function_tool as ft\n",
    "\n",
    "import pandas as pd\n",
    "\n",
    "import init_simple_mdp as imdp"
   ],
   "metadata": {
    "collapsed": false
   }
  },
  {
   "cell_type": "code",
   "execution_count": 4,
   "outputs": [
    {
     "name": "stdout",
     "output_type": "stream",
     "text": [
      "['SI20-c-o', 'SI20-c-m', 'SI20-c-i', 'SO20-c-o', 'SO20-c-m', 'SO20-c-i', 'D20-c-o', 'D20-c-m', 'D20-c-i', 'T20-c-o', 'T20-c-m', 'T20-c-i', 'SI20-cc-o', 'SI20-cc-m', 'SI20-cc-i', 'SO20-cc-o', 'SO20-cc-m', 'SO20-cc-i', 'D20-cc-o', 'D20-cc-m', 'D20-cc-i', 'T20-cc-o', 'T20-cc-m', 'T20-cc-i', 'SI20-cw-o', 'SI20-cw-m', 'SI20-cw-i', 'SO20-cw-o', 'SO20-cw-m', 'SO20-cw-i', 'D20-cw-o', 'D20-cw-m', 'D20-cw-i', 'T20-cw-o', 'T20-cw-m', 'T20-cw-i', 'SI1-c-o', 'SI1-c-m', 'SI1-c-i', 'SO1-c-o', 'SO1-c-m', 'SO1-c-i', 'D1-c-o', 'D1-c-m', 'D1-c-i', 'T1-c-o', 'T1-c-m', 'T1-c-i', 'SI1-cc-o', 'SI1-cc-m', 'SI1-cc-i', 'SO1-cc-o', 'SO1-cc-m', 'SO1-cc-i', 'D1-cc-o', 'D1-cc-m', 'D1-cc-i', 'T1-cc-o', 'T1-cc-m', 'T1-cc-i', 'SI1-cw-o', 'SI1-cw-m', 'SI1-cw-i', 'SO1-cw-o', 'SO1-cw-m', 'SO1-cw-i', 'D1-cw-o', 'D1-cw-m', 'D1-cw-i', 'T1-cw-o', 'T1-cw-m', 'T1-cw-i', 'SI18-c-o', 'SI18-c-m', 'SI18-c-i', 'SO18-c-o', 'SO18-c-m', 'SO18-c-i', 'D18-c-o', 'D18-c-m', 'D18-c-i', 'T18-c-o', 'T18-c-m', 'T18-c-i', 'SI18-cc-o', 'SI18-cc-m', 'SI18-cc-i', 'SO18-cc-o', 'SO18-cc-m', 'SO18-cc-i', 'D18-cc-o', 'D18-cc-m', 'D18-cc-i', 'T18-cc-o', 'T18-cc-m', 'T18-cc-i', 'SI18-cw-o', 'SI18-cw-m', 'SI18-cw-i', 'SO18-cw-o', 'SO18-cw-m', 'SO18-cw-i', 'D18-cw-o', 'D18-cw-m', 'D18-cw-i', 'T18-cw-o', 'T18-cw-m', 'T18-cw-i', 'SI4-c-o', 'SI4-c-m', 'SI4-c-i', 'SO4-c-o', 'SO4-c-m', 'SO4-c-i', 'D4-c-o', 'D4-c-m', 'D4-c-i', 'T4-c-o', 'T4-c-m', 'T4-c-i', 'SI4-cc-o', 'SI4-cc-m', 'SI4-cc-i', 'SO4-cc-o', 'SO4-cc-m', 'SO4-cc-i', 'D4-cc-o', 'D4-cc-m', 'D4-cc-i', 'T4-cc-o', 'T4-cc-m', 'T4-cc-i', 'SI4-cw-o', 'SI4-cw-m', 'SI4-cw-i', 'SO4-cw-o', 'SO4-cw-m', 'SO4-cw-i', 'D4-cw-o', 'D4-cw-m', 'D4-cw-i', 'T4-cw-o', 'T4-cw-m', 'T4-cw-i', 'SI13-c-o', 'SI13-c-m', 'SI13-c-i', 'SO13-c-o', 'SO13-c-m', 'SO13-c-i', 'D13-c-o', 'D13-c-m', 'D13-c-i', 'T13-c-o', 'T13-c-m', 'T13-c-i', 'SI13-cc-o', 'SI13-cc-m', 'SI13-cc-i', 'SO13-cc-o', 'SO13-cc-m', 'SO13-cc-i', 'D13-cc-o', 'D13-cc-m', 'D13-cc-i', 'T13-cc-o', 'T13-cc-m', 'T13-cc-i', 'SI13-cw-o', 'SI13-cw-m', 'SI13-cw-i', 'SO13-cw-o', 'SO13-cw-m', 'SO13-cw-i', 'D13-cw-o', 'D13-cw-m', 'D13-cw-i', 'T13-cw-o', 'T13-cw-m', 'T13-cw-i', 'SI6-c-o', 'SI6-c-m', 'SI6-c-i', 'SO6-c-o', 'SO6-c-m', 'SO6-c-i', 'D6-c-o', 'D6-c-m', 'D6-c-i', 'T6-c-o', 'T6-c-m', 'T6-c-i', 'SI6-cc-o', 'SI6-cc-m', 'SI6-cc-i', 'SO6-cc-o', 'SO6-cc-m', 'SO6-cc-i', 'D6-cc-o', 'D6-cc-m', 'D6-cc-i', 'T6-cc-o', 'T6-cc-m', 'T6-cc-i', 'SI6-cw-o', 'SI6-cw-m', 'SI6-cw-i', 'SO6-cw-o', 'SO6-cw-m', 'SO6-cw-i', 'D6-cw-o', 'D6-cw-m', 'D6-cw-i', 'T6-cw-o', 'T6-cw-m', 'T6-cw-i', 'SI10-c-o', 'SI10-c-m', 'SI10-c-i', 'SO10-c-o', 'SO10-c-m', 'SO10-c-i', 'D10-c-o', 'D10-c-m', 'D10-c-i', 'T10-c-o', 'T10-c-m', 'T10-c-i', 'SI10-cc-o', 'SI10-cc-m', 'SI10-cc-i', 'SO10-cc-o', 'SO10-cc-m', 'SO10-cc-i', 'D10-cc-o', 'D10-cc-m', 'D10-cc-i', 'T10-cc-o', 'T10-cc-m', 'T10-cc-i', 'SI10-cw-o', 'SI10-cw-m', 'SI10-cw-i', 'SO10-cw-o', 'SO10-cw-m', 'SO10-cw-i', 'D10-cw-o', 'D10-cw-m', 'D10-cw-i', 'T10-cw-o', 'T10-cw-m', 'T10-cw-i', 'SI15-c-o', 'SI15-c-m', 'SI15-c-i', 'SO15-c-o', 'SO15-c-m', 'SO15-c-i', 'D15-c-o', 'D15-c-m', 'D15-c-i', 'T15-c-o', 'T15-c-m', 'T15-c-i', 'SI15-cc-o', 'SI15-cc-m', 'SI15-cc-i', 'SO15-cc-o', 'SO15-cc-m', 'SO15-cc-i', 'D15-cc-o', 'D15-cc-m', 'D15-cc-i', 'T15-cc-o', 'T15-cc-m', 'T15-cc-i', 'SI15-cw-o', 'SI15-cw-m', 'SI15-cw-i', 'SO15-cw-o', 'SO15-cw-m', 'SO15-cw-i', 'D15-cw-o', 'D15-cw-m', 'D15-cw-i', 'T15-cw-o', 'T15-cw-m', 'T15-cw-i', 'SI2-c-o', 'SI2-c-m', 'SI2-c-i', 'SO2-c-o', 'SO2-c-m', 'SO2-c-i', 'D2-c-o', 'D2-c-m', 'D2-c-i', 'T2-c-o', 'T2-c-m', 'T2-c-i', 'SI2-cc-o', 'SI2-cc-m', 'SI2-cc-i', 'SO2-cc-o', 'SO2-cc-m', 'SO2-cc-i', 'D2-cc-o', 'D2-cc-m', 'D2-cc-i', 'T2-cc-o', 'T2-cc-m', 'T2-cc-i', 'SI2-cw-o', 'SI2-cw-m', 'SI2-cw-i', 'SO2-cw-o', 'SO2-cw-m', 'SO2-cw-i', 'D2-cw-o', 'D2-cw-m', 'D2-cw-i', 'T2-cw-o', 'T2-cw-m', 'T2-cw-i', 'SI17-c-o', 'SI17-c-m', 'SI17-c-i', 'SO17-c-o', 'SO17-c-m', 'SO17-c-i', 'D17-c-o', 'D17-c-m', 'D17-c-i', 'T17-c-o', 'T17-c-m', 'T17-c-i', 'SI17-cc-o', 'SI17-cc-m', 'SI17-cc-i', 'SO17-cc-o', 'SO17-cc-m', 'SO17-cc-i', 'D17-cc-o', 'D17-cc-m', 'D17-cc-i', 'T17-cc-o', 'T17-cc-m', 'T17-cc-i', 'SI17-cw-o', 'SI17-cw-m', 'SI17-cw-i', 'SO17-cw-o', 'SO17-cw-m', 'SO17-cw-i', 'D17-cw-o', 'D17-cw-m', 'D17-cw-i', 'T17-cw-o', 'T17-cw-m', 'T17-cw-i', 'SI3-c-o', 'SI3-c-m', 'SI3-c-i', 'SO3-c-o', 'SO3-c-m', 'SO3-c-i', 'D3-c-o', 'D3-c-m', 'D3-c-i', 'T3-c-o', 'T3-c-m', 'T3-c-i', 'SI3-cc-o', 'SI3-cc-m', 'SI3-cc-i', 'SO3-cc-o', 'SO3-cc-m', 'SO3-cc-i', 'D3-cc-o', 'D3-cc-m', 'D3-cc-i', 'T3-cc-o', 'T3-cc-m', 'T3-cc-i', 'SI3-cw-o', 'SI3-cw-m', 'SI3-cw-i', 'SO3-cw-o', 'SO3-cw-m', 'SO3-cw-i', 'D3-cw-o', 'D3-cw-m', 'D3-cw-i', 'T3-cw-o', 'T3-cw-m', 'T3-cw-i', 'SI19-c-o', 'SI19-c-m', 'SI19-c-i', 'SO19-c-o', 'SO19-c-m', 'SO19-c-i', 'D19-c-o', 'D19-c-m', 'D19-c-i', 'T19-c-o', 'T19-c-m', 'T19-c-i', 'SI19-cc-o', 'SI19-cc-m', 'SI19-cc-i', 'SO19-cc-o', 'SO19-cc-m', 'SO19-cc-i', 'D19-cc-o', 'D19-cc-m', 'D19-cc-i', 'T19-cc-o', 'T19-cc-m', 'T19-cc-i', 'SI19-cw-o', 'SI19-cw-m', 'SI19-cw-i', 'SO19-cw-o', 'SO19-cw-m', 'SO19-cw-i', 'D19-cw-o', 'D19-cw-m', 'D19-cw-i', 'T19-cw-o', 'T19-cw-m', 'T19-cw-i', 'SI7-c-o', 'SI7-c-m', 'SI7-c-i', 'SO7-c-o', 'SO7-c-m', 'SO7-c-i', 'D7-c-o', 'D7-c-m', 'D7-c-i', 'T7-c-o', 'T7-c-m', 'T7-c-i', 'SI7-cc-o', 'SI7-cc-m', 'SI7-cc-i', 'SO7-cc-o', 'SO7-cc-m', 'SO7-cc-i', 'D7-cc-o', 'D7-cc-m', 'D7-cc-i', 'T7-cc-o', 'T7-cc-m', 'T7-cc-i', 'SI7-cw-o', 'SI7-cw-m', 'SI7-cw-i', 'SO7-cw-o', 'SO7-cw-m', 'SO7-cw-i', 'D7-cw-o', 'D7-cw-m', 'D7-cw-i', 'T7-cw-o', 'T7-cw-m', 'T7-cw-i', 'SI16-c-o', 'SI16-c-m', 'SI16-c-i', 'SO16-c-o', 'SO16-c-m', 'SO16-c-i', 'D16-c-o', 'D16-c-m', 'D16-c-i', 'T16-c-o', 'T16-c-m', 'T16-c-i', 'SI16-cc-o', 'SI16-cc-m', 'SI16-cc-i', 'SO16-cc-o', 'SO16-cc-m', 'SO16-cc-i', 'D16-cc-o', 'D16-cc-m', 'D16-cc-i', 'T16-cc-o', 'T16-cc-m', 'T16-cc-i', 'SI16-cw-o', 'SI16-cw-m', 'SI16-cw-i', 'SO16-cw-o', 'SO16-cw-m', 'SO16-cw-i', 'D16-cw-o', 'D16-cw-m', 'D16-cw-i', 'T16-cw-o', 'T16-cw-m', 'T16-cw-i', 'SI8-c-o', 'SI8-c-m', 'SI8-c-i', 'SO8-c-o', 'SO8-c-m', 'SO8-c-i', 'D8-c-o', 'D8-c-m', 'D8-c-i', 'T8-c-o', 'T8-c-m', 'T8-c-i', 'SI8-cc-o', 'SI8-cc-m', 'SI8-cc-i', 'SO8-cc-o', 'SO8-cc-m', 'SO8-cc-i', 'D8-cc-o', 'D8-cc-m', 'D8-cc-i', 'T8-cc-o', 'T8-cc-m', 'T8-cc-i', 'SI8-cw-o', 'SI8-cw-m', 'SI8-cw-i', 'SO8-cw-o', 'SO8-cw-m', 'SO8-cw-i', 'D8-cw-o', 'D8-cw-m', 'D8-cw-i', 'T8-cw-o', 'T8-cw-m', 'T8-cw-i', 'SI11-c-o', 'SI11-c-m', 'SI11-c-i', 'SO11-c-o', 'SO11-c-m', 'SO11-c-i', 'D11-c-o', 'D11-c-m', 'D11-c-i', 'T11-c-o', 'T11-c-m', 'T11-c-i', 'SI11-cc-o', 'SI11-cc-m', 'SI11-cc-i', 'SO11-cc-o', 'SO11-cc-m', 'SO11-cc-i', 'D11-cc-o', 'D11-cc-m', 'D11-cc-i', 'T11-cc-o', 'T11-cc-m', 'T11-cc-i', 'SI11-cw-o', 'SI11-cw-m', 'SI11-cw-i', 'SO11-cw-o', 'SO11-cw-m', 'SO11-cw-i', 'D11-cw-o', 'D11-cw-m', 'D11-cw-i', 'T11-cw-o', 'T11-cw-m', 'T11-cw-i', 'SI14-c-o', 'SI14-c-m', 'SI14-c-i', 'SO14-c-o', 'SO14-c-m', 'SO14-c-i', 'D14-c-o', 'D14-c-m', 'D14-c-i', 'T14-c-o', 'T14-c-m', 'T14-c-i', 'SI14-cc-o', 'SI14-cc-m', 'SI14-cc-i', 'SO14-cc-o', 'SO14-cc-m', 'SO14-cc-i', 'D14-cc-o', 'D14-cc-m', 'D14-cc-i', 'T14-cc-o', 'T14-cc-m', 'T14-cc-i', 'SI14-cw-o', 'SI14-cw-m', 'SI14-cw-i', 'SO14-cw-o', 'SO14-cw-m', 'SO14-cw-i', 'D14-cw-o', 'D14-cw-m', 'D14-cw-i', 'T14-cw-o', 'T14-cw-m', 'T14-cw-i', 'SI9-c-o', 'SI9-c-m', 'SI9-c-i', 'SO9-c-o', 'SO9-c-m', 'SO9-c-i', 'D9-c-o', 'D9-c-m', 'D9-c-i', 'T9-c-o', 'T9-c-m', 'T9-c-i', 'SI9-cc-o', 'SI9-cc-m', 'SI9-cc-i', 'SO9-cc-o', 'SO9-cc-m', 'SO9-cc-i', 'D9-cc-o', 'D9-cc-m', 'D9-cc-i', 'T9-cc-o', 'T9-cc-m', 'T9-cc-i', 'SI9-cw-o', 'SI9-cw-m', 'SI9-cw-i', 'SO9-cw-o', 'SO9-cw-m', 'SO9-cw-i', 'D9-cw-o', 'D9-cw-m', 'D9-cw-i', 'T9-cw-o', 'T9-cw-m', 'T9-cw-i', 'SI12-c-o', 'SI12-c-m', 'SI12-c-i', 'SO12-c-o', 'SO12-c-m', 'SO12-c-i', 'D12-c-o', 'D12-c-m', 'D12-c-i', 'T12-c-o', 'T12-c-m', 'T12-c-i', 'SI12-cc-o', 'SI12-cc-m', 'SI12-cc-i', 'SO12-cc-o', 'SO12-cc-m', 'SO12-cc-i', 'D12-cc-o', 'D12-cc-m', 'D12-cc-i', 'T12-cc-o', 'T12-cc-m', 'T12-cc-i', 'SI12-cw-o', 'SI12-cw-m', 'SI12-cw-i', 'SO12-cw-o', 'SO12-cw-m', 'SO12-cw-i', 'D12-cw-o', 'D12-cw-m', 'D12-cw-i', 'T12-cw-o', 'T12-cw-m', 'T12-cw-i', 'SI5-c-o', 'SI5-c-m', 'SI5-c-i', 'SO5-c-o', 'SO5-c-m', 'SO5-c-i', 'D5-c-o', 'D5-c-m', 'D5-c-i', 'T5-c-o', 'T5-c-m', 'T5-c-i', 'SI5-cc-o', 'SI5-cc-m', 'SI5-cc-i', 'SO5-cc-o', 'SO5-cc-m', 'SO5-cc-i', 'D5-cc-o', 'D5-cc-m', 'D5-cc-i', 'T5-cc-o', 'T5-cc-m', 'T5-cc-i', 'SI5-cw-o', 'SI5-cw-m', 'SI5-cw-i', 'SO5-cw-o', 'SO5-cw-m', 'SO5-cw-i', 'D5-cw-o', 'D5-cw-m', 'D5-cw-i', 'T5-cw-o', 'T5-cw-m', 'T5-cw-i', 'SB-n', 'SB-s', 'SB-e', 'SB-w', 'SB-ne', 'SB-se', 'SB-sw', 'SB-nw', 'DB-c', 'S20', 'S1', 'S18', 'S4', 'S13', 'S6', 'S10', 'S15', 'S2', 'S17', 'S3', 'S19', 'S7', 'S16', 'S8', 'S11', 'S14', 'S9', 'S12', 'S5', 'SB', 'DB', 'D20', 'D1', 'D18', 'D4', 'D13', 'D6', 'D10', 'D15', 'D2', 'D17', 'D3', 'D19', 'D7', 'D16', 'D8', 'D11', 'D14', 'D9', 'D12', 'D5', 'T20', 'T1', 'T18', 'T4', 'T13', 'T6', 'T10', 'T15', 'T2', 'T17', 'T3', 'T19', 'T7', 'T16', 'T8', 'T11', 'T14', 'T9', 'T12', 'T5']\n"
     ]
    }
   ],
   "source": [
    "print(imdp.a_list)"
   ],
   "metadata": {
    "collapsed": false
   }
  },
  {
   "cell_type": "markdown",
   "source": [
    "# 1. Win Probability Validation"
   ],
   "metadata": {
    "collapsed": false
   }
  },
  {
   "cell_type": "markdown",
   "source": [
    "This section will compare $\\epsilon=1$ vs $\\epsilon=2$."
   ],
   "metadata": {
    "collapsed": false
   }
  },
  {
   "cell_type": "code",
   "execution_count": null,
   "outputs": [],
   "source": [
    "zsg_e1e2_value = ft.load_pickle('result/zsg_value_W_player10e2_S_player10e1__optboth.pkl')\n",
    "#zsg_e1e9_value = ft.load_pickle('result/zsg_value_W_player10e9_S_player10e1__optboth.pkl')"
   ],
   "metadata": {
    "collapsed": false
   }
  },
  {
   "cell_type": "code",
   "execution_count": 34,
   "outputs": [],
   "source": [
    "df_ns_win_probs = pd.read_csv('player10_win_probability_results_stronger_e1.csv')"
   ],
   "metadata": {
    "collapsed": false
   }
  },
  {
   "cell_type": "code",
   "execution_count": 35,
   "outputs": [],
   "source": [
    "df_ns_win_probs_e1e2 = df_ns_win_probs.loc[(df_ns_win_probs.epsilon_weaker==2) & (df_ns_win_probs.epsilon_stronger==1)]"
   ],
   "metadata": {
    "collapsed": false
   }
  },
  {
   "cell_type": "markdown",
   "source": [
    "The values printed out below correspond to the probability the weaker player wins given that it is the weaker player's turn at the starting state. The values are printed out for each policy to be compared."
   ],
   "metadata": {
    "collapsed": false
   }
  },
  {
   "cell_type": "code",
   "execution_count": 19,
   "outputs": [
    {
     "name": "stdout",
     "output_type": "stream",
     "text": [
      "-----------------------------------------------------------------------------------------------\n",
      "Case 3: weaker 2 vs. stronger 2\n",
      "ZSG Values: [0.55092268 1.         1.         1.         1.         1.\n",
      " 1.         1.         1.         1.        ]\n",
      "NonStrategic Values: [0.55092268 1.         1.         1.         1.         1.\n",
      " 1.         1.         1.         1.        ]\n",
      "-----------------------------------------------------------------------------------------------\n",
      "Case 3: weaker 7 vs. stronger 7\n",
      "ZSG Values: [0.56210404 0.49659474 1.         1.         1.         1.\n",
      " 1.         1.         1.         1.        ]\n",
      "NonStrategic Values: [0.5590919  0.96926162 1.         1.         1.         1.\n",
      " 1.         1.         1.         1.        ]\n",
      "-----------------------------------------------------------------------------------------------\n",
      "Case 3: weaker 75 vs. stronger 100\n",
      "ZSG Values: [0.50811969 0.31045129 0.31986119 0.52260567 0.52446767 0.52457973\n",
      " 0.52457977 0.52457977 0.52457977 0.52457977]\n",
      "NonStrategic Values: [0.59322682 0.99068359 1.         1.         1.         1.\n",
      " 1.         1.         1.         1.        ]\n",
      "-----------------------------------------------------------------------------------------------\n",
      "Case 3: weaker 100 vs. stronger 75\n",
      "ZSG Values: [0.36634708 0.23408212 0.13649617 0.28341388 0.29383206 0.29415514\n",
      " 0.29415985 0.29415985 0.29415985 0.29415985]\n",
      "NonStrategic Values: [0.4230453  0.73909898 1.         1.         1.         1.\n",
      " 1.         1.         1.         1.        ]\n",
      "-----------------------------------------------------------------------------------------------\n",
      "Case 3: stronger 75 vs. weaker 75\n",
      "ZSG Values: [0.47383367 0.26073936 0.29868437 0.46715928 0.46877992 0.46886655\n",
      " 0.46886658 0.46886658 0.46886658 0.46886658]\n",
      "NonStrategic Values: [0.52715193 0.98699404 1.         1.         1.         1.\n",
      " 1.         1.         1.         1.        ]\n"
     ]
    }
   ],
   "source": [
    "# Test Cases\n",
    "\n",
    "print(\"-----------------------------------------------------------------------------------------------\")\n",
    "# 2 vs 2\n",
    "print(\"Case 3: weaker 2 vs. stronger 2\")\n",
    "ns_val = df_ns_win_probs_e1e2[(df_ns_win_probs_e1e2.score_weaker==2) & (df_ns_win_probs_e1e2.score_stronger==2) & (df_ns_win_probs_e1e2.current_turn=='weaker')].win_probability_weaker.values\n",
    "print(f\"ZSG Values: {zsg_101_e1e2value_pw[:,2,2]}\")\n",
    "print(f\"NonStrategic Values: {ns_val}\")\n",
    "\n",
    "print(\"-----------------------------------------------------------------------------------------------\")\n",
    "# 7 vs 7\n",
    "print(\"Case 3: weaker 7 vs. stronger 7\")\n",
    "ns_val = df_ns_win_probs_e1e2[(df_ns_win_probs_e1e2.score_weaker==7) & (df_ns_win_probs_e1e2.score_stronger==7) & (df_ns_win_probs_e1e2.current_turn=='weaker')].win_probability_weaker.values\n",
    "print(f\"ZSG Values: {zsg_101_e1e2value_pw[:,7,7]}\")\n",
    "print(f\"NonStrategic Values: {ns_val}\")\n",
    "\n",
    "print(\"-----------------------------------------------------------------------------------------------\")\n",
    "# 100 vs 100\n",
    "print(\"Case 3: weaker 75 vs. stronger 100\")\n",
    "ns_val = df_ns_win_probs_e1e2[(df_ns_win_probs_e1e2.score_weaker==75) & (df_ns_win_probs_e1e2.score_stronger==100) & (df_ns_win_probs_e1e2.current_turn=='weaker')].win_probability_weaker.values\n",
    "print(f\"ZSG Values: {zsg_101_e1e2value_pw[:,75,100]}\")\n",
    "print(f\"NonStrategic Values: {ns_val}\")\n",
    "\n",
    "print(\"-----------------------------------------------------------------------------------------------\")\n",
    "# 100 vs 75\n",
    "print(\"Case 3: weaker 100 vs. stronger 75\")\n",
    "ns_val = df_ns_win_probs_e1e2[(df_ns_win_probs_e1e2.score_weaker==100) & (df_ns_win_probs_e1e2.score_stronger==75) & (df_ns_win_probs_e1e2.current_turn=='weaker')].win_probability_weaker.values\n",
    "print(f\"ZSG Values: {zsg_101_e1e2value_pw[:,100,75]}\")\n",
    "print(f\"NonStrategic Values: {ns_val}\")\n",
    "\n",
    "print(\"-----------------------------------------------------------------------------------------------\")\n",
    "# 75 vs 75\n",
    "print(\"Case 3: stronger 75 vs. weaker 75\")\n",
    "ns_val = df_ns_win_probs_e1e2[(df_ns_win_probs_e1e2.score_weaker==75) & (df_ns_win_probs_e1e2.score_stronger==75) & (df_ns_win_probs_e1e2.current_turn=='weaker')].win_probability_weaker.values\n",
    "print(f\"ZSG Values: {zsg_101_e1e2value_pw[:,75,75]}\")\n",
    "print(f\"NonStrategic Values: {ns_val}\")"
   ],
   "metadata": {
    "collapsed": false
   }
  },
  {
   "cell_type": "code",
   "execution_count": 38,
   "outputs": [
    {
     "data": {
      "text/plain": "array([0.74102472, 1.        , 1.        , 1.        , 1.        ,\n       1.        , 1.        , 1.        , 1.        , 1.        ])"
     },
     "execution_count": 38,
     "metadata": {},
     "output_type": "execute_result"
    }
   ],
   "source": [
    "score_weak = 8\n",
    "score_strong = 3\n",
    "ns_val = df_ns_win_probs_e1e2[(df_ns_win_probs_e1e2.score_weaker==score_weak) & (df_ns_win_probs_e1e2.score_stronger==score_strong) & (df_ns_win_probs_e1e2.current_turn=='weaker')].win_probability_weaker.values\n",
    "\n",
    "ns_val"
   ],
   "metadata": {
    "collapsed": false
   }
  },
  {
   "cell_type": "markdown",
   "source": [
    "# 3.0 Policy Exploration"
   ],
   "metadata": {
    "collapsed": false
   }
  },
  {
   "cell_type": "code",
   "execution_count": 4,
   "outputs": [],
   "source": [
    "# ZSG Policy\n",
    "zsg_e1e2 = ft.load_pickle('result/zsg_W_player10e2_S_player10e1__optboth.pkl')"
   ],
   "metadata": {
    "collapsed": false
   }
  },
  {
   "cell_type": "code",
   "execution_count": 5,
   "outputs": [],
   "source": [
    "zsg_e1e2_e2_policy = zsg_e1e2['optimal_action_index_dic_pw']\n",
    "zsg_e1e2_e1_policy = zsg_e1e2['optimal_action_index_dic_ps']"
   ],
   "metadata": {
    "collapsed": false
   }
  },
  {
   "cell_type": "code",
   "execution_count": null,
   "outputs": [],
   "source": [
    "# Non-strategic policy\n",
    "e1_ns_result_dic = ft.load_pickle('result/singlegame_player10_e1_turn_tokens.pkl')\n",
    "e2_ns_result_dic =ft.load_pickle('result/singlegame_player10_e2_turn_tokens.pkl')\n",
    "e9_ns_result_dic =ft.load_pickle('result/singlegame_player10_e9_turn_tokens.pkl')"
   ],
   "metadata": {
    "collapsed": false
   }
  },
  {
   "cell_type": "code",
   "execution_count": 13,
   "outputs": [
    {
     "data": {
      "text/plain": "[None,\n array([[294, 226,  56, ...,  -1,  -1,  -1],\n        [759,   0, 752, ...,  -1,  -1,  -1],\n        [759,   0, 752, ...,  -1,  -1,  -1],\n        ...,\n        [759,   0, 752, ...,  -1,  -1,  -1],\n        [759,   0, 752, ...,  -1,  -1,  -1],\n        [759,   0, 752, ...,  -1,  -1,  -1]]),\n array([[294,  40,  42,  -1,  -1,  -1,  -1,  -1,  -1,  -1,  -1,  -1,  -1,\n          -1,  -1,  -1,  -1,  -1,  -1,  -1,  -1,  -1,  -1,  -1,  -1,  -1,\n          -1,  -1,  -1,  -1,  -1,  -1,  -1,  -1,  -1,  -1,  -1,  -1,  -1,\n          -1,  -1,  -1,  -1,  -1,  -1,  -1,  -1,  -1,  -1,  -1,  -1,  -1,\n          -1,  -1,  -1,  -1,  -1,  -1,  -1,  -1,  -1],\n        [759,  40, 752,  -1,  -1,  -1,  -1,  -1,  -1,  -1,  -1,  -1,  -1,\n          -1,  -1,  -1,  -1,  -1,  -1,  -1,  -1,  -1,  -1,  -1,  -1,  -1,\n          -1,  -1,  -1,  -1,  -1,  -1,  -1,  -1,  -1,  -1,  -1,  -1,  -1,\n          -1,  -1,  -1,  -1,  -1,  -1,  -1,  -1,  -1,  -1,  -1,  -1,  -1,\n          -1,  -1,  -1,  -1,  -1,  -1,  -1,  -1,  -1],\n        [737, 730, 752,  -1,  -1,  -1,  -1,  -1,  -1,  -1,  -1,  -1,  -1,\n          -1,  -1,  -1,  -1,  -1,  -1,  -1,  -1,  -1,  -1,  -1,  -1,  -1,\n          -1,  -1,  -1,  -1,  -1,  -1,  -1,  -1,  -1,  -1,  -1,  -1,  -1,\n          -1,  -1,  -1,  -1,  -1,  -1,  -1,  -1,  -1,  -1,  -1,  -1,  -1,\n          -1,  -1,  -1,  -1,  -1,  -1,  -1,  -1,  -1],\n        [737, 730, 752,  -1,  -1,  -1,  -1,  -1,  -1,  -1,  -1,  -1,  -1,\n          -1,  -1,  -1,  -1,  -1,  -1,  -1,  -1,  -1,  -1,  -1,  -1,  -1,\n          -1,  -1,  -1,  -1,  -1,  -1,  -1,  -1,  -1,  -1,  -1,  -1,  -1,\n          -1,  -1,  -1,  -1,  -1,  -1,  -1,  -1,  -1,  -1,  -1,  -1,  -1,\n          -1,  -1,  -1,  -1,  -1,  -1,  -1,  -1,  -1],\n        [737, 730, 752,  -1,  -1,  -1,  -1,  -1,  -1,  -1,  -1,  -1,  -1,\n          -1,  -1,  -1,  -1,  -1,  -1,  -1,  -1,  -1,  -1,  -1,  -1,  -1,\n          -1,  -1,  -1,  -1,  -1,  -1,  -1,  -1,  -1,  -1,  -1,  -1,  -1,\n          -1,  -1,  -1,  -1,  -1,  -1,  -1,  -1,  -1,  -1,  -1,  -1,  -1,\n          -1,  -1,  -1,  -1,  -1,  -1,  -1,  -1,  -1],\n        [737, 730, 752,  -1,  -1,  -1,  -1,  -1,  -1,  -1,  -1,  -1,  -1,\n          -1,  -1,  -1,  -1,  -1,  -1,  -1,  -1,  -1,  -1,  -1,  -1,  -1,\n          -1,  -1,  -1,  -1,  -1,  -1,  -1,  -1,  -1,  -1,  -1,  -1,  -1,\n          -1,  -1,  -1,  -1,  -1,  -1,  -1,  -1,  -1,  -1,  -1,  -1,  -1,\n          -1,  -1,  -1,  -1,  -1,  -1,  -1,  -1,  -1],\n        [737, 730, 752,  -1,  -1,  -1,  -1,  -1,  -1,  -1,  -1,  -1,  -1,\n          -1,  -1,  -1,  -1,  -1,  -1,  -1,  -1,  -1,  -1,  -1,  -1,  -1,\n          -1,  -1,  -1,  -1,  -1,  -1,  -1,  -1,  -1,  -1,  -1,  -1,  -1,\n          -1,  -1,  -1,  -1,  -1,  -1,  -1,  -1,  -1,  -1,  -1,  -1,  -1,\n          -1,  -1,  -1,  -1,  -1,  -1,  -1,  -1,  -1],\n        [737, 730, 752,  -1,  -1,  -1,  -1,  -1,  -1,  -1,  -1,  -1,  -1,\n          -1,  -1,  -1,  -1,  -1,  -1,  -1,  -1,  -1,  -1,  -1,  -1,  -1,\n          -1,  -1,  -1,  -1,  -1,  -1,  -1,  -1,  -1,  -1,  -1,  -1,  -1,\n          -1,  -1,  -1,  -1,  -1,  -1,  -1,  -1,  -1,  -1,  -1,  -1,  -1,\n          -1,  -1,  -1,  -1,  -1,  -1,  -1,  -1,  -1],\n        [737, 730, 752,  -1,  -1,  -1,  -1,  -1,  -1,  -1,  -1,  -1,  -1,\n          -1,  -1,  -1,  -1,  -1,  -1,  -1,  -1,  -1,  -1,  -1,  -1,  -1,\n          -1,  -1,  -1,  -1,  -1,  -1,  -1,  -1,  -1,  -1,  -1,  -1,  -1,\n          -1,  -1,  -1,  -1,  -1,  -1,  -1,  -1,  -1,  -1,  -1,  -1,  -1,\n          -1,  -1,  -1,  -1,  -1,  -1,  -1,  -1,  -1],\n        [730, 730, 752,  -1,  -1,  -1,  -1,  -1,  -1,  -1,  -1,  -1,  -1,\n          -1,  -1,  -1,  -1,  -1,  -1,  -1,  -1,  -1,  -1,  -1,  -1,  -1,\n          -1,  -1,  -1,  -1,  -1,  -1,  -1,  -1,  -1,  -1,  -1,  -1,  -1,\n          -1,  -1,  -1,  -1,  -1,  -1,  -1,  -1,  -1,  -1,  -1,  -1,  -1,\n          -1,  -1,  -1,  -1,  -1,  -1,  -1,  -1,  -1]]),\n array([[294],\n        [759],\n        [737],\n        [730],\n        [730],\n        [730],\n        [730],\n        [730],\n        [730],\n        [730]])]"
     },
     "execution_count": 13,
     "metadata": {},
     "output_type": "execute_result"
    }
   ],
   "source": [
    "zsg_e1e2_e2_policy[4][2]"
   ],
   "metadata": {
    "collapsed": false
   }
  },
  {
   "cell_type": "code",
   "execution_count": 33,
   "outputs": [
    {
     "data": {
      "text/plain": "'D1'"
     },
     "execution_count": 33,
     "metadata": {},
     "output_type": "execute_result"
    }
   ],
   "source": [
    "imdp.a_list[752]"
   ],
   "metadata": {
    "collapsed": false
   }
  },
  {
   "cell_type": "code",
   "execution_count": 29,
   "outputs": [
    {
     "name": "stdout",
     "output_type": "stream",
     "text": [
      "[730 730 752  -1  -1  -1  -1  -1  -1  -1  -1  -1  -1  -1  -1  -1  -1  -1\n",
      "  -1  -1  -1  -1  -1  -1  -1  -1  -1  -1  -1  -1  -1  -1  -1  -1  -1  -1\n",
      "  -1  -1  -1  -1  -1  -1  -1  -1  -1  -1  -1  -1  -1  -1  -1  -1  -1  -1\n",
      "  -1  -1  -1  -1  -1  -1  -1]\n"
     ]
    }
   ],
   "source": [
    "print(zsg_e1e2_e2_policy[4][2][2][9])"
   ],
   "metadata": {
    "collapsed": false
   }
  },
  {
   "cell_type": "code",
   "execution_count": 30,
   "outputs": [
    {
     "name": "stdout",
     "output_type": "stream",
     "text": [
      "[759   0 752  -1  -1  -1  -1  -1  -1  -1  -1  -1  -1  -1  -1  -1  -1  -1\n",
      "  -1  -1  -1  -1  -1  -1  -1  -1  -1  -1  -1  -1  -1  -1  -1  -1  -1  -1\n",
      "  -1  -1  -1  -1  -1  -1  -1  -1  -1  -1  -1  -1  -1  -1  -1  -1  -1  -1\n",
      "  -1  -1  -1  -1  -1  -1  -1  -1  -1  -1  -1  -1  -1  -1  -1  -1  -1  -1\n",
      "  -1  -1  -1  -1  -1  -1  -1  -1  -1  -1  -1  -1  -1  -1  -1  -1  -1  -1\n",
      "  -1  -1  -1  -1  -1  -1  -1  -1  -1  -1  -1  -1  -1  -1  -1  -1  -1  -1\n",
      "  -1  -1  -1  -1  -1  -1  -1  -1  -1  -1  -1  -1  -1]\n"
     ]
    }
   ],
   "source": [
    "print(zsg_e1e2_e2_policy[4][2][1][9])"
   ],
   "metadata": {
    "collapsed": false
   }
  }
 ],
 "metadata": {
  "kernelspec": {
   "display_name": "darts",
   "language": "python",
   "name": "python3"
  },
  "language_info": {
   "codemirror_mode": {
    "name": "ipython",
    "version": 3
   },
   "file_extension": ".py",
   "mimetype": "text/x-python",
   "name": "python",
   "nbconvert_exporter": "python",
   "pygments_lexer": "ipython3",
   "version": "3.10.9"
  },
  "orig_nbformat": 4
 },
 "nbformat": 4,
 "nbformat_minor": 2
}
